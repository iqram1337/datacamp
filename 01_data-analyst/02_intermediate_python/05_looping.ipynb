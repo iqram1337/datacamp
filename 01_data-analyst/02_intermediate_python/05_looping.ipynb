{
 "cells": [
  {
   "cell_type": "markdown",
   "id": "64579039",
   "metadata": {},
   "source": [
    "# while looop"
   ]
  },
  {
   "cell_type": "code",
   "execution_count": 1,
   "id": "44bf1d0f",
   "metadata": {},
   "outputs": [
    {
     "name": "stdout",
     "output_type": "stream",
     "text": [
      "12.5\n",
      "3.125\n",
      "0.78125\n"
     ]
    }
   ],
   "source": [
    "error = 50.0\n",
    "\n",
    "while error > 1 :\n",
    "    error = error / 4\n",
    "    print(error)"
   ]
  },
  {
   "cell_type": "markdown",
   "id": "410ccd0f",
   "metadata": {},
   "source": [
    "# for loop"
   ]
  },
  {
   "cell_type": "code",
   "execution_count": 2,
   "id": "ef08a679",
   "metadata": {},
   "outputs": [
    {
     "name": "stdout",
     "output_type": "stream",
     "text": [
      "I\n",
      "Q\n",
      "R\n",
      "A\n",
      "M\n"
     ]
    }
   ],
   "source": [
    "for char in \"iqram\":\n",
    "    print(char.capitalize())"
   ]
  },
  {
   "cell_type": "code",
   "execution_count": 3,
   "id": "293664b5",
   "metadata": {},
   "outputs": [
    {
     "name": "stdout",
     "output_type": "stream",
     "text": [
      "person 0: 1.73\n",
      "person 1: 1.68\n",
      "person 2: 1.71\n",
      "person 3: 1.89\n"
     ]
    }
   ],
   "source": [
    "fam = [1.73, 1.68, 1.71, 1.89]\n",
    "\n",
    "for index, height in enumerate(fam) :\n",
    "    print(\"person \" + str(index) + \": \" + str(height))"
   ]
  },
  {
   "cell_type": "code",
   "execution_count": 4,
   "id": "be5537fb",
   "metadata": {},
   "outputs": [],
   "source": [
    "house = [[\"hallway\", 11.25], \n",
    "         [\"kitchen\", 18.0], \n",
    "         [\"living room\", 20.0], \n",
    "         [\"bedroom\", 10.75], \n",
    "         [\"bathroom\", 9.50]]"
   ]
  },
  {
   "cell_type": "code",
   "execution_count": 5,
   "id": "341cdf07",
   "metadata": {},
   "outputs": [
    {
     "data": {
      "text/plain": [
       "list"
      ]
     },
     "execution_count": 5,
     "metadata": {},
     "output_type": "execute_result"
    }
   ],
   "source": [
    "type(house)"
   ]
  },
  {
   "cell_type": "code",
   "execution_count": 6,
   "id": "db1801f5",
   "metadata": {},
   "outputs": [
    {
     "name": "stdout",
     "output_type": "stream",
     "text": [
      "the hallway is 11.25 sqm\n",
      "the kitchen is 18.0 sqm\n",
      "the living room is 20.0 sqm\n",
      "the bedroom is 10.75 sqm\n",
      "the bathroom is 9.5 sqm\n"
     ]
    }
   ],
   "source": [
    "for x, y in house:\n",
    "    print(f\"the {x} is {y} sqm\")"
   ]
  },
  {
   "cell_type": "markdown",
   "id": "d7183050",
   "metadata": {},
   "source": [
    "# Loop Data Structures"
   ]
  },
  {
   "cell_type": "code",
   "execution_count": 7,
   "id": "4739ed08",
   "metadata": {},
   "outputs": [],
   "source": [
    "europe = {'spain':'madrid', 'france':'paris', 'germany':'berlin',\n",
    "          'norway':'oslo', 'italy':'rome', 'poland':'warsaw', 'austria':'vienna' }"
   ]
  },
  {
   "cell_type": "code",
   "execution_count": 8,
   "id": "ed33419a",
   "metadata": {},
   "outputs": [
    {
     "data": {
      "text/plain": [
       "dict"
      ]
     },
     "execution_count": 8,
     "metadata": {},
     "output_type": "execute_result"
    }
   ],
   "source": [
    "type(europe)"
   ]
  },
  {
   "cell_type": "code",
   "execution_count": 9,
   "id": "ab186584",
   "metadata": {},
   "outputs": [
    {
     "name": "stdout",
     "output_type": "stream",
     "text": [
      "the capital of spain is madrid\n",
      "the capital of france is paris\n",
      "the capital of germany is berlin\n",
      "the capital of norway is oslo\n",
      "the capital of italy is rome\n",
      "the capital of poland is warsaw\n",
      "the capital of austria is vienna\n"
     ]
    }
   ],
   "source": [
    "for k, v in europe.items():\n",
    "    print(f\"the capital of {k} is {v}\")"
   ]
  },
  {
   "cell_type": "code",
   "execution_count": 10,
   "id": "3d3ab580",
   "metadata": {},
   "outputs": [],
   "source": [
    "import pandas as pd"
   ]
  },
  {
   "cell_type": "code",
   "execution_count": 11,
   "id": "4a679428",
   "metadata": {},
   "outputs": [],
   "source": [
    "names = ['United States', 'Australia', 'Japan', 'India', 'Russia', 'Morocco', 'Egypt']\n",
    "dr =  [True, False, False, False, True, True, True]\n",
    "cpc = [809, 731, 588, 18, 200, 70, 45]\n",
    "row_labels = ['US', 'AUS', 'JPN', 'IN', 'RU', 'MOR', 'EG']\n",
    "\n",
    "\n",
    "my_dict = {'country':names, 'drives_right':dr, 'cars_per_cap':cpc}\n",
    "cars = pd.DataFrame(my_dict)\n",
    "cars.index=row_labels"
   ]
  },
  {
   "cell_type": "code",
   "execution_count": 12,
   "id": "644ad1d1",
   "metadata": {
    "scrolled": true
   },
   "outputs": [
    {
     "data": {
      "text/html": [
       "<div>\n",
       "<style scoped>\n",
       "    .dataframe tbody tr th:only-of-type {\n",
       "        vertical-align: middle;\n",
       "    }\n",
       "\n",
       "    .dataframe tbody tr th {\n",
       "        vertical-align: top;\n",
       "    }\n",
       "\n",
       "    .dataframe thead th {\n",
       "        text-align: right;\n",
       "    }\n",
       "</style>\n",
       "<table border=\"1\" class=\"dataframe\">\n",
       "  <thead>\n",
       "    <tr style=\"text-align: right;\">\n",
       "      <th></th>\n",
       "      <th>country</th>\n",
       "      <th>drives_right</th>\n",
       "      <th>cars_per_cap</th>\n",
       "    </tr>\n",
       "  </thead>\n",
       "  <tbody>\n",
       "    <tr>\n",
       "      <th>US</th>\n",
       "      <td>United States</td>\n",
       "      <td>True</td>\n",
       "      <td>809</td>\n",
       "    </tr>\n",
       "    <tr>\n",
       "      <th>AUS</th>\n",
       "      <td>Australia</td>\n",
       "      <td>False</td>\n",
       "      <td>731</td>\n",
       "    </tr>\n",
       "    <tr>\n",
       "      <th>JPN</th>\n",
       "      <td>Japan</td>\n",
       "      <td>False</td>\n",
       "      <td>588</td>\n",
       "    </tr>\n",
       "    <tr>\n",
       "      <th>IN</th>\n",
       "      <td>India</td>\n",
       "      <td>False</td>\n",
       "      <td>18</td>\n",
       "    </tr>\n",
       "    <tr>\n",
       "      <th>RU</th>\n",
       "      <td>Russia</td>\n",
       "      <td>True</td>\n",
       "      <td>200</td>\n",
       "    </tr>\n",
       "  </tbody>\n",
       "</table>\n",
       "</div>"
      ],
      "text/plain": [
       "           country  drives_right  cars_per_cap\n",
       "US   United States          True           809\n",
       "AUS      Australia         False           731\n",
       "JPN          Japan         False           588\n",
       "IN           India         False            18\n",
       "RU          Russia          True           200"
      ]
     },
     "execution_count": 12,
     "metadata": {},
     "output_type": "execute_result"
    }
   ],
   "source": [
    "cars.head()"
   ]
  },
  {
   "cell_type": "code",
   "execution_count": 13,
   "id": "614997c7",
   "metadata": {
    "scrolled": true
   },
   "outputs": [
    {
     "name": "stdout",
     "output_type": "stream",
     "text": [
      "US\n",
      "country         United States\n",
      "drives_right             True\n",
      "cars_per_cap              809\n",
      "Name: US, dtype: object\n",
      "AUS\n",
      "country         Australia\n",
      "drives_right        False\n",
      "cars_per_cap          731\n",
      "Name: AUS, dtype: object\n",
      "JPN\n",
      "country         Japan\n",
      "drives_right    False\n",
      "cars_per_cap      588\n",
      "Name: JPN, dtype: object\n",
      "IN\n",
      "country         India\n",
      "drives_right    False\n",
      "cars_per_cap       18\n",
      "Name: IN, dtype: object\n",
      "RU\n",
      "country         Russia\n",
      "drives_right      True\n",
      "cars_per_cap       200\n",
      "Name: RU, dtype: object\n",
      "MOR\n",
      "country         Morocco\n",
      "drives_right       True\n",
      "cars_per_cap         70\n",
      "Name: MOR, dtype: object\n",
      "EG\n",
      "country         Egypt\n",
      "drives_right     True\n",
      "cars_per_cap       45\n",
      "Name: EG, dtype: object\n"
     ]
    }
   ],
   "source": [
    "for lab, row in cars.iterrows():\n",
    "    print(lab)\n",
    "    print(row)"
   ]
  },
  {
   "cell_type": "code",
   "execution_count": 14,
   "id": "93d59783",
   "metadata": {
    "scrolled": false
   },
   "outputs": [
    {
     "name": "stdout",
     "output_type": "stream",
     "text": [
      "United States\n",
      "Australia\n",
      "Japan\n",
      "India\n",
      "Russia\n",
      "Morocco\n",
      "Egypt\n"
     ]
    }
   ],
   "source": [
    "for lab, row in cars.iterrows():\n",
    "    print(row['country'])"
   ]
  },
  {
   "cell_type": "code",
   "execution_count": 15,
   "id": "0743cf30",
   "metadata": {
    "scrolled": true
   },
   "outputs": [
    {
     "name": "stdout",
     "output_type": "stream",
     "text": [
      "809\n",
      "731\n",
      "588\n",
      "18\n",
      "200\n",
      "70\n",
      "45\n"
     ]
    }
   ],
   "source": [
    "for lab, row in cars.iterrows():\n",
    "    print(row['cars_per_cap'])"
   ]
  },
  {
   "cell_type": "code",
   "execution_count": 16,
   "id": "6491df28",
   "metadata": {},
   "outputs": [
    {
     "name": "stdout",
     "output_type": "stream",
     "text": [
      "US\n",
      "AUS\n",
      "JPN\n",
      "IN\n",
      "RU\n",
      "MOR\n",
      "EG\n"
     ]
    }
   ],
   "source": [
    "for lab, row in cars.iterrows():\n",
    "    print(lab)"
   ]
  },
  {
   "cell_type": "code",
   "execution_count": 17,
   "id": "de3a0ae3",
   "metadata": {},
   "outputs": [
    {
     "name": "stdout",
     "output_type": "stream",
     "text": [
      "US: 809\n",
      "AUS: 731\n",
      "JPN: 588\n",
      "IN: 18\n",
      "RU: 200\n",
      "MOR: 70\n",
      "EG: 45\n"
     ]
    }
   ],
   "source": [
    "for lab, row in cars.iterrows() :\n",
    "    print(f\"{lab}: {row['cars_per_cap']}\")"
   ]
  },
  {
   "cell_type": "code",
   "execution_count": 18,
   "id": "9e5b4967",
   "metadata": {},
   "outputs": [
    {
     "data": {
      "text/html": [
       "<div>\n",
       "<style scoped>\n",
       "    .dataframe tbody tr th:only-of-type {\n",
       "        vertical-align: middle;\n",
       "    }\n",
       "\n",
       "    .dataframe tbody tr th {\n",
       "        vertical-align: top;\n",
       "    }\n",
       "\n",
       "    .dataframe thead th {\n",
       "        text-align: right;\n",
       "    }\n",
       "</style>\n",
       "<table border=\"1\" class=\"dataframe\">\n",
       "  <thead>\n",
       "    <tr style=\"text-align: right;\">\n",
       "      <th></th>\n",
       "      <th>country</th>\n",
       "      <th>drives_right</th>\n",
       "      <th>cars_per_cap</th>\n",
       "    </tr>\n",
       "  </thead>\n",
       "  <tbody>\n",
       "    <tr>\n",
       "      <th>US</th>\n",
       "      <td>United States</td>\n",
       "      <td>True</td>\n",
       "      <td>809</td>\n",
       "    </tr>\n",
       "    <tr>\n",
       "      <th>AUS</th>\n",
       "      <td>Australia</td>\n",
       "      <td>False</td>\n",
       "      <td>731</td>\n",
       "    </tr>\n",
       "    <tr>\n",
       "      <th>JPN</th>\n",
       "      <td>Japan</td>\n",
       "      <td>False</td>\n",
       "      <td>588</td>\n",
       "    </tr>\n",
       "    <tr>\n",
       "      <th>IN</th>\n",
       "      <td>India</td>\n",
       "      <td>False</td>\n",
       "      <td>18</td>\n",
       "    </tr>\n",
       "    <tr>\n",
       "      <th>RU</th>\n",
       "      <td>Russia</td>\n",
       "      <td>True</td>\n",
       "      <td>200</td>\n",
       "    </tr>\n",
       "  </tbody>\n",
       "</table>\n",
       "</div>"
      ],
      "text/plain": [
       "           country  drives_right  cars_per_cap\n",
       "US   United States          True           809\n",
       "AUS      Australia         False           731\n",
       "JPN          Japan         False           588\n",
       "IN           India         False            18\n",
       "RU          Russia          True           200"
      ]
     },
     "execution_count": 18,
     "metadata": {},
     "output_type": "execute_result"
    }
   ],
   "source": [
    "cars.head()"
   ]
  },
  {
   "cell_type": "code",
   "execution_count": 19,
   "id": "bc1eef20",
   "metadata": {},
   "outputs": [],
   "source": [
    "for lab, row in cars.iterrows():\n",
    "    cars.loc[lab, 'name_length'] = len(row['country'])"
   ]
  },
  {
   "cell_type": "code",
   "execution_count": 20,
   "id": "0f7928e1",
   "metadata": {},
   "outputs": [
    {
     "data": {
      "text/html": [
       "<div>\n",
       "<style scoped>\n",
       "    .dataframe tbody tr th:only-of-type {\n",
       "        vertical-align: middle;\n",
       "    }\n",
       "\n",
       "    .dataframe tbody tr th {\n",
       "        vertical-align: top;\n",
       "    }\n",
       "\n",
       "    .dataframe thead th {\n",
       "        text-align: right;\n",
       "    }\n",
       "</style>\n",
       "<table border=\"1\" class=\"dataframe\">\n",
       "  <thead>\n",
       "    <tr style=\"text-align: right;\">\n",
       "      <th></th>\n",
       "      <th>country</th>\n",
       "      <th>drives_right</th>\n",
       "      <th>cars_per_cap</th>\n",
       "      <th>name_length</th>\n",
       "    </tr>\n",
       "  </thead>\n",
       "  <tbody>\n",
       "    <tr>\n",
       "      <th>US</th>\n",
       "      <td>United States</td>\n",
       "      <td>True</td>\n",
       "      <td>809</td>\n",
       "      <td>13.0</td>\n",
       "    </tr>\n",
       "    <tr>\n",
       "      <th>AUS</th>\n",
       "      <td>Australia</td>\n",
       "      <td>False</td>\n",
       "      <td>731</td>\n",
       "      <td>9.0</td>\n",
       "    </tr>\n",
       "    <tr>\n",
       "      <th>JPN</th>\n",
       "      <td>Japan</td>\n",
       "      <td>False</td>\n",
       "      <td>588</td>\n",
       "      <td>5.0</td>\n",
       "    </tr>\n",
       "    <tr>\n",
       "      <th>IN</th>\n",
       "      <td>India</td>\n",
       "      <td>False</td>\n",
       "      <td>18</td>\n",
       "      <td>5.0</td>\n",
       "    </tr>\n",
       "    <tr>\n",
       "      <th>RU</th>\n",
       "      <td>Russia</td>\n",
       "      <td>True</td>\n",
       "      <td>200</td>\n",
       "      <td>6.0</td>\n",
       "    </tr>\n",
       "  </tbody>\n",
       "</table>\n",
       "</div>"
      ],
      "text/plain": [
       "           country  drives_right  cars_per_cap  name_length\n",
       "US   United States          True           809         13.0\n",
       "AUS      Australia         False           731          9.0\n",
       "JPN          Japan         False           588          5.0\n",
       "IN           India         False            18          5.0\n",
       "RU          Russia          True           200          6.0"
      ]
     },
     "execution_count": 20,
     "metadata": {},
     "output_type": "execute_result"
    }
   ],
   "source": [
    "cars.head()"
   ]
  },
  {
   "cell_type": "code",
   "execution_count": null,
   "id": "5311e504",
   "metadata": {},
   "outputs": [],
   "source": []
  }
 ],
 "metadata": {
  "kernelspec": {
   "display_name": "Python 3 (ipykernel)",
   "language": "python",
   "name": "python3"
  },
  "language_info": {
   "codemirror_mode": {
    "name": "ipython",
    "version": 3
   },
   "file_extension": ".py",
   "mimetype": "text/x-python",
   "name": "python",
   "nbconvert_exporter": "python",
   "pygments_lexer": "ipython3",
   "version": "3.9.5"
  }
 },
 "nbformat": 4,
 "nbformat_minor": 5
}
