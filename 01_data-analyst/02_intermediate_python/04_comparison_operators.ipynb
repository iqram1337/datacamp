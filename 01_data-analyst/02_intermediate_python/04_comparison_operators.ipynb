{
 "cells": [
  {
   "cell_type": "code",
   "execution_count": 1,
   "id": "03ba04cf",
   "metadata": {},
   "outputs": [],
   "source": [
    "import numpy as np\n",
    "my_house = np.array([18.0, 20.0, 10.75, 9.50])\n",
    "your_house = np.array([14.0, 24.0, 14.25, 9.0])"
   ]
  },
  {
   "cell_type": "code",
   "execution_count": 2,
   "id": "7a048a85",
   "metadata": {},
   "outputs": [
    {
     "data": {
      "text/plain": [
       "array([ True, False, False,  True])"
      ]
     },
     "execution_count": 2,
     "metadata": {},
     "output_type": "execute_result"
    }
   ],
   "source": [
    "my_house > your_house"
   ]
  },
  {
   "cell_type": "markdown",
   "id": "8ac83737",
   "metadata": {},
   "source": [
    "# Boolean Operators"
   ]
  },
  {
   "cell_type": "code",
   "execution_count": 3,
   "id": "b34ae7b7",
   "metadata": {},
   "outputs": [
    {
     "data": {
      "text/plain": [
       "array([ True, False, False, False])"
      ]
     },
     "execution_count": 3,
     "metadata": {},
     "output_type": "execute_result"
    }
   ],
   "source": [
    "np.logical_and(my_house > 13, your_house < 15)"
   ]
  },
  {
   "cell_type": "code",
   "execution_count": 4,
   "id": "66679fe6",
   "metadata": {},
   "outputs": [
    {
     "data": {
      "text/plain": [
       "array([ True,  True,  True,  True])"
      ]
     },
     "execution_count": 4,
     "metadata": {},
     "output_type": "execute_result"
    }
   ],
   "source": [
    "np.logical_or(my_house > 13, your_house < 15)"
   ]
  },
  {
   "cell_type": "code",
   "execution_count": 5,
   "id": "19bdf59f",
   "metadata": {},
   "outputs": [
    {
     "data": {
      "text/plain": [
       "array([False, False,  True,  True])"
      ]
     },
     "execution_count": 5,
     "metadata": {},
     "output_type": "execute_result"
    }
   ],
   "source": [
    "np.logical_not(my_house > 13, your_house < 15)"
   ]
  },
  {
   "cell_type": "markdown",
   "id": "bafa6265",
   "metadata": {},
   "source": [
    "# IF, ELIF, ELSE"
   ]
  },
  {
   "cell_type": "code",
   "execution_count": 6,
   "id": "0fd09616",
   "metadata": {},
   "outputs": [],
   "source": [
    "# Define variables\n",
    "room = \"kit\"\n",
    "area = 14.0"
   ]
  },
  {
   "cell_type": "code",
   "execution_count": 7,
   "id": "26248f8d",
   "metadata": {},
   "outputs": [
    {
     "name": "stdout",
     "output_type": "stream",
     "text": [
      "looking around in the kitchen.\n"
     ]
    }
   ],
   "source": [
    "if room == \"kit\" :\n",
    "    print(\"looking around in the kitchen.\")"
   ]
  },
  {
   "cell_type": "code",
   "execution_count": 8,
   "id": "97336b7a",
   "metadata": {},
   "outputs": [],
   "source": [
    "x = 'iqram/haris/fahromi'"
   ]
  },
  {
   "cell_type": "code",
   "execution_count": null,
   "id": "e79d9b72",
   "metadata": {},
   "outputs": [],
   "source": []
  }
 ],
 "metadata": {
  "kernelspec": {
   "display_name": "Python 3 (ipykernel)",
   "language": "python",
   "name": "python3"
  },
  "language_info": {
   "codemirror_mode": {
    "name": "ipython",
    "version": 3
   },
   "file_extension": ".py",
   "mimetype": "text/x-python",
   "name": "python",
   "nbconvert_exporter": "python",
   "pygments_lexer": "ipython3",
   "version": "3.9.5"
  }
 },
 "nbformat": 4,
 "nbformat_minor": 5
}
