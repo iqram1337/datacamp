{
 "cells": [
  {
   "cell_type": "code",
   "execution_count": 1,
   "id": "788928f1",
   "metadata": {},
   "outputs": [],
   "source": [
    "import numpy as np"
   ]
  },
  {
   "cell_type": "markdown",
   "id": "6facbf13",
   "metadata": {},
   "source": [
    "### Coin Toss ex"
   ]
  },
  {
   "cell_type": "code",
   "execution_count": 12,
   "id": "5576e458",
   "metadata": {},
   "outputs": [
    {
     "name": "stdout",
     "output_type": "stream",
     "text": [
      "tails\n"
     ]
    }
   ],
   "source": [
    "coin = np.random.randint(0,2)\n",
    "\n",
    "if(coin == 0):\n",
    "    print('heads')\n",
    "else:\n",
    "    print('tails')"
   ]
  },
  {
   "cell_type": "code",
   "execution_count": 14,
   "id": "8323a43a",
   "metadata": {},
   "outputs": [
    {
     "name": "stdout",
     "output_type": "stream",
     "text": [
      "0.6964691855978616\n"
     ]
    }
   ],
   "source": [
    "np.random.seed(123)\n",
    "print(np.random.rand())"
   ]
  },
  {
   "cell_type": "code",
   "execution_count": 15,
   "id": "dc276a63",
   "metadata": {},
   "outputs": [
    {
     "data": {
      "text/plain": [
       "6"
      ]
     },
     "execution_count": 15,
     "metadata": {},
     "output_type": "execute_result"
    }
   ],
   "source": [
    "np.random.randint(4, 8)"
   ]
  },
  {
   "cell_type": "markdown",
   "id": "80da16ff",
   "metadata": {},
   "source": [
    "### Test"
   ]
  },
  {
   "cell_type": "code",
   "execution_count": 22,
   "id": "b2eebfed",
   "metadata": {},
   "outputs": [
    {
     "name": "stdout",
     "output_type": "stream",
     "text": [
      "3 51\n"
     ]
    }
   ],
   "source": [
    "step = 50\n",
    "\n",
    "dice = np.random.randint(1,7)\n",
    "\n",
    "if dice <= 2:\n",
    "    step = step-1\n",
    "elif dice >= 3 and dice <= 5:\n",
    "    step = step+1\n",
    "else:\n",
    "    step = step + np.random.randint(1,7)\n",
    "    \n",
    "print(dice, step)"
   ]
  },
  {
   "cell_type": "markdown",
   "id": "f424cee5",
   "metadata": {},
   "source": [
    "# Random Walk"
   ]
  },
  {
   "cell_type": "markdown",
   "id": "bd6b7f8a",
   "metadata": {},
   "source": [
    "### Contoh 1"
   ]
  },
  {
   "cell_type": "code",
   "execution_count": 29,
   "id": "66d7f234",
   "metadata": {},
   "outputs": [
    {
     "name": "stdout",
     "output_type": "stream",
     "text": [
      "['heads', 'tails', 'heads', 'heads', 'heads', 'heads', 'heads', 'tails', 'tails', 'heads']\n"
     ]
    }
   ],
   "source": [
    "np.random.seed(123)\n",
    "\n",
    "hasil = []\n",
    "\n",
    "for x in range(10):\n",
    "    koin = np.random.randint(0,2)\n",
    "    if koin == 0:\n",
    "        hasil.append('heads')\n",
    "    else :\n",
    "        hasil.append('tails')\n",
    "\n",
    "print(hasil)"
   ]
  },
  {
   "cell_type": "code",
   "execution_count": 32,
   "id": "2c8469e9",
   "metadata": {},
   "outputs": [
    {
     "name": "stdout",
     "output_type": "stream",
     "text": [
      "[0, 0, 1, 1, 1, 1, 1, 1, 2, 3, 3]\n"
     ]
    }
   ],
   "source": [
    "np.random.seed(123)\n",
    "\n",
    "tails = [0]\n",
    "\n",
    "for x in range(10):\n",
    "    koin = np.random.randint(0,2)\n",
    "    tails.append(tails[x] + koin)\n",
    "    \n",
    "print(tails)"
   ]
  },
  {
   "cell_type": "code",
   "execution_count": 36,
   "id": "c37bebf5",
   "metadata": {},
   "outputs": [
    {
     "name": "stdout",
     "output_type": "stream",
     "text": [
      "[0, 1, 2, 3, 4, 3, 4, 3, 2, 3, 2, 3, 2, 3, 4, 8, 9, 8, 14, 13, 12, 13, 12, 11, 12, 11, 15, 14, 15, 14, 15, 14, 15, 17, 16, 15, 14, 15, 14, 19, 20, 21, 20, 19, 20, 19, 20, 19, 24, 25, 24, 23, 22, 21, 22, 23, 27, 33, 34, 35, 36, 37, 36, 37, 39, 40, 41, 42, 41, 40, 41, 40, 41, 42, 43, 42, 43, 44, 45, 44, 43, 44, 45, 50, 51, 52, 57, 56, 57, 56, 57, 58, 59, 60, 59, 65, 64, 65, 64, 63, 64]\n"
     ]
    }
   ],
   "source": [
    "random_walk = [0]\n",
    "\n",
    "for x in range(100) :\n",
    "\n",
    "    step = random_walk[-1]\n",
    "    dice = np.random.randint(1,7)\n",
    "\n",
    "    if dice <= 2:\n",
    "        step = step - 1\n",
    "    elif dice <= 5:\n",
    "        step = step + 1\n",
    "    else:\n",
    "        step = step + np.random.randint(1,7)\n",
    "\n",
    "    random_walk.append(step)\n",
    "\n",
    "print(random_walk)"
   ]
  },
  {
   "cell_type": "code",
   "execution_count": 45,
   "id": "0807b28c",
   "metadata": {},
   "outputs": [
    {
     "name": "stdout",
     "output_type": "stream",
     "text": [
      "91\n"
     ]
    }
   ],
   "source": [
    "x = max(10, x - 1)\n",
    "print(x)"
   ]
  },
  {
   "cell_type": "code",
   "execution_count": 47,
   "id": "2336e2d3",
   "metadata": {},
   "outputs": [
    {
     "data": {
      "image/png": "[encoded data removed]",
      "text/plain": [
       "<Figure size 432x288 with 1 Axes>"
      ]
     },
     "metadata": {
      "needs_background": "light"
     },
     "output_type": "display_data"
    }
   ],
   "source": [
    "import matplotlib.pyplot as plt\n",
    "\n",
    "plt.plot(random_walk)\n",
    "plt.show()"
   ]
  },
  {
   "cell_type": "markdown",
   "id": "93393ad6",
   "metadata": {},
   "source": [
    "# Distribution"
   ]
  },
  {
   "cell_type": "code",
   "execution_count": 48,
   "id": "7c8752ab",
   "metadata": {},
   "outputs": [],
   "source": [
    "import numpy as np\n",
    "import matplotlib.pyplot as plt"
   ]
  },
  {
   "cell_type": "code",
   "execution_count": 51,
   "id": "c288a05a",
   "metadata": {
    "scrolled": true
   },
   "outputs": [
    {
     "name": "stdout",
     "output_type": "stream",
     "text": [
      "[3, 6, 4, 5, 4, 5, 3, 5, 4, 6, 6, 8, 6, 4, 7, 5, 7, 4, 3, 3, 4, 5, 8, 5, 6, 5, 7, 6, 4, 5, 8, 5, 8, 4, 6, 6, 3, 4, 5, 4, 7, 8, 9, 4, 3, 4, 5, 6, 4, 2, 6, 6, 5, 7, 5, 4, 5, 5, 6, 7, 6, 6, 6, 3, 6, 3, 6, 5, 6, 5, 6, 4, 6, 6, 3, 4, 4, 2, 4, 5, 4, 6, 6, 6, 8, 4, 6, 5, 7, 4, 6, 5, 4, 6, 7, 3, 7, 4, 5, 7, 8, 7, 5, 6, 7, 6, 5, 7, 5, 4, 7, 5, 4, 8, 4, 5, 6, 6, 6, 5, 5, 7, 3, 7, 6, 3, 6, 7, 2, 2, 5, 5, 4, 5, 7, 3, 3, 5, 6, 5, 6, 6, 3, 5, 4, 2, 5, 5, 7, 4, 3, 6, 2, 6, 6, 9, 6, 4, 8, 6, 6, 7, 3, 5, 3, 5, 6, 4, 4, 4, 3, 4, 4, 5, 5, 3, 8, 3, 5, 5, 6, 3, 5, 5, 4, 7, 4, 4, 5, 4, 3, 4, 5, 5, 4, 6, 4, 6, 6, 6, 8, 6, 5, 4, 6, 8, 7, 6, 7, 5, 3, 4, 7, 2, 5, 4, 5, 6, 6, 5, 6, 3, 4, 7, 4, 5, 3, 3, 4, 4, 5, 6, 5, 4, 3, 4, 6, 4, 6, 7, 4, 3, 4, 5, 6, 2, 6, 5, 5, 3, 6, 6, 4, 5, 3, 3, 6, 5, 5, 3, 5, 5, 5, 3, 4, 5, 3, 5, 9, 6, 4, 6, 3, 6, 7, 4, 4, 8, 5, 7, 5, 5, 6, 4, 6, 7, 6, 6, 6, 5, 3, 5, 5, 3, 7, 5, 3, 4, 4, 6, 5, 6, 6, 3, 6, 3, 3, 9, 5, 3, 6, 4, 5, 1, 3, 3, 5, 5, 4, 5, 1, 5, 6, 6, 4, 3, 7, 7, 4, 5, 3, 6, 5, 4, 4, 7, 2, 6, 5, 5, 4, 3, 5, 4, 5, 6, 7, 4, 3, 8, 4, 4, 4, 5, 3, 3, 5, 5, 6, 2, 4, 6, 5, 4, 3, 3, 6, 4, 3, 7, 5, 5, 4, 4, 5, 5, 5, 4, 6, 7, 7, 6, 2, 6, 5, 7, 8, 6, 4, 6, 3, 5, 6, 7, 4, 4, 6, 6, 5, 8, 6, 5, 5, 6, 2, 6, 6, 3, 3, 4, 5, 3, 5, 4, 5, 5, 6, 4, 4, 7, 5, 4, 6, 3, 6, 6, 4, 4, 6, 6, 2, 5, 6, 8, 7, 2, 5, 5, 5, 3, 4, 5, 3, 8, 5, 6, 5, 5, 8, 8, 7, 6, 5, 5, 5, 4, 6, 4, 2, 3, 7, 7, 4, 6, 1, 6, 4, 5, 6, 5, 5, 4, 5, 4, 4, 5, 2, 5, 3, 5, 4, 4, 2, 4, 1, 3, 7, 5, 4, 5, 3, 5, 4, 3, 7, 5, 7, 6, 4, 3, 4, 4, 5, 7, 5, 5, 4, 5, 7, 7, 8, 3, 7, 6, 5, 3, 5, 6, 4, 6, 6, 5, 3, 4, 7, 5, 8, 3, 3, 7, 4, 5, 7, 7, 4, 7, 4, 5, 3, 6, 5, 6, 4, 6, 5, 3, 5, 4, 5, 6, 1, 4, 3, 4, 4, 4, 4, 7, 7, 5, 6, 5, 4, 4, 7, 4, 4, 4, 5, 4, 2, 4, 7, 4, 10, 4, 9, 5, 6, 6, 7, 5, 5, 2, 5, 5, 7, 4, 5, 7, 3, 5, 6, 5, 5, 5, 6, 8, 4, 5, 4, 5, 4, 6, 4, 3, 6, 6, 4, 7, 7, 3, 4, 4, 6, 6, 5, 7, 7, 2, 4, 4, 3, 5, 6, 4, 6, 2, 6, 3, 6, 7, 5, 6, 3, 6, 5, 3, 7, 5, 4, 5, 7, 4, 4, 3, 3, 5, 5, 5, 5, 6, 6, 5, 4, 7, 4, 4, 6, 5, 6, 8, 9, 6, 3, 5, 6, 4, 2, 5, 7, 5, 8, 9, 2, 3, 2, 5, 7, 6, 4, 2, 5, 5, 7, 4, 6, 6, 6, 7, 6, 4, 7, 2, 5, 3, 5, 6, 5, 5, 1, 8, 4, 8, 5, 4, 5, 3, 4, 3, 3, 5, 5, 5, 7, 3, 5, 4, 5, 8, 6, 4, 7, 8, 7, 6, 6, 3, 3, 6, 4, 5, 6, 4, 4, 5, 3, 7, 4, 3, 4, 5, 7, 3, 9, 4, 4, 5, 6, 7, 3, 3, 6, 4, 4, 7, 5, 8, 3, 4, 6, 4, 5, 4, 5, 5, 7, 7, 3, 2, 5, 7, 6, 6, 7, 5, 7, 5, 8, 5, 4, 7, 7, 3, 6, 6, 7, 5, 3, 7, 7, 3, 4, 7, 3, 5, 3, 2, 6, 5, 7, 3, 5, 2, 4, 2, 6, 5, 3, 6, 7, 3, 6, 0, 4, 3, 4, 3, 7, 6, 3, 2, 6, 4, 4, 4, 3, 4, 3, 6, 7, 7, 5, 6, 7, 2, 6, 5, 4, 6, 4, 5, 4, 8, 4, 5, 4, 4, 4, 5, 3, 6, 3, 3, 8, 5, 6, 5, 5, 4, 5, 4, 5, 6, 7, 7, 5, 8, 6, 6, 6, 3, 5, 6, 4, 5, 4, 4, 7, 6, 5, 4, 8, 5, 4, 6, 5, 6, 7, 5, 8, 7, 3, 2, 3, 6, 7, 7, 5, 3, 3, 9, 3, 3, 2, 6, 5, 6, 6, 6, 4, 4, 4, 4, 4, 6, 7, 4, 4, 7, 7, 3, 4, 5, 3, 2, 6, 7, 5, 8, 4, 7, 2, 5, 5, 4, 6, 3, 3, 5, 4, 4, 7, 5, 5, 4, 6, 3, 5, 5, 6, 3, 6, 4, 5, 4, 6, 4, 4, 6, 6, 7, 3, 5, 2, 6, 6, 4, 6, 4, 5, 3, 6, 4, 8, 8, 5, 5, 4, 2, 7, 4, 7, 6, 3, 2, 5, 7, 5, 6, 4, 5, 7, 6, 3, 5, 4, 5, 7, 7, 3, 4, 8, 8, 7, 5, 5, 7, 5, 6, 7, 7, 5, 7, 6, 9, 3, 5, 5, 3, 6, 6, 4, 6, 6, 3, 5, 5, 7, 1, 5, 4, 5, 5, 4, 7, 6, 1, 7, 3, 6, 6, 6, 6, 4, 7, 5, 4, 7, 4, 4, 5, 4, 6, 7, 7, 5, 5, 5, 7, 4, 5, 5, 3, 2, 1, 6, 6, 3, 7, 8, 4, 3, 7, 2, 4, 7, 8, 3, 4, 4, 4, 5, 6, 7, 4, 6, 5, 6, 6, 7, 7, 6, 5, 2, 4, 6, 5, 6, 2, 5, 3, 5, 5, 4, 6, 7, 4, 2, 6, 5, 7, 5, 3, 4, 3, 4, 5, 5, 2, 7, 6, 5, 6, 5, 7, 6, 2, 4, 8, 4, 4, 5, 6, 5, 4, 8, 4, 6, 5, 2, 9, 4, 4, 7, 7, 3, 4, 4, 6, 7, 7, 3, 4, 1, 3, 4, 4, 4, 2, 1, 6, 5, 7, 3, 6, 6, 8, 2, 3, 6, 5, 7, 6, 3, 4, 3, 6, 5, 4, 7, 2, 3, 6, 3, 8, 8, 7, 3, 5, 6, 5, 4, 9, 3, 5, 4, 6, 4, 4, 4, 5, 6, 6, 4, 6, 7, 5, 2, 5, 4, 7, 2, 6, 5, 5, 4, 6, 3, 3, 3, 5, 5, 5, 8, 6, 6, 3, 3, 5, 6, 6, 6, 4, 6, 4, 5, 4, 6, 7, 4, 7, 5, 3, 4, 4, 6, 5, 5, 3, 5, 4, 4, 5, 5, 6, 4, 6, 2, 5, 5, 6, 5, 7, 4, 4, 6, 4, 6, 5, 6, 3, 4, 5, 5, 7, 6, 4, 3, 6, 6, 1, 6, 8, 7, 6, 2, 5, 5, 6, 6, 6, 5, 6, 4, 5, 2, 5, 5, 6, 3, 4, 7, 5, 4, 7, 6, 5, 5, 4, 7, 5, 4, 7, 7, 3, 6, 2, 6, 8, 2, 3, 7, 6, 3, 3, 6, 6, 4, 2, 4, 6, 5, 6, 9, 4, 4, 5, 5, 3, 5, 4, 3, 5, 8, 4, 5, 8, 6, 5, 3, 8, 6, 4, 3, 4, 4, 6, 6, 4, 4, 6, 4, 5, 4, 5, 5, 4, 5, 5, 5, 5, 5, 4, 4, 5, 4, 4, 5, 4, 5, 4, 6, 7, 6, 6, 4, 5, 1, 5, 5, 8, 3, 5, 4, 6, 2, 5, 5, 9, 5, 6, 5, 6, 6, 6, 5, 6, 5, 5, 6, 4, 6, 5, 7, 5, 6, 6, 4, 2, 7, 5, 3, 5, 5, 6, 4, 5, 6, 8, 4, 8, 4, 3, 6, 5, 5, 4, 3, 5, 3, 3, 3, 5, 7, 4, 3, 5, 4, 5, 6, 8, 5, 4, 4, 5, 7, 5, 7, 3, 3, 4, 4, 5, 4, 6, 6, 6, 5, 4, 2, 4, 8, 2, 6, 4, 6, 6, 6, 4, 4, 3, 5, 2, 6, 3, 6, 6, 7, 6, 3, 2, 5, 6, 4, 5, 5, 5, 5, 5, 6, 3, 5, 5, 6, 4, 5, 9, 5, 4, 2, 8, 3, 6, 3, 4, 7, 7, 5, 5, 7, 3, 2, 2, 4, 6, 4, 5, 6, 5, 7, 7, 5, 3, 4, 6, 7, 3, 6, 5, 4, 6, 4, 5, 6, 6, 5, 4, 4, 5, 2, 5, 4, 3, 4, 8, 7, 2, 5, 4, 3, 4, 6, 6, 5, 7, 4, 5, 2, 7, 3, 4, 7, 4, 3, 5, 6, 5, 6, 8, 5, 5, 5, 7, 5, 1, 7, 6, 2, 4, 5, 7, 5, 4, 4, 6, 2, 4, 7, 7, 3, 5, 8, 6, 6, 6, 3, 7, 5, 5, 6, 5, 6, 4, 5, 2, 5, 5, 3, 6, 6, 2, 4, 5, 7, 6, 6, 6, 3, 6, 7, 6, 5, 8, 4, 4, 5, 3, 6, 4, 4, 4, 4, 2, 6, 1, 6, 5, 5, 3, 3, 4, 3, 4, 8, 5, 5, 5, 3, 5, 6, 5, 5, 5, 4, 4, 6, 4, 6, 6, 7, 5, 8, 4, 6, 6, 6, 8, 5, 4, 10, 6, 4, 4, 2, 6, 5, 4, 6, 6, 2, 3, 6, 6, 2, 5, 3, 6, 7, 5, 2, 3, 6, 6, 5, 5, 4, 5, 5, 4, 5, 4, 5, 5, 6, 4, 3, 6, 5, 4, 5, 5, 5, 3, 6, 6, 7, 5, 3, 4, 3, 5, 4, 5, 8, 6, 5, 4, 5, 6, 7, 6, 4, 7, 4, 5, 7, 4, 6, 5, 5, 2, 6, 7, 6, 3, 2, 3, 7, 2, 4, 7, 5, 6, 5, 5, 7, 6, 5, 4, 6, 3, 4, 4, 4, 3, 4, 7, 6, 6, 4, 5, 8, 6, 5, 7, 5, 8, 5, 6, 7, 6, 4, 6, 5, 2, 5, 7, 6, 4, 4, 3, 3, 4, 2, 5, 5, 5, 5, 8, 2, 3, 2, 2, 6, 5, 8, 6, 5, 7, 4, 4, 5, 4, 5, 5, 8, 6, 2, 3, 6, 3, 3, 5, 3, 6, 7, 4, 8, 4, 1, 7, 5, 6, 4, 6, 5, 3, 7, 7, 2, 7, 6, 5, 6, 3, 5, 7, 6, 5, 3, 5, 5, 4, 6, 6, 5, 3, 8, 6, 6, 5, 5, 6, 4, 4, 6, 0, 6, 7, 4, 6, 3, 6, 5, 4, 6, 4, 5, 5, 3, 5, 5, 2, 6, 4, 6, 6, 5, 3, 4, 2, 4, 4, 3, 4, 4, 3, 6, 7, 7, 5, 4, 4, 5, 5, 6, 6, 6, 4, 7, 4, 8, 5, 5, 4, 8, 4, 5, 2, 9, 5, 5, 8, 7, 4, 3, 4, 4, 2, 5, 6, 6, 5, 5, 6, 4, 2, 3, 7, 5, 3, 7, 4, 3, 6, 5, 5, 7, 6, 5, 6, 5, 4, 4, 2, 5, 4, 4, 5, 4, 4, 5, 6, 7, 4, 6, 8, 5, 6, 8, 6, 7, 8, 7, 7, 6, 6, 4, 7, 7, 4, 5, 3, 7, 2, 7, 4, 5, 6, 4, 5, 3, 5, 6, 6, 7, 4, 5, 6, 2, 7, 4, 5, 6, 1, 5, 7, 6, 4, 5, 1, 4, 5, 7, 7, 5, 3, 4, 4, 6, 6, 3, 3, 6, 6, 4, 5, 5, 7, 4, 8, 4, 6, 6, 8, 5, 5, 5, 6, 6, 5, 4, 3, 6, 7, 3, 7, 3, 5, 5, 8, 5, 6, 7, 5, 5, 5, 4, 6, 6, 6, 4, 7, 5, 8, 6, 4, 7, 1, 6, 9, 2, 4, 3, 4, 5, 7, 7, 6, 7, 6, 4, 5, 5, 8, 3, 7, 8, 3, 5, 4, 5, 4, 3, 2, 7, 4, 3, 7, 9, 7, 8, 4, 5, 5, 8, 7, 1, 4, 7, 6, 7, 5, 6, 5, 4, 5, 4, 5, 4, 5, 6, 5, 4, 6, 8, 5, 5, 7, 7, 5, 6, 8, 5, 4, 4, 5, 5, 5, 4, 2, 4, 5, 3, 7, 6, 8, 7, 5, 7, 7, 4, 5, 6, 5, 7, 5, 7, 6, 5, 4, 5, 4, 7, 5, 5, 6, 4, 5, 2, 7, 4, 2, 3, 2, 6, 4, 6, 5, 2, 7, 5, 5, 7, 6, 7, 7, 5, 5, 4, 6, 5, 4, 5, 5, 6, 5, 6, 5, 4, 4, 4, 5, 3, 5, 5, 6, 8, 5, 5, 3, 7, 5, 1, 3, 7, 7, 7, 5, 5, 6, 6, 3, 7, 2, 3, 3, 5, 4, 3, 4, 6, 4, 3, 5, 7, 7, 5, 6, 4, 4, 7, 7, 7, 6, 4, 3, 7, 6, 4, 4, 3, 5, 5, 7, 7, 4, 6, 3, 4, 3, 5, 5, 2, 3, 2, 4, 6, 6, 4, 6, 4, 6, 6, 2, 3, 4, 5, 7, 3, 8, 7, 3, 8, 4, 6, 3, 6, 5, 5, 6, 5, 5, 3, 5, 5, 4, 4, 6, 5, 7, 4, 8, 8, 4, 6, 5, 4, 6, 5, 5, 3, 2, 5, 5, 7, 4, 9, 6, 5, 5, 4, 2, 5, 3, 4, 5, 9, 3, 4, 5, 6, 5, 5, 5, 2, 5, 4, 5, 3, 3, 3, 4, 4, 7, 5, 5, 6, 6, 5, 5, 4, 8, 5, 4, 6, 4, 4, 5, 4, 3, 4, 6, 4, 4, 4, 2, 3, 4, 3, 5, 4, 6, 3, 7, 4, 6, 5, 4, 5, 6, 7, 6, 7, 4, 6, 7, 4, 3, 4, 3, 4, 7, 7, 9, 4, 8, 4, 1, 5, 4, 5, 8, 4, 7, 2, 3, 6, 4, 6, 4, 4, 2, 5, 8, 3, 6, 4, 3, 4, 5, 5, 4, 4, 5, 2, 4, 4, 4, 5, 6, 1, 7, 3, 5, 6, 8, 7, 7, 2, 9, 8, 3, 5, 3, 6, 4, 6, 5, 3, 4, 5, 4, 3, 5, 3, 2, 4, 4, 4, 6, 4, 4, 6, 8, 7, 5, 4, 5, 5, 5, 5, 6, 6, 4, 6, 5, 4, 5, 5, 7, 6, 3, 3, 2, 2, 5, 5, 4, 5, 4, 4, 4, 4, 4, 7, 6, 4, 8, 7, 2, 5, 5, 8, 4, 2, 5, 6, 7, 4, 5, 6, 3, 4, 5, 6, 4, 4, 5, 5, 3, 6, 5, 4, 4, 7, 5, 5, 6, 5, 5, 5, 5, 5, 6, 5, 3, 7, 5, 4, 5, 3, 4, 7, 3, 6, 5, 7, 4, 7, 5, 3, 5, 4, 9, 7, 7, 5, 5, 5, 5, 5, 6, 8, 5, 1, 7, 6, 7, 3, 7, 4, 6, 6, 6, 3, 4, 6, 8, 2, 7, 6, 3, 4, 3, 6, 6, 4, 5, 4, 5, 4, 3, 6, 5, 8, 4, 5, 5, 5, 7, 6, 5, 3, 4, 3, 5, 7, 4, 4, 6, 8, 7, 5, 5, 4, 5, 6, 6, 1, 8, 6, 2, 4, 5, 6, 3, 6, 7, 8, 7, 6, 6, 4, 2, 6, 5, 4, 3, 2, 4, 2, 6, 2, 4, 4, 2, 7, 4, 7, 5, 4, 5, 6, 3, 7, 4, 4, 4, 5, 3, 3, 7, 3, 5, 4, 5, 6, 6, 6, 5, 1, 4, 8, 5, 4, 6, 4, 4, 6, 6, 8, 4, 5, 5, 7, 5, 5, 7, 5, 6, 6, 5, 5, 6, 7, 7, 6, 3, 4, 6, 7, 5, 4, 6, 5, 6, 5, 5, 6, 7, 3, 2, 7, 6, 3, 5, 7, 5, 5, 6, 9, 5, 5, 6, 3, 6, 5, 6, 6, 6, 7, 3, 4, 4, 5, 4, 6, 4, 7, 5, 4, 8, 3, 6, 5, 5, 8, 4, 5, 6, 4, 5, 4, 7, 4, 7, 5, 6, 5, 7, 8, 4, 4, 3, 6, 6, 7, 6, 5, 5, 7, 6, 6, 7, 6, 8, 6, 6, 9, 7, 6, 5, 4, 5, 5, 5, 8, 5, 4, 4, 3, 3, 6, 6, 5, 5, 8, 6, 6, 3, 4, 3, 5, 5, 5, 6, 8, 4, 6, 5, 6, 5, 5, 7, 4, 7, 6, 6, 4, 3, 8, 6, 2, 7, 3, 3, 5, 6, 6, 5, 3, 6, 8, 3, 3, 4, 4, 3, 3, 3, 5, 3, 3, 4, 6, 6, 5, 3, 7, 4, 5, 6, 4, 4, 7, 6, 4, 5, 5, 7, 8, 4, 8, 3, 4, 3, 5, 6, 2, 6, 4, 5, 4, 5, 5, 3, 6, 3, 6, 7, 3, 8, 5, 5, 4, 4, 6, 6, 4, 6, 6, 4, 2, 5, 4, 5, 3, 4, 6, 6, 4, 7, 4, 4, 4, 5, 5, 4, 8, 5, 6, 7, 4, 4, 4, 5, 6, 7, 7, 5, 7, 4, 4, 4, 5, 3, 4, 5, 5, 6, 2, 5, 3, 9, 8, 6, 4, 5, 3, 3, 7, 5, 1, 3, 4, 7, 2, 4, 4, 6, 5, 5, 6, 5, 3, 7, 5, 5, 8, 4, 5, 6, 3, 2, 7, 3, 6, 4, 4, 3, 4, 6, 6, 5, 3, 3, 4, 6, 6, 7, 5, 6, 6, 4, 5, 6, 6, 8, 4, 4, 4, 6, 3, 3, 6, 4, 4, 2, 5, 5, 5, 2, 5, 3, 7, 8, 5, 5, 7, 3, 2, 7, 5, 6, 6, 4, 6, 5, 5, 4, 5, 4, 6, 6, 5, 2, 9, 5, 6, 7, 5, 5, 7, 7, 4, 6, 4, 6, 8, 6, 5, 6, 3, 6, 6, 6, 4, 6, 8, 2, 4, 3, 8, 7, 6, 3, 6, 5, 6, 3, 6, 3, 6, 4, 4, 6, 5, 6, 5, 4, 3, 5, 4, 7, 6, 6, 3, 6, 7, 7, 3, 3, 6, 2, 4, 3, 3, 2, 5, 5, 4, 4, 5, 7, 3, 5, 4, 5, 6, 6, 5, 7, 6, 5, 6, 7, 4, 5, 6, 5, 3, 6, 7, 5, 3, 3, 6, 4, 5, 4, 3, 4, 5, 5, 5, 3, 4, 7, 5, 4, 8, 3, 6, 3, 4, 5, 7, 3, 6, 5, 5, 6, 7, 7, 6, 5, 4, 3, 5, 3, 5, 3, 3, 6, 3, 3, 3, 3, 4, 6, 6, 4, 4, 6, 3, 7, 4, 5, 5, 3, 5, 6, 5, 5, 3, 5, 3, 0, 5, 5, 4, 6, 4, 5, 3, 6, 6, 6, 5, 3, 6, 4, 7, 5, 5, 5, 5, 5, 5, 5, 6, 5, 1, 5, 6, 5, 6, 3, 3, 4, 5, 5, 3, 2, 3, 5, 6, 6, 5, 3, 7, 7, 5, 6, 6, 7, 6, 6, 5, 4, 4, 5, 2, 7, 7, 6, 9, 5, 7, 3, 6, 6, 4, 6, 7, 4, 4, 6, 2, 6, 7, 5, 3, 4, 8, 8, 8, 7, 8, 6, 8, 6, 7, 5, 5, 5, 5, 5, 6, 5, 6, 3, 4, 5, 7, 3, 4, 5, 5, 8, 2, 2, 3, 5, 4, 4, 5, 5, 4, 8, 6, 8, 4, 8, 3, 6, 4, 5, 5, 6, 6, 6, 2, 3, 6, 6, 5, 6, 5, 7, 7, 3, 5, 6, 6, 4, 7, 5, 4, 4, 7, 6, 5, 4, 4, 4, 5, 8, 5, 6, 3, 3, 4, 7, 4, 5, 3, 4, 7, 6, 2, 7, 4, 3, 3, 6, 6, 3, 6, 7, 4, 7, 5, 3, 4, 4, 6, 3, 7, 7, 6, 5, 3, 3, 3, 5, 6, 8, 3, 3, 4, 5, 4, 4, 4, 6, 4, 4, 4, 6, 4, 7, 4, 4, 4, 7, 3, 7, 5, 6, 4, 4, 6, 6, 5, 4, 6, 5, 5, 5, 4, 5, 6, 5, 6, 7, 5, 8, 5, 3, 5, 4, 3, 5, 7, 5, 6, 5, 3, 7, 4, 3, 7, 5, 5, 3, 7, 4, 5, 5, 5, 2, 3, 6, 6, 4, 7, 4, 5, 3, 5, 5, 1, 3, 2, 6, 4, 3, 3, 4, 1, 4, 6, 5, 3, 4, 5, 6, 4, 4, 5, 9, 4, 7, 3, 4, 3, 6, 6, 5, 7, 8, 8, 2, 3, 7, 7, 8, 4, 5, 4, 7, 4, 4, 5, 5, 9, 7, 5, 5, 6, 7, 4, 5, 6, 5, 7, 5, 5, 5, 6, 4, 5, 6, 3, 4, 6, 4, 4, 6, 5, 3, 3, 5, 6, 8, 4, 7, 3, 6, 6, 7, 5, 3, 6, 7, 3, 3, 6, 6, 2, 5, 5, 3, 7, 5, 3, 4, 3, 5, 4, 6, 7, 6, 4, 4, 4, 5, 7, 4, 5, 3, 8, 3, 4, 3, 5, 6, 3, 4, 8, 7, 4, 5, 7, 7, 5, 5, 7, 5, 4, 4, 4, 5, 3, 6, 4, 5, 6, 4, 6, 4, 6, 3, 6, 5, 7, 5, 4, 3, 4, 5, 4, 7, 5, 4, 6, 1, 6, 5, 6, 4, 4, 6, 5, 7, 5, 4, 6, 6, 5, 5, 5, 4, 4, 4, 6, 5, 4, 7, 1, 5, 5, 3, 3, 7, 3, 5, 5, 4, 6, 5, 7, 4, 5, 6, 4, 4, 7, 8, 4, 4, 5, 4, 4, 6, 4, 4, 6, 5, 3, 5, 5, 5, 5, 6, 7, 6, 4, 6, 7, 1, 4, 6, 7, 5, 3, 4, 5, 4, 3, 4, 3, 5, 5, 3, 3, 8, 5, 3, 4, 4, 3, 8, 6, 5, 4, 7, 4, 7, 4, 7, 4, 4, 5, 7, 7, 5, 4, 4, 8, 5, 5, 5, 7, 7, 5, 3, 4, 5, 7, 7, 3, 6, 4, 7, 6, 5, 5, 7, 4, 4, 7, 6, 3, 6, 6, 3, 6, 6, 7, 4, 7, 3, 4, 4, 8, 5, 5, 8, 4, 4, 5, 5, 6, 3, 7, 4, 6, 4, 3, 4, 6, 4, 3, 5, 5, 5, 2, 4, 4, 7, 7, 2, 4, 3, 4, 6, 6, 4, 6, 5, 6, 4, 6, 5, 6, 4, 2, 2, 5, 3, 5, 0, 7, 5, 8, 5, 6, 3, 3, 0, 5, 7, 5, 6, 6, 4, 5, 7, 7, 4, 5, 4, 3, 3, 5, 5, 5, 7, 3, 5, 7, 5, 7, 9, 7, 5, 4, 4, 5, 4, 5, 8, 6, 5, 5, 5, 6, 4, 5, 7, 6, 4, 2, 4, 6, 5, 4, 6, 5, 5, 5, 6, 4, 6, 1, 2, 8, 5, 5, 5, 5, 6, 5, 5, 8, 4, 6, 6, 3, 5, 3, 6, 8, 5, 4, 6, 7, 0, 6, 5, 4, 4, 5, 3, 3, 6, 7, 3, 7, 6, 6, 6, 7, 7, 5, 5, 5, 4, 4, 8, 6, 4, 5, 7, 5, 4, 4, 4, 5, 6, 6, 6, 4, 3, 5, 7, 4, 3, 4, 3, 2, 6, 6, 5, 4, 6, 7, 5, 4, 6, 7, 3, 5, 6, 1, 6, 6, 4, 1, 4, 4, 5, 7, 5, 5, 5, 4, 6, 6, 5, 4, 3, 5, 6, 5, 7, 2, 7, 7, 3, 7, 3, 5, 8, 8, 6, 7, 7, 6, 4, 5, 3, 5, 7, 8, 3, 6, 5, 4, 6, 5, 2, 5, 5, 3, 6, 6, 6, 5, 7, 7, 7, 4, 7, 1, 4, 7, 6, 2, 3, 3, 3, 4, 8, 6, 7, 7, 3, 3, 6, 6, 4, 1, 7, 5, 2, 5, 6, 5, 5, 4, 5, 4, 7, 5, 3, 8, 4, 7, 6, 5, 5, 4, 7, 2, 7, 4, 7, 3, 4, 7, 4, 5, 5, 5, 5, 4, 6, 6, 4, 2, 3, 4, 5, 5, 8, 6, 4, 4, 4, 6, 6, 3, 6, 5, 5, 5, 4, 7, 5, 4, 6, 4, 5, 4, 1, 5, 5, 4, 6, 5, 4, 6, 5, 5, 4, 5, 6, 6, 3, 8, 4, 3, 6, 6, 6, 4, 5, 6, 7, 4, 5, 6, 5, 3, 5, 4, 2, 8, 6, 5, 6, 7, 7, 5, 6, 6, 5, 6, 6, 7, 3, 4, 4, 5, 7, 6, 4, 6, 5, 3, 3, 6, 7, 6, 6, 5, 9, 4, 3, 6, 7, 4, 7, 4, 4, 6, 6, 3, 6, 6, 6, 3, 4, 6, 6, 4, 3, 4, 4, 5, 8, 6, 6, 6, 5, 4, 7, 7, 5, 9, 5, 8, 8, 6, 6, 5, 2, 6, 6, 4, 3, 9, 5, 6, 4, 5, 7, 5, 5, 6, 4, 3, 3, 6, 4, 5, 4, 4, 5, 6, 4, 6, 7, 3, 6, 4, 5, 5, 7, 5, 6, 3, 3, 4, 5, 7, 7, 2, 3, 6, 6, 6, 4, 3, 7, 5, 2, 0, 6, 6, 6, 5, 3, 3, 9, 6, 3, 4, 6, 5, 7, 4, 3, 4, 6, 4, 8, 3, 4, 6, 5, 3, 4, 4, 4, 3, 7, 1, 4, 3, 2, 4, 7, 9, 5, 5, 5, 7, 4, 5, 6, 4, 3, 6, 6, 6, 3, 3, 7, 5, 4, 1, 7, 3, 2, 7, 4, 6, 6, 2, 5, 6, 4, 4, 6, 7, 5, 5, 4, 5, 3, 3, 5, 7, 3, 6, 5, 4, 6, 2, 5, 7, 5, 6, 5, 5, 7, 5, 4, 5, 6, 5, 5, 4, 5, 5, 5, 1, 8, 5, 1, 3, 4, 3, 6, 5, 6, 5, 5, 6, 6, 4, 3, 6, 4, 5, 4, 7, 3, 6, 3, 3, 4, 3, 4, 6, 5, 5, 7, 5, 6, 5, 4, 6, 7, 5, 7, 4, 7, 6, 7, 4, 4, 4, 3, 6, 6, 3, 3, 6, 1, 4, 5, 4, 6, 5, 6, 8, 6, 4, 4, 3, 4, 2, 6, 8, 7, 6, 2, 5, 4, 6, 6, 5, 6, 6, 7, 6, 5, 5, 4, 7, 7, 3, 5, 3, 6, 3, 4, 5, 4, 4, 2, 6, 6, 6, 7, 5, 8, 6, 7, 5, 6, 4, 5, 7, 6, 3, 4, 3, 6, 6, 5, 2, 5, 4, 7, 6, 5, 6, 6, 5, 7, 6, 8, 6, 6, 3, 3, 6, 4, 6, 1, 4, 4, 4, 6, 7, 6, 5, 5, 5, 6, 6, 7, 6, 5, 5, 4, 5, 4, 5, 6, 4, 8, 6, 5, 5, 7, 4, 6, 3, 4, 3, 5, 5, 4, 3, 4, 4, 6, 2, 4, 5, 6, 3, 7, 8, 6, 5, 4, 6, 6, 4, 6, 5, 7, 5, 4, 5, 5, 4, 4, 5, 5, 4, 5, 6, 6, 2, 5, 2, 5, 8, 7, 5, 2, 6, 3, 5, 5, 7, 6, 4, 4, 5, 5, 2, 6, 2, 5, 5, 3, 4, 5, 4, 6, 6, 6, 6, 5, 4, 5, 6, 4, 6, 5, 4, 6, 3, 6, 7, 2, 2, 5, 4, 4, 4, 6, 5, 3, 7, 6, 4, 6, 4, 4, 6, 5, 6, 4, 6, 4, 7, 7, 4, 6, 3, 6, 5, 5, 4, 2, 3, 5, 6, 5, 5, 5, 2, 5, 4, 7, 8, 4, 5, 4, 5, 7, 5, 5, 4, 7, 3, 4, 7, 4, 7, 5, 5, 4, 5, 7, 3, 6, 6, 5, 5, 9, 3, 8, 3, 5, 6, 3, 4, 6, 4, 5, 8, 4, 6, 7, 6, 6, 5, 2, 4, 4, 6, 5, 4, 4, 6, 3, 6, 3, 6, 5, 5, 6, 6, 6, 6, 6, 6, 7, 3, 4, 6, 6, 3, 5, 5, 4, 6, 4, 3, 6, 5, 4, 8, 8, 6, 7, 5, 6, 5, 7, 5, 4, 4, 6, 8, 6, 5, 3, 6, 6, 5, 6, 7, 5, 7, 6, 7, 2, 4, 8, 5, 7, 8, 4, 3, 8, 7, 5, 6, 6, 8, 5, 6, 9, 6, 5, 5, 6, 7, 4, 6, 4, 5, 4, 7, 3, 5, 5, 6, 3, 3, 4, 5, 5, 5, 7, 2, 4, 5, 6, 7, 5, 6, 3, 3, 4, 4, 7, 4, 5, 4, 8, 5, 6, 5, 7, 7, 5, 7, 5, 5, 7, 5, 5, 8, 4, 5, 4, 5, 4, 6, 6, 4, 4, 8, 7, 7, 6, 4, 3, 5, 7, 4, 5, 4, 6, 5, 6, 7, 4, 5, 6, 4, 8, 4, 5, 4, 6, 6, 3, 5, 5, 3, 4, 4, 7, 7, 6, 7, 2, 2, 6, 9, 3, 5, 6, 4, 5, 4, 3, 5, 6, 7, 5, 7, 4, 6, 5, 8, 5, 6, 4, 6, 5, 4, 4, 7, 5, 4, 4, 3, 7, 6, 4, 5, 5, 7, 4, 3, 6, 2, 3, 5, 4, 4, 4, 4, 6, 5, 4, 3, 5, 6, 5, 3, 3, 3, 8, 6, 5, 7, 6, 6, 5, 5, 3, 3, 6, 7, 7, 1, 5, 7, 5, 8, 5, 4, 6, 5, 5, 3, 6, 4, 5, 5, 2, 5, 4, 5, 4, 5, 5, 4, 2, 3, 4, 5, 3, 4, 7, 5, 2, 3, 3, 8, 5, 3, 5, 2, 8, 8, 5, 5, 6, 5, 7, 5, 3, 3, 7, 3, 5, 6, 4, 5, 5, 4, 6, 7, 5, 7, 7, 4, 5, 7, 5, 6, 4, 5, 6, 5, 6, 7, 6, 5, 4, 5, 6, 5, 5, 6, 6, 7, 9, 6, 3, 6, 8, 7, 5, 3, 6, 2, 4, 5, 3, 6, 5, 6, 4, 3, 6, 5, 6, 6, 4, 4, 6, 5, 2, 8, 4, 4, 5, 3, 4, 4, 4, 6, 4, 2, 2, 5, 3, 5, 6, 6, 5, 7, 4, 5, 5, 6, 6, 6, 7, 6, 6, 5, 2, 6, 7, 4, 6, 6, 5, 6, 5, 7, 3, 4, 3, 5, 5, 1, 4, 7, 7, 6, 5, 2, 5, 6, 6, 4, 8, 6, 8, 3, 7, 7, 3, 7, 3, 4, 7, 4, 5, 7, 6, 7, 5, 4, 4, 5, 4, 4, 5, 6, 5, 7, 6, 7, 2, 3, 4, 6, 5, 4, 3, 4, 6, 5, 5, 6, 4, 3, 8, 8, 5, 6, 5, 5, 6, 2, 5, 5, 6, 9, 7, 5, 8, 5, 8, 6, 5, 5, 6, 7, 7, 3, 4, 4, 5, 4, 2, 6, 6, 6, 4, 4, 5, 7, 2, 8, 4, 4, 5, 8, 7, 4, 6, 5, 4, 3, 6, 3, 6, 4, 2, 3, 8, 4, 6, 6, 6, 8, 5, 4, 7, 5, 5, 3, 6, 4, 5, 5, 7, 7, 7, 5, 5, 8, 5, 4, 5, 2, 7, 5, 3, 4, 6, 5, 1, 4, 3, 5, 6, 7, 6, 5, 6, 5, 6, 6, 7, 8, 3, 1, 5, 3, 7, 6, 6, 4, 4, 7, 3, 6, 3, 3, 4, 4, 6, 3, 4, 4, 5, 8, 3, 5, 4, 5, 6, 5, 8, 6, 6, 5, 4, 3, 4, 5, 3, 4, 6, 5, 5, 5, 5, 8, 6, 3, 6, 3, 4, 6, 3, 4, 6, 6, 7, 3, 5, 6, 6, 4, 5, 5, 7, 6, 4, 5, 5, 3, 6, 9, 8, 6, 4, 7, 5, 3, 4, 4, 6, 5, 7, 2, 6, 8, 8, 2, 8, 3, 3, 4, 4, 5, 3, 5, 4, 7, 2, 4, 5, 5, 6, 6, 4, 6, 7, 5, 7, 5, 6, 7, 5, 5, 6, 5, 3, 8, 5, 4, 5, 4, 4, 4, 6, 7, 4, 2, 7, 5, 3, 5, 5, 8, 6, 6, 6, 4, 4, 8, 4, 5, 5, 2, 4, 5, 4, 1, 8, 6, 5, 6, 5, 6, 5, 4, 4, 4, 5, 2, 3, 6, 2, 4, 5, 4, 9, 5, 7, 3, 4, 5, 5, 3, 7, 6, 1, 5, 3, 3, 4, 4, 5, 4, 4, 5, 7, 4, 3, 5, 5, 5, 6, 3, 2, 5, 4, 4, 7, 5, 2, 5, 6, 4, 5, 5, 4, 5, 5, 5, 3, 2, 5, 3, 6, 7, 6, 5, 2, 7, 5, 6, 4, 6, 5, 6, 5, 6, 4, 3, 4, 5, 3, 5, 5, 3, 6, 6, 3, 5, 7, 5, 4, 2, 6, 5, 8, 4, 5, 7, 3, 6, 5, 4, 6, 6, 3, 4, 6, 4, 5, 2, 5, 4, 3, 4, 1, 5, 6, 5, 3, 4, 6, 5, 4, 2, 6, 6, 8, 6, 4, 4, 6, 7, 4, 4, 6, 5, 5, 8, 6, 4, 6, 4, 5, 4, 4, 5, 1, 2, 4, 4, 4, 5, 7, 6, 6, 5, 6, 4, 5, 3, 6, 5, 3, 6, 6, 4, 2, 2, 4, 4, 4, 7, 5, 3, 2, 6, 4, 4, 5, 6, 6, 3, 4, 6, 7, 8, 5, 5, 3, 3, 6, 1, 6, 4, 4, 6, 7, 5, 5, 5, 3, 4, 4, 7, 2, 3, 4, 3, 5, 5, 5, 4, 5, 4, 6, 6, 5, 6, 3, 7, 8, 6, 5, 2, 6, 5, 4, 7, 7, 6, 4, 4, 3, 4, 6, 5, 7, 2, 6, 4, 1, 6, 6, 7, 5, 4, 6, 2, 3, 5, 8, 4, 6, 3, 6, 8, 4, 7, 4, 6, 3, 6, 3, 5, 5, 4, 4, 8, 4, 6, 4, 8, 6, 6, 6, 6, 6, 3, 2, 1, 5, 3, 7, 6, 6, 7, 7, 5, 5, 6, 4, 7, 3, 5, 7, 5, 4, 4, 4, 4, 3, 6, 4, 5, 5, 6, 3, 5, 5, 5, 7, 6, 2, 5, 3, 5, 4, 7, 7, 5, 5, 3, 2, 7, 5, 7, 3, 3, 5, 4, 4, 3, 6, 4, 3, 4, 5, 5, 5, 3, 4, 5, 6, 6, 6, 5, 7, 6, 8, 5, 4, 2, 4, 7, 7, 3, 5, 4, 4, 7, 7, 4, 7, 7, 6, 5, 8, 4, 7, 5, 5, 5, 6, 1, 5, 5, 2, 9, 4, 7, 9, 7, 4, 8, 4, 4, 4, 4, 6, 7, 6, 8, 7, 8, 7, 3, 8, 5, 5, 7, 5, 3, 9, 4, 4, 2, 2, 6, 5, 3, 8, 5, 4, 6, 5, 7, 6, 5, 5, 3, 4, 4, 1, 4, 4, 5, 4, 3, 4, 4, 7, 5, 5, 7, 6, 5, 7, 4, 8, 4, 2, 5, 2, 2, 5, 6, 6, 6, 4, 3, 5, 7, 7, 5, 7, 4, 6, 8, 4, 7, 6, 4, 5, 3, 4, 5, 5, 2, 6, 6, 6, 5, 5, 7, 5, 7, 5, 5, 5, 6, 6, 3, 4, 4, 7, 7, 4, 5, 8, 5, 4, 6, 7, 6, 6, 6, 8, 4, 5, 5, 7, 6, 5, 2, 4, 4, 8, 7, 5, 3, 6, 3, 7, 3, 6, 5, 5, 7, 5, 7, 5, 5, 7, 7, 6, 8, 4, 3, 8, 3, 5, 3, 6, 8, 5, 8, 9, 5, 2, 5, 6, 7, 6, 4, 5, 6, 6, 7, 2, 5, 4, 6, 7, 4, 4, 2, 6, 5, 6, 5, 4, 6, 3, 7, 4, 5, 3, 4, 7, 5, 5, 5, 4, 2, 5, 5, 3, 4, 6, 1, 6, 7, 4, 5, 4, 4, 8, 6, 5, 7, 6, 6, 4, 6, 7, 6, 5, 2, 4, 6, 5, 7, 7, 5, 5, 7, 7, 5, 6, 6, 5, 3, 6, 7, 3, 6, 4, 6, 7, 5, 5, 8, 5, 6, 7, 3, 3, 4, 6, 5, 6, 6, 4, 4, 5, 5, 1, 6, 8, 2, 7, 4, 3, 7, 5, 4, 4, 2, 8, 7, 6, 5, 6, 4, 6, 6, 3, 3, 7, 5, 7, 8, 4, 4, 5, 5, 4, 8, 6, 2, 5, 3, 3, 5, 6, 6, 8, 6, 8, 5, 6, 1, 4, 2, 5, 8, 6, 6, 3, 4, 4, 4, 5, 6, 3, 5, 4, 5, 1, 4, 2, 5, 6, 4, 3, 8, 9, 6, 5, 5, 3, 7, 2, 4, 6, 6, 7, 5, 6, 6, 7, 4, 5, 4, 8, 5, 6, 4, 3, 7, 7, 5, 3, 6, 6, 6, 3, 5, 7, 6, 4, 7, 6, 4, 5, 8, 6, 5, 7, 3, 5, 6, 5, 7, 5, 7, 5, 4, 5, 4, 6, 5, 3, 9, 8, 6, 2, 3, 5, 5, 4, 5, 6, 8, 6, 6, 7, 4, 7, 6, 6, 3, 4, 7, 7, 3, 4, 1, 7, 5, 3, 5, 1, 2, 4, 6, 5, 5, 6, 5, 3, 4, 4, 6, 6, 4, 5, 6, 4, 7, 6, 6, 1, 3, 7, 7, 6, 3, 7, 2, 4, 1, 3, 4, 6, 2, 5, 5, 5, 5, 4, 4, 6, 5, 5, 5, 5, 5, 4, 2, 6, 7, 5, 4, 4, 8, 5, 5, 5, 5, 5, 2, 7, 7, 6, 3, 3, 6, 3, 6, 5, 6, 3, 7, 5, 5, 6, 4, 4, 4, 6, 7, 3, 3, 4, 8, 5, 8, 6, 2, 3, 2, 4, 9, 4, 3, 7, 7, 6, 7, 5, 6, 4, 6, 5, 2, 3, 4, 7, 4, 5, 6, 3, 4, 4, 2, 6, 5, 2, 6, 5, 3, 6, 4, 7, 6, 5, 2, 4, 6, 7, 6, 8, 5, 3, 6, 5, 3, 7, 7, 5, 10, 5, 6, 4, 5, 6, 4, 6, 8, 4, 6, 5, 5, 5, 4, 4, 8, 4, 7, 6, 7, 3, 8, 3, 5, 3, 4, 6, 6, 2, 7, 4, 8, 5, 7, 4, 4, 2, 4, 3, 5, 6, 5, 5, 5, 3, 5, 6, 6, 6, 5, 3, 5, 2, 5, 4, 5, 5, 6, 6, 6, 5, 7, 8, 7, 5, 4, 3, 5, 5, 8, 8, 7, 5, 5, 5, 4, 2, 5, 5, 8, 5, 5, 4, 4, 5, 6, 4, 4, 5, 7, 7, 6, 7, 6, 4, 5, 5, 4, 5, 5, 4, 5, 3, 6, 2, 6, 7, 4, 5, 6, 3, 6, 3, 6, 7, 3, 6, 5, 5, 8, 8, 7, 4, 8, 2, 5, 7, 7, 5, 4, 5, 6, 4, 7, 5, 7, 8, 6, 2, 4, 6, 6, 5, 2, 5, 6, 3, 6, 4, 6, 5, 7, 4, 5, 4, 5, 4, 6, 6, 5, 5, 6, 4, 6, 6, 6, 4, 3, 5, 4, 3, 6, 4, 3, 4, 7, 4, 4, 3, 4, 3, 6, 3, 5, 5, 4, 5, 8, 4, 6, 4, 3, 7, 5, 5, 3, 3, 6, 6, 8, 4, 5, 5, 4, 7, 7, 6, 4, 4, 5, 4, 4, 3, 6, 5, 6, 3, 4, 6, 6, 4, 5, 4, 4, 5, 2, 6, 5, 9, 5, 7, 5, 8, 5, 6, 3, 4, 5, 5, 1, 4, 5, 2, 5, 8, 4, 4, 5, 5, 3, 7, 5, 3, 4, 4, 3, 4, 2, 7, 5, 4, 5, 4, 5, 3, 4, 4, 5, 6, 6, 6, 6, 5, 3, 5, 1, 3, 5, 5, 2, 4, 5, 7, 3, 5, 3, 4, 7, 4, 8, 6, 7, 6, 7, 3, 3, 4, 3, 4, 3, 3, 4, 8, 4, 3, 4, 6, 7, 7, 2, 3, 5, 5, 1, 5, 5, 6, 9, 2, 4, 5, 6, 4, 5, 4, 6, 7, 7, 3, 5, 5, 8, 9, 6, 2, 4, 4, 6, 6, 3, 5, 6, 8, 5, 3, 5, 7, 4, 6, 5, 8, 3, 4, 3, 3, 5, 2, 8, 4, 7, 7, 4, 6, 4, 5, 6, 5, 5, 3, 5, 3, 5, 4, 4, 4, 5, 7, 6, 5, 4, 3, 5, 6, 4, 6, 5, 5, 4, 2, 5, 5, 7, 5, 2, 2, 8, 3, 6, 5, 4, 4, 5, 4, 2, 3, 6, 5, 5, 5, 3, 5, 5, 5, 7, 9, 5, 2, 5, 3, 5, 7, 4, 5, 6, 4, 6, 5, 7, 3, 7, 4, 5, 6, 4, 5, 5, 5, 2, 5, 6, 3, 7, 2, 4, 5, 2, 6, 7, 7, 4, 8, 5, 6, 7, 6, 4, 3, 3, 8, 6, 7, 4, 7, 5, 6, 4, 6, 6, 5, 8, 5, 4, 6, 6, 7, 6, 7, 4, 6, 6, 8, 7, 4, 5, 5, 6, 4, 4, 4, 6, 4, 4, 8, 7, 6, 6, 3, 6, 3, 2, 2, 5, 5, 5, 5, 4, 4, 4, 4, 2, 5, 6, 4, 6, 6, 7, 2, 7, 6, 4, 4, 4, 7, 4, 7, 6, 3, 3, 8, 6, 4, 5, 3, 5, 6, 5, 5, 4, 4, 6, 5, 4, 7, 5, 4, 5, 3, 7, 3, 7, 5, 5, 6, 6, 7, 7, 4, 2, 6, 3, 6, 7, 3, 3, 6, 7, 5, 6, 4, 5, 5, 5, 5, 4, 6, 4, 6, 4, 6, 4, 4, 5, 4, 4, 7, 5, 4, 5, 3, 5, 6, 7, 6, 5, 5, 4, 3, 4, 6, 5, 6, 2, 7, 8, 6, 7, 3, 6, 2, 5, 7, 6, 6, 6, 8, 7, 3, 4, 4, 5, 3, 6, 6, 4, 5, 6, 5, 8, 6, 3, 4, 7, 6, 5, 4, 6, 4, 5, 5, 5, 5, 6, 4, 7, 6, 6, 6, 2, 5, 6, 5, 4, 2, 3, 2, 5, 4, 4, 4, 4, 8, 4, 5, 4, 3, 8, 5, 4, 7, 5, 5, 4, 5, 7, 5, 8, 3, 5, 3, 5, 6, 5, 7, 3, 2, 6, 2, 8, 6, 4, 6, 8, 4, 4, 4, 6, 5, 7, 5, 4, 4, 2, 2, 5, 5, 5, 6, 8, 3, 5, 5, 6, 7, 6, 5, 5, 3, 4, 6, 3, 5, 4, 2, 3, 4, 4, 5, 5, 5, 4, 5, 8, 6, 6, 4, 5, 5, 5, 2, 4, 4, 6, 5, 8, 2, 6, 7, 5, 5, 6, 2, 4, 5, 4, 7, 6, 2, 4, 4, 4, 5, 5, 7, 6, 7, 2, 4, 6, 4, 4, 5, 4, 6, 6, 5, 4, 7, 5, 4, 4, 6, 4, 4, 6, 6, 8, 7, 4, 6, 5, 7, 6, 5, 4, 7, 4, 5, 7, 7, 5, 4, 4, 7, 6, 2, 5, 5, 6, 3, 5, 4, 3, 4, 4, 6, 6, 3, 6, 6, 5, 3, 4, 4, 5, 7, 3, 3, 4, 7, 6, 6, 6, 6, 6, 4, 8, 4, 6, 6, 5, 8, 4, 6, 6, 5, 2, 3, 5, 4, 5, 7, 6, 7, 6, 4, 5, 5, 6, 6, 2, 9, 7, 4, 6, 6, 3, 5, 6, 4, 5, 8, 2, 5, 5, 3, 10, 7, 6, 8, 5, 5, 5, 4, 5, 8, 6, 6, 4, 5, 3, 4, 5, 7, 5, 3, 5, 6, 6, 5, 2, 3, 6, 3, 5, 6, 6, 7, 7, 5, 5, 3, 4, 4, 4, 6, 8, 4, 6, 6, 4, 5, 8, 7, 6, 4, 2, 7, 3, 7, 5, 4, 6, 3, 5, 4, 6, 3, 4, 4, 5, 7, 5, 0, 2, 4, 5, 5, 6, 6, 4, 4, 3, 7, 2, 6, 4, 6, 4, 6, 5, 3, 4, 4, 6, 4, 3, 8, 5, 6, 3, 6, 5, 5, 7, 4, 2, 8, 5, 3, 6, 7, 5, 7, 6, 8, 5, 5, 6, 4, 3, 6, 4, 4, 10, 6, 3, 4, 5, 3, 5, 5, 2, 3, 4, 7, 4, 2, 5, 2, 4, 6, 5, 7, 4, 5, 5, 6, 4, 5, 5, 4, 5, 4, 4, 7, 4, 2, 2, 4, 7, 8, 3, 6, 1, 2, 4, 5, 6, 4, 6, 3, 5, 5, 3, 6, 6, 5, 4, 4, 8, 3, 5, 6, 3, 7, 4, 8, 5, 4, 7, 5, 4, 6, 4, 4, 6, 4, 5, 3, 5, 7, 5, 5, 3, 7, 6, 6, 5, 4, 2, 6, 3, 5, 0, 7, 5, 3, 6, 6, 6, 6, 5, 3, 3, 5, 4, 5, 3, 7, 8, 6, 7, 4, 4, 4, 7, 6, 7, 6, 5, 2, 2, 5, 5, 6, 5, 5, 7, 6, 7, 6, 6, 5, 3, 7, 4, 5, 7, 5, 7, 5, 3, 6, 5, 4, 3, 4, 5, 2, 6, 3, 5, 6, 5, 4, 3, 4, 4, 5, 5, 4, 4, 6, 7, 5, 4, 7, 8, 3, 3, 5, 5, 5, 6, 7, 4, 4, 3, 5, 8, 4, 7, 3, 3, 5, 4, 5, 4, 6, 5, 3, 7, 2, 3, 2, 7, 5, 5, 5, 7, 5, 7, 7, 5, 7, 5, 6, 6, 3, 8, 4, 5, 8, 5, 5, 5, 8, 2, 9, 4, 4, 4, 6, 4, 4, 6, 2, 6, 3, 6, 5, 5, 5, 5, 5, 8, 3, 5, 6, 7, 4, 7, 4, 4, 2, 5, 5, 6, 6, 5, 7, 6, 6, 6, 4, 7, 4, 6, 3, 4, 8, 4, 5, 5, 1, 4, 6, 5, 6, 5, 9, 6, 5, 4, 5, 6, 1, 8, 2, 5, 5, 4, 7, 8, 9, 7, 5, 5, 7, 4, 5, 6, 6, 4, 3, 4, 4, 6, 4, 4, 6, 7, 7, 7, 1, 5, 2, 6, 5, 5, 1, 6, 6, 7, 4, 5, 4, 5, 4, 4, 5, 4, 2, 4, 9, 3, 7, 5, 6, 6, 3, 4, 3, 7, 3, 2, 8, 7, 3, 7, 6, 6, 7, 6, 5, 4, 4, 5, 8, 6, 6, 2, 4, 7, 6, 6, 6, 6, 5, 6, 6, 5, 5, 4, 2, 4, 5, 9, 5, 4, 4, 2, 4, 7, 5, 5, 5, 6, 3, 3, 3, 5, 5, 5, 6, 5, 3, 6, 5, 5, 7, 4, 5, 5, 6, 7, 6, 5, 4, 6, 5, 5, 5, 3, 3, 4, 3, 5, 2, 4, 6, 4, 6, 6, 4, 5, 3, 4, 6, 2, 6, 3, 3, 7, 7, 6, 5, 4, 3, 4, 3, 5, 4, 5, 5, 5, 5, 7, 4, 3, 4, 7, 7, 7, 5, 8, 2, 5, 4, 7, 7, 4, 6, 3, 5, 6, 3, 5, 3, 8, 4, 4, 6, 3, 5, 7, 6, 5, 7, 3, 5, 5, 8, 6, 1, 6, 4, 6, 4, 4, 4, 5, 4, 5, 7, 7, 4, 5, 7, 6, 3, 4, 4, 6, 3, 6, 6, 3, 5, 6, 4, 3, 7, 6, 7, 7, 4, 7, 6, 4, 2, 5, 5, 4, 8, 5, 6, 7, 3, 3, 8, 6, 6, 4, 8, 5, 2, 7, 3, 4, 5, 2, 4, 5, 9, 6, 7, 2, 5, 4, 4, 8, 4, 4, 7, 5, 7, 3, 6, 1, 5, 6, 3, 4, 6, 5, 5, 5, 6, 2, 7, 5, 6, 6, 4, 8, 5, 6, 4, 2, 8, 6, 8, 3, 2, 5, 4, 4, 3, 6, 3, 4, 3, 3, 6, 3, 4, 4, 3, 5, 5, 7, 5, 5, 6, 5, 8, 5, 5, 5, 6, 6, 5, 5, 4, 4, 8, 6, 4, 4, 6, 6, 6, 5, 5, 5, 7, 4, 5, 4, 6, 3, 6, 4, 7, 4, 4, 6, 3, 5, 7, 4, 6, 4, 4, 7, 3, 8, 3, 8, 4, 3, 8, 6, 4, 5, 4, 7, 3, 6, 3, 4, 6, 4, 5, 5, 4, 6, 3, 4, 4, 4, 4, 5, 4, 5, 5, 8, 5, 4, 6, 4, 5, 6, 3, 6, 3, 3, 7, 4, 4, 5, 2, 4, 2, 7, 6, 7, 7, 6, 3, 2, 8, 5, 4, 5, 5, 5, 3, 7, 5, 4, 7, 3, 4, 5, 4, 8, 2, 3, 2, 4, 6, 6, 5, 4, 8, 6, 5, 5, 6, 4, 4, 3, 4, 7, 5, 6, 7, 5, 1, 8, 8, 5, 1, 7, 4, 3, 4, 3, 3, 5, 4, 6, 7, 3, 4, 8, 4, 7, 4, 5, 4, 5, 6, 5, 3, 7, 5, 5, 9, 4, 3, 6, 3, 3, 6, 7, 5, 4, 3, 2, 6, 5, 3, 6, 6, 6, 3, 4, 7, 3, 6, 5, 5, 2, 7, 3, 4, 6, 4, 5, 5, 4, 3, 5, 5, 3, 5, 5, 4, 5, 4, 7, 5, 8, 7, 7, 4, 3, 6, 2, 5, 3, 2, 5, 3, 5, 3, 7, 3, 5, 4, 5, 5, 4, 5, 7, 5, 6, 4, 5, 4, 4, 3, 5, 4, 6, 8, 6, 3, 3, 5, 7, 3, 5, 6, 6, 6, 6, 6, 2, 3, 4, 2, 3, 3, 5, 4, 6, 7, 3, 7, 7, 5, 3, 6, 5, 2, 7, 4, 3, 3, 4, 5, 5, 7, 4, 5, 3, 8, 5, 6, 4, 4, 4, 6, 3, 5, 5, 5, 5, 3, 3, 3, 5, 7, 6, 5, 3, 2, 5, 6, 7, 7, 5, 5, 3, 4, 7, 5, 5, 3, 4, 6, 6, 5, 6, 7, 4, 8, 5, 3, 6, 5, 3, 6, 5, 3, 4, 5, 2, 5, 6, 5, 5, 4, 5, 6, 8, 7, 7, 4, 5, 7, 4, 7, 7, 4, 7, 3, 5, 6, 4, 5, 3, 8, 4, 8, 4, 4, 3, 7, 2, 4, 7, 4, 7, 7, 7, 7, 5, 4, 7, 6, 5, 6, 3, 8, 3, 3, 5, 3, 5, 5, 3, 5, 3, 4, 5, 1, 5, 5, 5, 6, 6, 3, 4, 7, 5, 4, 7, 5, 6, 4, 5, 6, 5, 5, 3, 5, 2, 5, 5, 5, 5, 4, 4, 7, 5, 5, 7, 5, 4, 4, 5, 7, 5, 4, 6, 8, 8, 4, 7, 5, 7, 6, 6, 5, 6, 0, 5, 5, 6, 3, 4, 5, 6, 6, 4, 5, 4, 6, 7, 5, 5, 4, 5, 8, 6, 5, 5, 8, 7, 4, 4, 4, 5, 5, 4, 5, 4, 5, 5, 6, 4, 6, 5, 7, 6, 4, 5, 3, 6, 6, 4, 3, 7, 7, 3, 9, 3, 4, 4, 6, 7, 3, 3, 5, 3, 3, 4, 5, 7, 7, 4, 2, 3, 5, 4, 6, 6, 7, 6, 5, 7, 3, 2, 3, 4, 3, 5, 6, 5, 5, 7, 5, 5, 3, 4, 6, 9, 6, 4, 4, 5, 5, 5, 3, 5, 6, 8, 4, 8, 6, 4, 5, 1, 2, 4, 1, 7, 4, 6, 4, 6, 6, 5, 4, 3, 8, 4, 1, 4, 4, 8, 4, 5, 5, 7, 6, 6, 5, 5, 5, 6, 9, 3, 2, 2, 4, 6, 7, 6, 3, 5, 5, 3, 6, 6, 5, 6, 3, 7, 4, 5, 7, 6, 6, 4, 4, 4, 8, 7, 6, 7, 7, 4, 5, 3, 7, 8, 4, 4, 5, 4, 4, 5, 4, 4, 5, 8, 4, 6, 8, 4, 5, 7, 4, 3, 4, 6, 8, 5, 8, 4, 4, 5, 7, 4, 8, 5, 5, 7, 6, 5, 4, 6, 3, 8, 7, 6, 7, 7, 5, 5, 4, 5, 4, 6, 5, 6, 7, 4, 5, 7, 5, 5, 6, 7, 4, 2, 4, 6, 3, 7, 6, 6, 5, 4, 4, 6, 4, 5, 4, 3, 4, 5, 6, 5, 5, 2, 4, 4, 4, 8, 2, 7, 4, 5, 3, 2, 3, 6, 4, 4, 7, 5, 6, 4, 4, 2, 6, 3, 3, 7, 6, 4, 7, 2, 6, 6, 3, 5, 7, 6, 1, 5, 7, 4, 5, 4, 4, 4, 5, 3, 5, 5, 4, 8, 4, 5, 4, 6, 4, 9, 4, 6, 4, 5, 9, 5, 5, 3, 6, 7, 3, 6, 4, 4, 5, 4, 6, 5, 3, 4, 7, 6, 4, 4, 3, 5, 7, 3, 6, 6, 6, 5, 3, 1, 6, 5, 4, 8, 6, 6, 6, 5, 4, 4, 5, 5, 5, 6, 6, 5, 6, 7, 8, 6, 4, 4, 6, 4, 5, 6, 6, 5, 3, 4, 3, 6, 2, 4, 3, 2, 6, 5, 6, 6, 3, 4, 3, 9, 8, 5, 5, 4, 8, 6, 6, 2, 7, 6, 2, 5, 3, 4, 5, 4, 5, 6, 4, 9, 7, 7, 6, 4, 3, 7, 5, 4, 3, 5, 4, 6, 3, 3, 2, 6, 3, 6, 7, 5, 6, 4, 5, 3, 3, 5, 5, 3, 9, 5, 4, 2, 3, 7, 5, 2, 7, 3, 6, 4, 5, 3, 6, 7, 3, 5, 5, 3, 5, 4, 6, 6, 5, 4, 6, 5, 5, 5, 4, 6, 5, 6, 5, 5, 7, 5, 10, 4, 6, 5, 2, 4, 5, 8, 8, 7, 4, 5, 5, 5, 6, 4, 5, 7, 8, 4, 6, 3, 5, 6, 9, 5, 5, 2, 3, 5, 3, 6, 3, 5, 4, 6, 4, 6, 8, 3, 4, 5, 1, 5, 7, 5, 5, 5, 1, 5, 4, 5, 5, 5, 2, 6, 6, 3, 3, 8, 6, 6, 6, 8, 6, 7, 4, 8, 6, 5, 6, 4, 5, 3, 5, 4, 5, 3, 5, 5, 7, 6, 8, 6, 4, 4, 5, 4, 6, 4, 5, 2, 5, 5, 6, 5, 7, 5, 4, 7, 4, 3, 6, 6, 3, 5, 5, 7, 4, 4, 4, 5, 5, 8, 5, 6, 4, 4, 6, 6, 5, 7, 4, 4, 4, 2, 2, 5, 5, 6, 6, 3, 4, 5, 3, 6, 3, 8, 7, 2, 5, 3, 4, 2, 5, 4, 5, 8, 5, 6, 5, 5, 6, 5, 5, 6, 6, 4, 4, 5, 9, 7, 3, 6, 5, 5, 6, 5, 7, 3, 4, 3, 7, 6, 5, 4, 8, 6, 7, 4, 3, 7, 7, 7, 5, 3, 3, 6, 3, 5, 5, 8, 4, 5, 5, 2, 10, 4, 4, 7, 4, 5, 5, 5, 4, 4, 3, 6, 3, 4, 4, 6, 4, 8, 4, 8, 7, 3, 4, 6, 4, 5, 6, 5, 5, 5, 3, 8, 4, 4, 5, 6, 5, 5, 7, 5, 7, 4, 6, 7, 8, 3, 2, 4, 4, 5, 5, 6, 3, 5, 2, 4, 5, 6, 5, 3, 7, 5, 7, 7, 6, 2, 3, 5, 3, 5, 7, 5, 8, 8, 6, 4, 5, 6, 6, 6, 5, 5, 4, 8, 8, 4, 5, 7, 3, 4, 2, 5, 3, 5, 4, 8, 3, 5, 6, 3, 3, 1, 3, 5, 6, 6, 4, 9, 5, 9, 3, 4, 4, 4, 5, 7, 4, 6, 4, 6, 6, 6, 5, 3, 6, 4, 4, 6, 5, 5, 8, 5, 5, 2, 7, 6, 6, 4, 5, 2, 4, 4, 2, 5, 6, 4, 4, 7, 6, 6, 8, 4, 4, 6, 4, 8, 4, 4, 7, 5, 4, 5, 6, 5, 6, 5, 6, 5, 5, 5, 8, 4, 4, 3, 5, 6, 4, 7, 5, 3, 8, 5, 5, 5, 6, 4, 5, 5, 6, 6, 5, 3, 5, 7, 3, 6, 4, 5, 4, 7, 5, 7, 5, 4, 2, 5, 5, 5, 6, 6, 4, 7, 6, 5, 5, 6, 4, 3, 6, 3, 6, 7, 6, 6, 5, 6, 7, 5, 5, 4, 6, 6, 9, 6, 6, 5, 4, 8, 4, 6, 3, 4, 5, 6, 5, 7, 6, 7, 7, 7, 7, 3, 5, 4, 4, 4, 3, 2, 4, 8, 5, 3, 1, 6, 6, 5, 5, 5, 6, 6, 5, 7, 5, 6, 7, 4, 4, 3, 4, 7, 6, 7, 4, 1, 6, 7, 5, 3, 5, 4, 7, 3, 5, 5, 7, 6, 6, 1, 6, 6, 3, 6, 5, 4, 5, 2, 3, 7, 5, 5, 5, 6, 2, 5, 7, 6, 5, 4, 2, 5, 6, 7, 5, 2, 6, 2, 5, 6, 1, 5, 4, 4, 7, 4, 5, 7, 6, 6, 4, 6, 4, 5, 7, 6, 4, 3, 7, 6, 5, 2, 3, 6, 6, 5, 5, 6, 7, 4, 2, 6, 9, 4, 4, 9, 3, 6, 5, 2, 4, 5, 7, 3, 7, 5, 3, 3, 5, 2, 6, 4, 6, 3, 5, 6, 6, 2, 7, 5, 7, 4, 4, 8, 5, 5, 6, 3, 4, 7, 3, 8, 3, 6, 4, 5, 5, 7, 6, 4, 7, 4, 3, 4, 7, 6, 7, 4, 7, 4, 6, 5, 8, 3, 6, 7, 7, 5, 3, 6, 6, 3, 6, 6, 2, 6, 3, 6, 7, 7, 6, 4, 3, 6, 2, 6, 4, 7, 2, 5, 3, 4, 5, 7, 4, 4, 5, 4, 6, 5, 6, 3, 5, 7, 4, 6, 6, 6, 5, 3, 3, 5, 5, 6, 6, 2, 3, 6, 5, 4, 3, 5, 5, 3, 6, 3, 4, 4, 6, 7, 4, 4, 5, 5, 4, 6, 2, 4, 4, 8, 4, 4, 6, 5, 5, 2, 6, 5, 6, 4, 7, 4, 7, 6, 7, 2, 5, 5, 7, 4, 6, 6, 6, 5, 3, 5, 5, 6, 7, 3, 8, 7, 2, 4, 8, 4, 6, 5, 7, 4, 5, 5, 5, 7, 5, 4, 4, 5, 5, 6, 6, 5, 2, 3, 4, 5, 6, 8, 6, 3, 5, 5, 6, 4, 7, 6, 3, 5, 5, 3, 4, 4, 5, 4, 4, 4, 3, 2, 5, 6, 5, 6, 6, 6, 7, 4, 5, 5, 4, 3, 6, 2, 4, 7, 3, 4, 5, 4, 3, 6, 7, 3, 6, 6, 4, 6, 5, 4, 6, 7, 3, 6, 2, 5, 4, 6, 2, 5, 5, 6, 5, 3, 6, 7, 7, 4, 4, 7, 7, 6, 6, 3, 5, 4, 5, 8, 3, 5, 3, 4, 3, 3, 7, 6, 2, 6, 5, 5, 6, 3, 4, 4, 6, 6, 3, 6, 5, 4, 3, 2, 7, 5, 4, 6, 3, 7, 6, 6, 4, 7, 6, 7, 4, 5, 5, 3, 6, 4, 5, 6, 5, 3, 5, 4, 4, 6, 7, 5, 6, 6, 3, 8, 6, 4, 6, 7, 6, 5, 3, 5, 5, 5, 5, 6, 5, 2, 5, 4, 2, 3, 5, 3, 4, 7, 6, 3, 5, 7, 4, 4, 6, 4, 5, 7, 3, 5, 9, 6, 8, 5, 4, 5, 7, 6, 4, 6, 2, 7, 2, 4, 5, 4, 4, 7, 6, 5, 6, 3, 3, 3, 5, 4, 3, 4, 7, 3, 5, 5, 7, 6, 1, 3, 4, 4, 4, 6, 5, 6, 5, 6, 7, 8, 6, 5, 6, 6, 4, 8, 5, 8, 6, 5, 5, 6, 8, 7, 6, 7, 4, 4, 4, 5, 6, 5, 3, 7, 6, 6, 3, 4, 4, 4, 4, 7, 6, 6, 2, 5, 4, 5, 5, 5, 4, 4, 5, 3, 5, 5, 7, 5, 4, 4, 6, 5, 5, 6, 2, 5, 5, 5, 3, 6, 6, 3, 5, 6, 7, 6, 7, 5, 4, 4, 7, 8, 3, 5, 6, 4, 6, 6, 3, 4, 3, 4, 7, 5, 7, 4, 4, 7, 5, 2, 5, 2, 3, 4, 4, 2, 4, 5, 7, 6, 4, 5, 6, 5, 4, 6, 6, 4, 5, 5, 4, 7, 5, 6, 5, 5, 5, 4, 5, 6, 4, 6, 7, 3, 6, 4, 5, 4, 4, 6, 3, 4, 5, 5, 5, 4, 5, 3, 3, 5, 4, 4, 7, 5, 4, 6, 6, 7, 4, 6, 7, 7, 6, 6, 6, 4, 6, 6, 5, 3, 4, 4, 5, 4, 5, 4, 3, 3, 6, 4, 4, 4, 2, 2, 4, 7, 4, 8, 6, 4, 5, 6, 4, 7, 4, 6, 2, 3, 4, 4, 3, 6, 4, 5, 4, 5, 4, 5, 6, 7, 8, 3, 4, 4, 6, 7, 4, 3, 7, 3, 5, 5, 5, 5, 5, 5, 6, 8, 4, 4, 3, 4, 4, 6, 3, 2, 6, 9, 5, 8, 6, 8, 3, 4, 8, 7, 5, 4, 7, 4, 4]\n"
     ]
    }
   ],
   "source": [
    "np.random.seed(123)\n",
    "final_tails = []\n",
    "\n",
    "for x in range(10000):\n",
    "    tails = [0]\n",
    "    for xx in range(10):\n",
    "        coin = np.random.randint(0,2)\n",
    "        tails.append(tails[xx]+coin)\n",
    "    final_tails.append(tails[-1])\n",
    "\n",
    "print(final_tails)"
   ]
  },
  {
   "cell_type": "code",
   "execution_count": 53,
   "id": "79207f3a",
   "metadata": {},
   "outputs": [
    {
     "data": {
      "image/png": "[encoded data removed]",
      "text/plain": [
       "<Figure size 432x288 with 1 Axes>"
      ]
     },
     "metadata": {
      "needs_background": "light"
     },
     "output_type": "display_data"
    }
   ],
   "source": [
    "plt.hist(final_tails, bins=10)\n",
    "plt.show()"
   ]
  },
  {
   "cell_type": "code",
   "execution_count": null,
   "id": "99ec9867",
   "metadata": {},
   "outputs": [],
   "source": []
  }
 ],
 "metadata": {
  "kernelspec": {
   "display_name": "Python 3 (ipykernel)",
   "language": "python",
   "name": "python3"
  },
  "language_info": {
   "codemirror_mode": {
    "name": "ipython",
    "version": 3
   },
   "file_extension": ".py",
   "mimetype": "text/x-python",
   "name": "python",
   "nbconvert_exporter": "python",
   "pygments_lexer": "ipython3",
   "version": "3.9.5"
  }
 },
 "nbformat": 4,
 "nbformat_minor": 5
}
