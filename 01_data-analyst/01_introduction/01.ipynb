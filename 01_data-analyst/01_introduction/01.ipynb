{
 "cells": [
  {
   "cell_type": "code",
   "execution_count": 10,
   "id": "d4ac3993",
   "metadata": {},
   "outputs": [],
   "source": [
    "import pandas as pd"
   ]
  },
  {
   "cell_type": "code",
   "execution_count": 14,
   "id": "96528f46",
   "metadata": {},
   "outputs": [],
   "source": [
    "credit_records = pd.read_csv('https://docs.google.com/spreadsheets/d/e/2PACX-1vQYe0Lsydx6HyVe4FBHjBsLxvAsjii-qobZ-oGGZryFJWRFjemjs43BwZQONRAhLCawSUBkBDI__-Xw/pub?gid=1503578122&single=true&output=csv')"
   ]
  },
  {
   "cell_type": "code",
   "execution_count": 15,
   "id": "fd9e7166",
   "metadata": {},
   "outputs": [
    {
     "data": {
      "text/html": [
       "<div>\n",
       "<style scoped>\n",
       "    .dataframe tbody tr th:only-of-type {\n",
       "        vertical-align: middle;\n",
       "    }\n",
       "\n",
       "    .dataframe tbody tr th {\n",
       "        vertical-align: top;\n",
       "    }\n",
       "\n",
       "    .dataframe thead th {\n",
       "        text-align: right;\n",
       "    }\n",
       "</style>\n",
       "<table border=\"1\" class=\"dataframe\">\n",
       "  <thead>\n",
       "    <tr style=\"text-align: right;\">\n",
       "      <th></th>\n",
       "      <th>suspect</th>\n",
       "      <th>location</th>\n",
       "      <th>date</th>\n",
       "      <th>item</th>\n",
       "      <th>price</th>\n",
       "    </tr>\n",
       "  </thead>\n",
       "  <tbody>\n",
       "    <tr>\n",
       "      <th>0</th>\n",
       "      <td>Kirstine Smith</td>\n",
       "      <td>Groceries R Us</td>\n",
       "      <td>43106</td>\n",
       "      <td>broccoli</td>\n",
       "      <td>1.25</td>\n",
       "    </tr>\n",
       "    <tr>\n",
       "      <th>1</th>\n",
       "      <td>Gertrude Cox</td>\n",
       "      <td>Petroleum Plaza</td>\n",
       "      <td>43106</td>\n",
       "      <td>fizzy drink</td>\n",
       "      <td>1.90</td>\n",
       "    </tr>\n",
       "    <tr>\n",
       "      <th>2</th>\n",
       "      <td>Fred Frequentist</td>\n",
       "      <td>Groceries R Us</td>\n",
       "      <td>43106</td>\n",
       "      <td>broccoli</td>\n",
       "      <td>1.25</td>\n",
       "    </tr>\n",
       "    <tr>\n",
       "      <th>3</th>\n",
       "      <td>Gertrude Cox</td>\n",
       "      <td>Groceries R Us</td>\n",
       "      <td>43112</td>\n",
       "      <td>broccoli</td>\n",
       "      <td>1.25</td>\n",
       "    </tr>\n",
       "    <tr>\n",
       "      <th>4</th>\n",
       "      <td>Kirstine Smith</td>\n",
       "      <td>Clothing Club</td>\n",
       "      <td>43109</td>\n",
       "      <td>shirt</td>\n",
       "      <td>14.25</td>\n",
       "    </tr>\n",
       "  </tbody>\n",
       "</table>\n",
       "</div>"
      ],
      "text/plain": [
       "            suspect         location   date         item  price\n",
       "0    Kirstine Smith   Groceries R Us  43106     broccoli   1.25\n",
       "1      Gertrude Cox  Petroleum Plaza  43106  fizzy drink   1.90\n",
       "2  Fred Frequentist   Groceries R Us  43106     broccoli   1.25\n",
       "3      Gertrude Cox   Groceries R Us  43112     broccoli   1.25\n",
       "4    Kirstine Smith    Clothing Club  43109        shirt  14.25"
      ]
     },
     "execution_count": 15,
     "metadata": {},
     "output_type": "execute_result"
    }
   ],
   "source": [
    "credit_records.head()"
   ]
  },
  {
   "cell_type": "markdown",
   "id": "0d0f553f",
   "metadata": {},
   "source": [
    "## Selecting Columns"
   ]
  },
  {
   "cell_type": "code",
   "execution_count": 22,
   "id": "96a4be34",
   "metadata": {},
   "outputs": [
    {
     "data": {
      "text/plain": [
       "908.9000000000001"
      ]
     },
     "execution_count": 22,
     "metadata": {},
     "output_type": "execute_result"
    }
   ],
   "source": [
    "credit_records['price'].sum()"
   ]
  },
  {
   "cell_type": "code",
   "execution_count": 27,
   "id": "f9a485f6",
   "metadata": {},
   "outputs": [
    {
     "data": {
      "text/plain": [
       "908.9000000000001"
      ]
     },
     "execution_count": 27,
     "metadata": {},
     "output_type": "execute_result"
    }
   ],
   "source": [
    "credit_records.price.sum()"
   ]
  },
  {
   "cell_type": "markdown",
   "id": "108195cc",
   "metadata": {},
   "source": [
    "## Selecting Row with Logic"
   ]
  },
  {
   "cell_type": "code",
   "execution_count": 28,
   "id": "6cdebca3",
   "metadata": {},
   "outputs": [
    {
     "data": {
      "text/html": [
       "<div>\n",
       "<style scoped>\n",
       "    .dataframe tbody tr th:only-of-type {\n",
       "        vertical-align: middle;\n",
       "    }\n",
       "\n",
       "    .dataframe tbody tr th {\n",
       "        vertical-align: top;\n",
       "    }\n",
       "\n",
       "    .dataframe thead th {\n",
       "        text-align: right;\n",
       "    }\n",
       "</style>\n",
       "<table border=\"1\" class=\"dataframe\">\n",
       "  <thead>\n",
       "    <tr style=\"text-align: right;\">\n",
       "      <th></th>\n",
       "      <th>suspect</th>\n",
       "      <th>location</th>\n",
       "      <th>date</th>\n",
       "      <th>item</th>\n",
       "      <th>price</th>\n",
       "    </tr>\n",
       "  </thead>\n",
       "  <tbody>\n",
       "    <tr>\n",
       "      <th>0</th>\n",
       "      <td>Kirstine Smith</td>\n",
       "      <td>Groceries R Us</td>\n",
       "      <td>43106</td>\n",
       "      <td>broccoli</td>\n",
       "      <td>1.25</td>\n",
       "    </tr>\n",
       "    <tr>\n",
       "      <th>1</th>\n",
       "      <td>Gertrude Cox</td>\n",
       "      <td>Petroleum Plaza</td>\n",
       "      <td>43106</td>\n",
       "      <td>fizzy drink</td>\n",
       "      <td>1.90</td>\n",
       "    </tr>\n",
       "    <tr>\n",
       "      <th>2</th>\n",
       "      <td>Fred Frequentist</td>\n",
       "      <td>Groceries R Us</td>\n",
       "      <td>43106</td>\n",
       "      <td>broccoli</td>\n",
       "      <td>1.25</td>\n",
       "    </tr>\n",
       "    <tr>\n",
       "      <th>3</th>\n",
       "      <td>Gertrude Cox</td>\n",
       "      <td>Groceries R Us</td>\n",
       "      <td>43112</td>\n",
       "      <td>broccoli</td>\n",
       "      <td>1.25</td>\n",
       "    </tr>\n",
       "    <tr>\n",
       "      <th>4</th>\n",
       "      <td>Kirstine Smith</td>\n",
       "      <td>Clothing Club</td>\n",
       "      <td>43109</td>\n",
       "      <td>shirt</td>\n",
       "      <td>14.25</td>\n",
       "    </tr>\n",
       "  </tbody>\n",
       "</table>\n",
       "</div>"
      ],
      "text/plain": [
       "            suspect         location   date         item  price\n",
       "0    Kirstine Smith   Groceries R Us  43106     broccoli   1.25\n",
       "1      Gertrude Cox  Petroleum Plaza  43106  fizzy drink   1.90\n",
       "2  Fred Frequentist   Groceries R Us  43106     broccoli   1.25\n",
       "3      Gertrude Cox   Groceries R Us  43112     broccoli   1.25\n",
       "4    Kirstine Smith    Clothing Club  43109        shirt  14.25"
      ]
     },
     "execution_count": 28,
     "metadata": {},
     "output_type": "execute_result"
    }
   ],
   "source": [
    "credit_records.head()"
   ]
  },
  {
   "cell_type": "code",
   "execution_count": 31,
   "id": "468e4d8c",
   "metadata": {
    "scrolled": true
   },
   "outputs": [
    {
     "data": {
      "text/html": [
       "<div>\n",
       "<style scoped>\n",
       "    .dataframe tbody tr th:only-of-type {\n",
       "        vertical-align: middle;\n",
       "    }\n",
       "\n",
       "    .dataframe tbody tr th {\n",
       "        vertical-align: top;\n",
       "    }\n",
       "\n",
       "    .dataframe thead th {\n",
       "        text-align: right;\n",
       "    }\n",
       "</style>\n",
       "<table border=\"1\" class=\"dataframe\">\n",
       "  <thead>\n",
       "    <tr style=\"text-align: right;\">\n",
       "      <th></th>\n",
       "      <th>suspect</th>\n",
       "      <th>location</th>\n",
       "      <th>date</th>\n",
       "      <th>item</th>\n",
       "      <th>price</th>\n",
       "    </tr>\n",
       "  </thead>\n",
       "  <tbody>\n",
       "    <tr>\n",
       "      <th>28</th>\n",
       "      <td>Fred Frequentist</td>\n",
       "      <td>Clothing Club</td>\n",
       "      <td>43103</td>\n",
       "      <td>dress</td>\n",
       "      <td>20.15</td>\n",
       "    </tr>\n",
       "    <tr>\n",
       "      <th>29</th>\n",
       "      <td>Kirstine Smith</td>\n",
       "      <td>Clothing Club</td>\n",
       "      <td>43105</td>\n",
       "      <td>dress</td>\n",
       "      <td>20.15</td>\n",
       "    </tr>\n",
       "    <tr>\n",
       "      <th>33</th>\n",
       "      <td>Ronald Aylmer Fisher</td>\n",
       "      <td>Petroleum Plaza</td>\n",
       "      <td>43107</td>\n",
       "      <td>gas</td>\n",
       "      <td>24.95</td>\n",
       "    </tr>\n",
       "    <tr>\n",
       "      <th>37</th>\n",
       "      <td>Fred Frequentist</td>\n",
       "      <td>Clothing Club</td>\n",
       "      <td>43108</td>\n",
       "      <td>dress</td>\n",
       "      <td>20.15</td>\n",
       "    </tr>\n",
       "    <tr>\n",
       "      <th>40</th>\n",
       "      <td>Gertrude Cox</td>\n",
       "      <td>Clothing Club</td>\n",
       "      <td>43101</td>\n",
       "      <td>dress</td>\n",
       "      <td>20.15</td>\n",
       "    </tr>\n",
       "  </tbody>\n",
       "</table>\n",
       "</div>"
      ],
      "text/plain": [
       "                 suspect         location   date   item  price\n",
       "28      Fred Frequentist    Clothing Club  43103  dress  20.15\n",
       "29        Kirstine Smith    Clothing Club  43105  dress  20.15\n",
       "33  Ronald Aylmer Fisher  Petroleum Plaza  43107    gas  24.95\n",
       "37      Fred Frequentist    Clothing Club  43108  dress  20.15\n",
       "40          Gertrude Cox    Clothing Club  43101  dress  20.15"
      ]
     },
     "execution_count": 31,
     "metadata": {},
     "output_type": "execute_result"
    }
   ],
   "source": [
    "credit_records[credit_records['price']> 20].head()"
   ]
  },
  {
   "cell_type": "code",
   "execution_count": 36,
   "id": "e1848f68",
   "metadata": {},
   "outputs": [],
   "source": [
    "mpr = pd.read_csv(\".\\data\\mpr.csv\")"
   ]
  },
  {
   "cell_type": "code",
   "execution_count": 37,
   "id": "210e35a3",
   "metadata": {},
   "outputs": [
    {
     "data": {
      "text/html": [
       "<div>\n",
       "<style scoped>\n",
       "    .dataframe tbody tr th:only-of-type {\n",
       "        vertical-align: middle;\n",
       "    }\n",
       "\n",
       "    .dataframe tbody tr th {\n",
       "        vertical-align: top;\n",
       "    }\n",
       "\n",
       "    .dataframe thead th {\n",
       "        text-align: right;\n",
       "    }\n",
       "</style>\n",
       "<table border=\"1\" class=\"dataframe\">\n",
       "  <thead>\n",
       "    <tr style=\"text-align: right;\">\n",
       "      <th></th>\n",
       "      <th>Dog Name</th>\n",
       "      <th>Owner Name</th>\n",
       "      <th>Dog Breed</th>\n",
       "      <th>Status</th>\n",
       "      <th>Age</th>\n",
       "    </tr>\n",
       "  </thead>\n",
       "  <tbody>\n",
       "    <tr>\n",
       "      <th>0</th>\n",
       "      <td>Bayes</td>\n",
       "      <td>DataCamp</td>\n",
       "      <td>Golden Retriever</td>\n",
       "      <td>Still Missing</td>\n",
       "      <td>1</td>\n",
       "    </tr>\n",
       "    <tr>\n",
       "      <th>1</th>\n",
       "      <td>Sigmoid</td>\n",
       "      <td>NaN</td>\n",
       "      <td>Dachshund</td>\n",
       "      <td>Still Missing</td>\n",
       "      <td>2</td>\n",
       "    </tr>\n",
       "    <tr>\n",
       "      <th>2</th>\n",
       "      <td>Sparky</td>\n",
       "      <td>Dr. Apache</td>\n",
       "      <td>Border Collie</td>\n",
       "      <td>Found</td>\n",
       "      <td>3</td>\n",
       "    </tr>\n",
       "    <tr>\n",
       "      <th>3</th>\n",
       "      <td>Theorem</td>\n",
       "      <td>Joseph-Louis Lagrange</td>\n",
       "      <td>French Bulldog</td>\n",
       "      <td>Found</td>\n",
       "      <td>4</td>\n",
       "    </tr>\n",
       "    <tr>\n",
       "      <th>4</th>\n",
       "      <td>Ned</td>\n",
       "      <td>Tim Oliphant</td>\n",
       "      <td>Shih Tzu</td>\n",
       "      <td>Still Missing</td>\n",
       "      <td>2</td>\n",
       "    </tr>\n",
       "  </tbody>\n",
       "</table>\n",
       "</div>"
      ],
      "text/plain": [
       "  Dog Name             Owner Name         Dog Breed         Status  Age\n",
       "0    Bayes               DataCamp  Golden Retriever  Still Missing    1\n",
       "1  Sigmoid                    NaN         Dachshund  Still Missing    2\n",
       "2   Sparky             Dr. Apache     Border Collie          Found    3\n",
       "3  Theorem  Joseph-Louis Lagrange    French Bulldog          Found    4\n",
       "4      Ned           Tim Oliphant          Shih Tzu  Still Missing    2"
      ]
     },
     "execution_count": 37,
     "metadata": {},
     "output_type": "execute_result"
    }
   ],
   "source": [
    "mpr.head()"
   ]
  },
  {
   "cell_type": "code",
   "execution_count": 38,
   "id": "096be3ec",
   "metadata": {},
   "outputs": [
    {
     "data": {
      "text/html": [
       "<div>\n",
       "<style scoped>\n",
       "    .dataframe tbody tr th:only-of-type {\n",
       "        vertical-align: middle;\n",
       "    }\n",
       "\n",
       "    .dataframe tbody tr th {\n",
       "        vertical-align: top;\n",
       "    }\n",
       "\n",
       "    .dataframe thead th {\n",
       "        text-align: right;\n",
       "    }\n",
       "</style>\n",
       "<table border=\"1\" class=\"dataframe\">\n",
       "  <thead>\n",
       "    <tr style=\"text-align: right;\">\n",
       "      <th></th>\n",
       "      <th>Dog Name</th>\n",
       "      <th>Owner Name</th>\n",
       "      <th>Dog Breed</th>\n",
       "      <th>Status</th>\n",
       "      <th>Age</th>\n",
       "    </tr>\n",
       "  </thead>\n",
       "  <tbody>\n",
       "    <tr>\n",
       "      <th>2</th>\n",
       "      <td>Sparky</td>\n",
       "      <td>Dr. Apache</td>\n",
       "      <td>Border Collie</td>\n",
       "      <td>Found</td>\n",
       "      <td>3</td>\n",
       "    </tr>\n",
       "    <tr>\n",
       "      <th>3</th>\n",
       "      <td>Theorem</td>\n",
       "      <td>Joseph-Louis Lagrange</td>\n",
       "      <td>French Bulldog</td>\n",
       "      <td>Found</td>\n",
       "      <td>4</td>\n",
       "    </tr>\n",
       "    <tr>\n",
       "      <th>5</th>\n",
       "      <td>Benny</td>\n",
       "      <td>Hillary Green-Lerman</td>\n",
       "      <td>Poodle</td>\n",
       "      <td>Found</td>\n",
       "      <td>3</td>\n",
       "    </tr>\n",
       "  </tbody>\n",
       "</table>\n",
       "</div>"
      ],
      "text/plain": [
       "  Dog Name             Owner Name       Dog Breed Status  Age\n",
       "2   Sparky             Dr. Apache   Border Collie  Found    3\n",
       "3  Theorem  Joseph-Louis Lagrange  French Bulldog  Found    4\n",
       "5    Benny   Hillary Green-Lerman          Poodle  Found    3"
      ]
     },
     "execution_count": 38,
     "metadata": {},
     "output_type": "execute_result"
    }
   ],
   "source": [
    "greater_than_2 = mpr[mpr.Age > 2]\n",
    "greater_than_2"
   ]
  },
  {
   "cell_type": "code",
   "execution_count": 41,
   "id": "fc4c2737",
   "metadata": {},
   "outputs": [
    {
     "data": {
      "text/html": [
       "<div>\n",
       "<style scoped>\n",
       "    .dataframe tbody tr th:only-of-type {\n",
       "        vertical-align: middle;\n",
       "    }\n",
       "\n",
       "    .dataframe tbody tr th {\n",
       "        vertical-align: top;\n",
       "    }\n",
       "\n",
       "    .dataframe thead th {\n",
       "        text-align: right;\n",
       "    }\n",
       "</style>\n",
       "<table border=\"1\" class=\"dataframe\">\n",
       "  <thead>\n",
       "    <tr style=\"text-align: right;\">\n",
       "      <th></th>\n",
       "      <th>Dog Name</th>\n",
       "      <th>Owner Name</th>\n",
       "      <th>Dog Breed</th>\n",
       "      <th>Status</th>\n",
       "      <th>Age</th>\n",
       "    </tr>\n",
       "  </thead>\n",
       "  <tbody>\n",
       "    <tr>\n",
       "      <th>0</th>\n",
       "      <td>Bayes</td>\n",
       "      <td>DataCamp</td>\n",
       "      <td>Golden Retriever</td>\n",
       "      <td>Still Missing</td>\n",
       "      <td>1</td>\n",
       "    </tr>\n",
       "    <tr>\n",
       "      <th>1</th>\n",
       "      <td>Sigmoid</td>\n",
       "      <td>NaN</td>\n",
       "      <td>Dachshund</td>\n",
       "      <td>Still Missing</td>\n",
       "      <td>2</td>\n",
       "    </tr>\n",
       "    <tr>\n",
       "      <th>4</th>\n",
       "      <td>Ned</td>\n",
       "      <td>Tim Oliphant</td>\n",
       "      <td>Shih Tzu</td>\n",
       "      <td>Still Missing</td>\n",
       "      <td>2</td>\n",
       "    </tr>\n",
       "  </tbody>\n",
       "</table>\n",
       "</div>"
      ],
      "text/plain": [
       "  Dog Name    Owner Name         Dog Breed         Status  Age\n",
       "0    Bayes      DataCamp  Golden Retriever  Still Missing    1\n",
       "1  Sigmoid           NaN         Dachshund  Still Missing    2\n",
       "4      Ned  Tim Oliphant          Shih Tzu  Still Missing    2"
      ]
     },
     "execution_count": 41,
     "metadata": {},
     "output_type": "execute_result"
    }
   ],
   "source": [
    "still_missing = mpr[mpr.Status == 'Still Missing']\n",
    "still_missing"
   ]
  },
  {
   "cell_type": "code",
   "execution_count": 42,
   "id": "72fc57df",
   "metadata": {},
   "outputs": [
    {
     "data": {
      "text/html": [
       "<div>\n",
       "<style scoped>\n",
       "    .dataframe tbody tr th:only-of-type {\n",
       "        vertical-align: middle;\n",
       "    }\n",
       "\n",
       "    .dataframe tbody tr th {\n",
       "        vertical-align: top;\n",
       "    }\n",
       "\n",
       "    .dataframe thead th {\n",
       "        text-align: right;\n",
       "    }\n",
       "</style>\n",
       "<table border=\"1\" class=\"dataframe\">\n",
       "  <thead>\n",
       "    <tr style=\"text-align: right;\">\n",
       "      <th></th>\n",
       "      <th>Dog Name</th>\n",
       "      <th>Owner Name</th>\n",
       "      <th>Dog Breed</th>\n",
       "      <th>Status</th>\n",
       "      <th>Age</th>\n",
       "    </tr>\n",
       "  </thead>\n",
       "  <tbody>\n",
       "    <tr>\n",
       "      <th>0</th>\n",
       "      <td>Bayes</td>\n",
       "      <td>DataCamp</td>\n",
       "      <td>Golden Retriever</td>\n",
       "      <td>Still Missing</td>\n",
       "      <td>1</td>\n",
       "    </tr>\n",
       "    <tr>\n",
       "      <th>1</th>\n",
       "      <td>Sigmoid</td>\n",
       "      <td>NaN</td>\n",
       "      <td>Dachshund</td>\n",
       "      <td>Still Missing</td>\n",
       "      <td>2</td>\n",
       "    </tr>\n",
       "    <tr>\n",
       "      <th>2</th>\n",
       "      <td>Sparky</td>\n",
       "      <td>Dr. Apache</td>\n",
       "      <td>Border Collie</td>\n",
       "      <td>Found</td>\n",
       "      <td>3</td>\n",
       "    </tr>\n",
       "    <tr>\n",
       "      <th>3</th>\n",
       "      <td>Theorem</td>\n",
       "      <td>Joseph-Louis Lagrange</td>\n",
       "      <td>French Bulldog</td>\n",
       "      <td>Found</td>\n",
       "      <td>4</td>\n",
       "    </tr>\n",
       "    <tr>\n",
       "      <th>4</th>\n",
       "      <td>Ned</td>\n",
       "      <td>Tim Oliphant</td>\n",
       "      <td>Shih Tzu</td>\n",
       "      <td>Still Missing</td>\n",
       "      <td>2</td>\n",
       "    </tr>\n",
       "  </tbody>\n",
       "</table>\n",
       "</div>"
      ],
      "text/plain": [
       "  Dog Name             Owner Name         Dog Breed         Status  Age\n",
       "0    Bayes               DataCamp  Golden Retriever  Still Missing    1\n",
       "1  Sigmoid                    NaN         Dachshund  Still Missing    2\n",
       "2   Sparky             Dr. Apache     Border Collie          Found    3\n",
       "3  Theorem  Joseph-Louis Lagrange    French Bulldog          Found    4\n",
       "4      Ned           Tim Oliphant          Shih Tzu  Still Missing    2"
      ]
     },
     "execution_count": 42,
     "metadata": {},
     "output_type": "execute_result"
    }
   ],
   "source": [
    "not_poodle = mpr[mpr['Dog Breed'] != \"Poodle\"]\n",
    "not_poodle"
   ]
  },
  {
   "cell_type": "code",
   "execution_count": 43,
   "id": "aa755b18",
   "metadata": {},
   "outputs": [
    {
     "data": {
      "text/html": [
       "<div>\n",
       "<style scoped>\n",
       "    .dataframe tbody tr th:only-of-type {\n",
       "        vertical-align: middle;\n",
       "    }\n",
       "\n",
       "    .dataframe tbody tr th {\n",
       "        vertical-align: top;\n",
       "    }\n",
       "\n",
       "    .dataframe thead th {\n",
       "        text-align: right;\n",
       "    }\n",
       "</style>\n",
       "<table border=\"1\" class=\"dataframe\">\n",
       "  <thead>\n",
       "    <tr style=\"text-align: right;\">\n",
       "      <th></th>\n",
       "      <th>suspect</th>\n",
       "      <th>location</th>\n",
       "      <th>date</th>\n",
       "      <th>item</th>\n",
       "      <th>price</th>\n",
       "    </tr>\n",
       "  </thead>\n",
       "  <tbody>\n",
       "    <tr>\n",
       "      <th>0</th>\n",
       "      <td>Kirstine Smith</td>\n",
       "      <td>Groceries R Us</td>\n",
       "      <td>43106</td>\n",
       "      <td>broccoli</td>\n",
       "      <td>1.25</td>\n",
       "    </tr>\n",
       "    <tr>\n",
       "      <th>1</th>\n",
       "      <td>Gertrude Cox</td>\n",
       "      <td>Petroleum Plaza</td>\n",
       "      <td>43106</td>\n",
       "      <td>fizzy drink</td>\n",
       "      <td>1.90</td>\n",
       "    </tr>\n",
       "    <tr>\n",
       "      <th>2</th>\n",
       "      <td>Fred Frequentist</td>\n",
       "      <td>Groceries R Us</td>\n",
       "      <td>43106</td>\n",
       "      <td>broccoli</td>\n",
       "      <td>1.25</td>\n",
       "    </tr>\n",
       "    <tr>\n",
       "      <th>3</th>\n",
       "      <td>Gertrude Cox</td>\n",
       "      <td>Groceries R Us</td>\n",
       "      <td>43112</td>\n",
       "      <td>broccoli</td>\n",
       "      <td>1.25</td>\n",
       "    </tr>\n",
       "    <tr>\n",
       "      <th>4</th>\n",
       "      <td>Kirstine Smith</td>\n",
       "      <td>Clothing Club</td>\n",
       "      <td>43109</td>\n",
       "      <td>shirt</td>\n",
       "      <td>14.25</td>\n",
       "    </tr>\n",
       "  </tbody>\n",
       "</table>\n",
       "</div>"
      ],
      "text/plain": [
       "            suspect         location   date         item  price\n",
       "0    Kirstine Smith   Groceries R Us  43106     broccoli   1.25\n",
       "1      Gertrude Cox  Petroleum Plaza  43106  fizzy drink   1.90\n",
       "2  Fred Frequentist   Groceries R Us  43106     broccoli   1.25\n",
       "3      Gertrude Cox   Groceries R Us  43112     broccoli   1.25\n",
       "4    Kirstine Smith    Clothing Club  43109        shirt  14.25"
      ]
     },
     "execution_count": 43,
     "metadata": {},
     "output_type": "execute_result"
    }
   ],
   "source": [
    "credit_records.head()"
   ]
  },
  {
   "cell_type": "code",
   "execution_count": 45,
   "id": "70421f61",
   "metadata": {},
   "outputs": [
    {
     "data": {
      "text/html": [
       "<div>\n",
       "<style scoped>\n",
       "    .dataframe tbody tr th:only-of-type {\n",
       "        vertical-align: middle;\n",
       "    }\n",
       "\n",
       "    .dataframe tbody tr th {\n",
       "        vertical-align: top;\n",
       "    }\n",
       "\n",
       "    .dataframe thead th {\n",
       "        text-align: right;\n",
       "    }\n",
       "</style>\n",
       "<table border=\"1\" class=\"dataframe\">\n",
       "  <thead>\n",
       "    <tr style=\"text-align: right;\">\n",
       "      <th></th>\n",
       "      <th>suspect</th>\n",
       "      <th>location</th>\n",
       "      <th>date</th>\n",
       "      <th>item</th>\n",
       "      <th>price</th>\n",
       "    </tr>\n",
       "  </thead>\n",
       "  <tbody>\n",
       "  </tbody>\n",
       "</table>\n",
       "</div>"
      ],
      "text/plain": [
       "Empty DataFrame\n",
       "Columns: [suspect, location, date, item, price]\n",
       "Index: []"
      ]
     },
     "execution_count": 45,
     "metadata": {},
     "output_type": "execute_result"
    }
   ],
   "source": [
    "purchase = credit_records[credit_records.location == 'Pet Paradise']\n",
    "purchase"
   ]
  },
  {
   "cell_type": "code",
   "execution_count": null,
   "id": "20a29273",
   "metadata": {},
   "outputs": [],
   "source": []
  }
 ],
 "metadata": {
  "kernelspec": {
   "display_name": "Python 3 (ipykernel)",
   "language": "python",
   "name": "python3"
  },
  "language_info": {
   "codemirror_mode": {
    "name": "ipython",
    "version": 3
   },
   "file_extension": ".py",
   "mimetype": "text/x-python",
   "name": "python",
   "nbconvert_exporter": "python",
   "pygments_lexer": "ipython3",
   "version": "3.9.5"
  }
 },
 "nbformat": 4,
 "nbformat_minor": 5
}
