{
 "cells": [
  {
   "cell_type": "code",
   "execution_count": 2,
   "id": "d3375b12",
   "metadata": {},
   "outputs": [],
   "source": [
    "import pandas as pd\n",
    "import matplotlib.pyplot as plt"
   ]
  },
  {
   "cell_type": "markdown",
   "id": "fcecc6a3",
   "metadata": {},
   "source": [
    "# List of dictionaries"
   ]
  },
  {
   "cell_type": "code",
   "execution_count": 5,
   "id": "b6149267",
   "metadata": {},
   "outputs": [
    {
     "data": {
      "text/plain": [
       "[{'date': '2019-11-03', 'small_sold': 10376832, 'large_sold': 7835071},\n",
       " {'date': '2019-11-10', 'small_sold': 10717154, 'large_sold': 8561348}]"
      ]
     },
     "execution_count": 5,
     "metadata": {},
     "output_type": "execute_result"
    }
   ],
   "source": [
    "avocados_list = [\n",
    "    {\"date\":\"2019-11-03\", \"small_sold\":10376832, \"large_sold\":7835071},\n",
    "    {\"date\":\"2019-11-10\", \"small_sold\":10717154, \"large_sold\":8561348}\n",
    "]\n",
    "avocados_list"
   ]
  },
  {
   "cell_type": "code",
   "execution_count": 6,
   "id": "ce5da8b7",
   "metadata": {},
   "outputs": [
    {
     "data": {
      "text/html": [
       "<div>\n",
       "<style scoped>\n",
       "    .dataframe tbody tr th:only-of-type {\n",
       "        vertical-align: middle;\n",
       "    }\n",
       "\n",
       "    .dataframe tbody tr th {\n",
       "        vertical-align: top;\n",
       "    }\n",
       "\n",
       "    .dataframe thead th {\n",
       "        text-align: right;\n",
       "    }\n",
       "</style>\n",
       "<table border=\"1\" class=\"dataframe\">\n",
       "  <thead>\n",
       "    <tr style=\"text-align: right;\">\n",
       "      <th></th>\n",
       "      <th>date</th>\n",
       "      <th>small_sold</th>\n",
       "      <th>large_sold</th>\n",
       "    </tr>\n",
       "  </thead>\n",
       "  <tbody>\n",
       "    <tr>\n",
       "      <th>0</th>\n",
       "      <td>2019-11-03</td>\n",
       "      <td>10376832</td>\n",
       "      <td>7835071</td>\n",
       "    </tr>\n",
       "    <tr>\n",
       "      <th>1</th>\n",
       "      <td>2019-11-10</td>\n",
       "      <td>10717154</td>\n",
       "      <td>8561348</td>\n",
       "    </tr>\n",
       "  </tbody>\n",
       "</table>\n",
       "</div>"
      ],
      "text/plain": [
       "         date  small_sold  large_sold\n",
       "0  2019-11-03    10376832     7835071\n",
       "1  2019-11-10    10717154     8561348"
      ]
     },
     "execution_count": 6,
     "metadata": {},
     "output_type": "execute_result"
    }
   ],
   "source": [
    "avocados_2019 = pd.DataFrame(avocados_list)\n",
    "\n",
    "avocados_2019"
   ]
  },
  {
   "cell_type": "markdown",
   "id": "fa869b04",
   "metadata": {},
   "source": [
    "# Dictionary of lists"
   ]
  },
  {
   "cell_type": "code",
   "execution_count": 7,
   "id": "3214d0bd",
   "metadata": {},
   "outputs": [],
   "source": [
    "avocados_dict = {\n",
    "  \"date\": [\"2019-11-17\", \"2019-12-01\"], \"small_sold\": [10859987, 9291631],\n",
    "  \"large_sold\": [7674135, 6238096]\n",
    "}"
   ]
  },
  {
   "cell_type": "code",
   "execution_count": 10,
   "id": "e999f71d",
   "metadata": {},
   "outputs": [
    {
     "data": {
      "text/html": [
       "<div>\n",
       "<style scoped>\n",
       "    .dataframe tbody tr th:only-of-type {\n",
       "        vertical-align: middle;\n",
       "    }\n",
       "\n",
       "    .dataframe tbody tr th {\n",
       "        vertical-align: top;\n",
       "    }\n",
       "\n",
       "    .dataframe thead th {\n",
       "        text-align: right;\n",
       "    }\n",
       "</style>\n",
       "<table border=\"1\" class=\"dataframe\">\n",
       "  <thead>\n",
       "    <tr style=\"text-align: right;\">\n",
       "      <th></th>\n",
       "      <th>date</th>\n",
       "      <th>small_sold</th>\n",
       "      <th>large_sold</th>\n",
       "    </tr>\n",
       "  </thead>\n",
       "  <tbody>\n",
       "    <tr>\n",
       "      <th>0</th>\n",
       "      <td>2019-11-17</td>\n",
       "      <td>10859987</td>\n",
       "      <td>7674135</td>\n",
       "    </tr>\n",
       "    <tr>\n",
       "      <th>1</th>\n",
       "      <td>2019-12-01</td>\n",
       "      <td>9291631</td>\n",
       "      <td>6238096</td>\n",
       "    </tr>\n",
       "  </tbody>\n",
       "</table>\n",
       "</div>"
      ],
      "text/plain": [
       "         date  small_sold  large_sold\n",
       "0  2019-11-17    10859987     7674135\n",
       "1  2019-12-01     9291631     6238096"
      ]
     },
     "execution_count": 10,
     "metadata": {},
     "output_type": "execute_result"
    }
   ],
   "source": [
    "avocados_20199 = pd.DataFrame(avocados_dict)\n",
    "\n",
    "avocados_20199"
   ]
  },
  {
   "cell_type": "code",
   "execution_count": null,
   "id": "804c1ab1",
   "metadata": {},
   "outputs": [],
   "source": []
  }
 ],
 "metadata": {
  "kernelspec": {
   "display_name": "Python 3 (ipykernel)",
   "language": "python",
   "name": "python3"
  },
  "language_info": {
   "codemirror_mode": {
    "name": "ipython",
    "version": 3
   },
   "file_extension": ".py",
   "mimetype": "text/x-python",
   "name": "python",
   "nbconvert_exporter": "python",
   "pygments_lexer": "ipython3",
   "version": "3.9.5"
  }
 },
 "nbformat": 4,
 "nbformat_minor": 5
}
