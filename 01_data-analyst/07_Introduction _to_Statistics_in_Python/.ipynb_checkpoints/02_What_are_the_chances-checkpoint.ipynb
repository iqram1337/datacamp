{
 "cells": [
  {
   "cell_type": "code",
   "execution_count": 38,
   "id": "cfc58842",
   "metadata": {},
   "outputs": [],
   "source": [
    "import pandas as pd\n",
    "import matplotlib.pyplot as plt\n",
    "import numpy as np\n",
    "import seaborn as sns\n",
    "from scipy.stats import uniform, binom"
   ]
  },
  {
   "cell_type": "markdown",
   "id": "5315fcc4",
   "metadata": {},
   "source": [
    "# Calculating probabilities"
   ]
  },
  {
   "cell_type": "code",
   "execution_count": 2,
   "id": "3774a958",
   "metadata": {},
   "outputs": [],
   "source": [
    "amir_deals = pd.read_csv('data/amir_deals.csv', index_col=0)"
   ]
  },
  {
   "cell_type": "code",
   "execution_count": 3,
   "id": "37f28fc8",
   "metadata": {},
   "outputs": [
    {
     "data": {
      "text/html": [
       "<div>\n",
       "<style scoped>\n",
       "    .dataframe tbody tr th:only-of-type {\n",
       "        vertical-align: middle;\n",
       "    }\n",
       "\n",
       "    .dataframe tbody tr th {\n",
       "        vertical-align: top;\n",
       "    }\n",
       "\n",
       "    .dataframe thead th {\n",
       "        text-align: right;\n",
       "    }\n",
       "</style>\n",
       "<table border=\"1\" class=\"dataframe\">\n",
       "  <thead>\n",
       "    <tr style=\"text-align: right;\">\n",
       "      <th></th>\n",
       "      <th>product</th>\n",
       "      <th>client</th>\n",
       "      <th>status</th>\n",
       "      <th>amount</th>\n",
       "      <th>num_users</th>\n",
       "    </tr>\n",
       "  </thead>\n",
       "  <tbody>\n",
       "    <tr>\n",
       "      <th>1</th>\n",
       "      <td>Product F</td>\n",
       "      <td>Current</td>\n",
       "      <td>Won</td>\n",
       "      <td>7389.52</td>\n",
       "      <td>19</td>\n",
       "    </tr>\n",
       "    <tr>\n",
       "      <th>2</th>\n",
       "      <td>Product C</td>\n",
       "      <td>New</td>\n",
       "      <td>Won</td>\n",
       "      <td>4493.01</td>\n",
       "      <td>43</td>\n",
       "    </tr>\n",
       "    <tr>\n",
       "      <th>3</th>\n",
       "      <td>Product B</td>\n",
       "      <td>New</td>\n",
       "      <td>Won</td>\n",
       "      <td>5738.09</td>\n",
       "      <td>87</td>\n",
       "    </tr>\n",
       "    <tr>\n",
       "      <th>4</th>\n",
       "      <td>Product I</td>\n",
       "      <td>Current</td>\n",
       "      <td>Won</td>\n",
       "      <td>2591.24</td>\n",
       "      <td>83</td>\n",
       "    </tr>\n",
       "    <tr>\n",
       "      <th>5</th>\n",
       "      <td>Product E</td>\n",
       "      <td>Current</td>\n",
       "      <td>Won</td>\n",
       "      <td>6622.97</td>\n",
       "      <td>17</td>\n",
       "    </tr>\n",
       "  </tbody>\n",
       "</table>\n",
       "</div>"
      ],
      "text/plain": [
       "     product   client status   amount  num_users\n",
       "1  Product F  Current    Won  7389.52         19\n",
       "2  Product C      New    Won  4493.01         43\n",
       "3  Product B      New    Won  5738.09         87\n",
       "4  Product I  Current    Won  2591.24         83\n",
       "5  Product E  Current    Won  6622.97         17"
      ]
     },
     "execution_count": 3,
     "metadata": {},
     "output_type": "execute_result"
    }
   ],
   "source": [
    "amir_deals.head()"
   ]
  },
  {
   "cell_type": "code",
   "execution_count": 4,
   "id": "7c287874",
   "metadata": {},
   "outputs": [
    {
     "data": {
      "text/plain": [
       "(178, 5)"
      ]
     },
     "execution_count": 4,
     "metadata": {},
     "output_type": "execute_result"
    }
   ],
   "source": [
    "amir_deals.shape"
   ]
  },
  {
   "cell_type": "code",
   "execution_count": 5,
   "id": "eb50e0b9",
   "metadata": {
    "scrolled": true
   },
   "outputs": [
    {
     "data": {
      "text/plain": [
       "Product B    62\n",
       "Product D    40\n",
       "Product A    23\n",
       "Product C    15\n",
       "Product F    11\n",
       "Product H     8\n",
       "Product I     7\n",
       "Product E     5\n",
       "Product N     3\n",
       "Product G     2\n",
       "Product J     2\n",
       "Name: product, dtype: int64"
      ]
     },
     "execution_count": 5,
     "metadata": {},
     "output_type": "execute_result"
    }
   ],
   "source": [
    "counts = amir_deals['product'].value_counts()\n",
    "counts"
   ]
  },
  {
   "cell_type": "code",
   "execution_count": 6,
   "id": "dc7bb90c",
   "metadata": {},
   "outputs": [
    {
     "data": {
      "text/plain": [
       "Product B    0.348315\n",
       "Product D    0.224719\n",
       "Product A    0.129213\n",
       "Product C    0.084270\n",
       "Product F    0.061798\n",
       "Product H    0.044944\n",
       "Product I    0.039326\n",
       "Product E    0.028090\n",
       "Product N    0.016854\n",
       "Product G    0.011236\n",
       "Product J    0.011236\n",
       "Name: product, dtype: float64"
      ]
     },
     "execution_count": 6,
     "metadata": {},
     "output_type": "execute_result"
    }
   ],
   "source": [
    "probs = counts / counts.sum()\n",
    "probs"
   ]
  },
  {
   "cell_type": "markdown",
   "id": "a2d8c90f",
   "metadata": {},
   "source": [
    "# Sampling deals"
   ]
  },
  {
   "cell_type": "code",
   "execution_count": 7,
   "id": "88bf8c21",
   "metadata": {},
   "outputs": [],
   "source": [
    "np.random.seed(24)"
   ]
  },
  {
   "cell_type": "code",
   "execution_count": 8,
   "id": "adc2e8ae",
   "metadata": {},
   "outputs": [
    {
     "data": {
      "text/html": [
       "<div>\n",
       "<style scoped>\n",
       "    .dataframe tbody tr th:only-of-type {\n",
       "        vertical-align: middle;\n",
       "    }\n",
       "\n",
       "    .dataframe tbody tr th {\n",
       "        vertical-align: top;\n",
       "    }\n",
       "\n",
       "    .dataframe thead th {\n",
       "        text-align: right;\n",
       "    }\n",
       "</style>\n",
       "<table border=\"1\" class=\"dataframe\">\n",
       "  <thead>\n",
       "    <tr style=\"text-align: right;\">\n",
       "      <th></th>\n",
       "      <th>product</th>\n",
       "      <th>client</th>\n",
       "      <th>status</th>\n",
       "      <th>amount</th>\n",
       "      <th>num_users</th>\n",
       "    </tr>\n",
       "  </thead>\n",
       "  <tbody>\n",
       "    <tr>\n",
       "      <th>1</th>\n",
       "      <td>Product F</td>\n",
       "      <td>Current</td>\n",
       "      <td>Won</td>\n",
       "      <td>7389.52</td>\n",
       "      <td>19</td>\n",
       "    </tr>\n",
       "    <tr>\n",
       "      <th>2</th>\n",
       "      <td>Product C</td>\n",
       "      <td>New</td>\n",
       "      <td>Won</td>\n",
       "      <td>4493.01</td>\n",
       "      <td>43</td>\n",
       "    </tr>\n",
       "    <tr>\n",
       "      <th>3</th>\n",
       "      <td>Product B</td>\n",
       "      <td>New</td>\n",
       "      <td>Won</td>\n",
       "      <td>5738.09</td>\n",
       "      <td>87</td>\n",
       "    </tr>\n",
       "    <tr>\n",
       "      <th>4</th>\n",
       "      <td>Product I</td>\n",
       "      <td>Current</td>\n",
       "      <td>Won</td>\n",
       "      <td>2591.24</td>\n",
       "      <td>83</td>\n",
       "    </tr>\n",
       "    <tr>\n",
       "      <th>5</th>\n",
       "      <td>Product E</td>\n",
       "      <td>Current</td>\n",
       "      <td>Won</td>\n",
       "      <td>6622.97</td>\n",
       "      <td>17</td>\n",
       "    </tr>\n",
       "  </tbody>\n",
       "</table>\n",
       "</div>"
      ],
      "text/plain": [
       "     product   client status   amount  num_users\n",
       "1  Product F  Current    Won  7389.52         19\n",
       "2  Product C      New    Won  4493.01         43\n",
       "3  Product B      New    Won  5738.09         87\n",
       "4  Product I  Current    Won  2591.24         83\n",
       "5  Product E  Current    Won  6622.97         17"
      ]
     },
     "execution_count": 8,
     "metadata": {},
     "output_type": "execute_result"
    }
   ],
   "source": [
    "amir_deals.head()"
   ]
  },
  {
   "cell_type": "code",
   "execution_count": 9,
   "id": "0e93d05e",
   "metadata": {},
   "outputs": [
    {
     "data": {
      "text/html": [
       "<div>\n",
       "<style scoped>\n",
       "    .dataframe tbody tr th:only-of-type {\n",
       "        vertical-align: middle;\n",
       "    }\n",
       "\n",
       "    .dataframe tbody tr th {\n",
       "        vertical-align: top;\n",
       "    }\n",
       "\n",
       "    .dataframe thead th {\n",
       "        text-align: right;\n",
       "    }\n",
       "</style>\n",
       "<table border=\"1\" class=\"dataframe\">\n",
       "  <thead>\n",
       "    <tr style=\"text-align: right;\">\n",
       "      <th></th>\n",
       "      <th>product</th>\n",
       "      <th>client</th>\n",
       "      <th>status</th>\n",
       "      <th>amount</th>\n",
       "      <th>num_users</th>\n",
       "    </tr>\n",
       "  </thead>\n",
       "  <tbody>\n",
       "    <tr>\n",
       "      <th>128</th>\n",
       "      <td>Product B</td>\n",
       "      <td>Current</td>\n",
       "      <td>Won</td>\n",
       "      <td>2070.25</td>\n",
       "      <td>7</td>\n",
       "    </tr>\n",
       "    <tr>\n",
       "      <th>149</th>\n",
       "      <td>Product D</td>\n",
       "      <td>Current</td>\n",
       "      <td>Won</td>\n",
       "      <td>3485.48</td>\n",
       "      <td>52</td>\n",
       "    </tr>\n",
       "    <tr>\n",
       "      <th>78</th>\n",
       "      <td>Product B</td>\n",
       "      <td>Current</td>\n",
       "      <td>Won</td>\n",
       "      <td>6252.30</td>\n",
       "      <td>27</td>\n",
       "    </tr>\n",
       "    <tr>\n",
       "      <th>105</th>\n",
       "      <td>Product D</td>\n",
       "      <td>Current</td>\n",
       "      <td>Won</td>\n",
       "      <td>4110.98</td>\n",
       "      <td>39</td>\n",
       "    </tr>\n",
       "    <tr>\n",
       "      <th>167</th>\n",
       "      <td>Product C</td>\n",
       "      <td>New</td>\n",
       "      <td>Lost</td>\n",
       "      <td>3779.86</td>\n",
       "      <td>11</td>\n",
       "    </tr>\n",
       "  </tbody>\n",
       "</table>\n",
       "</div>"
      ],
      "text/plain": [
       "       product   client status   amount  num_users\n",
       "128  Product B  Current    Won  2070.25          7\n",
       "149  Product D  Current    Won  3485.48         52\n",
       "78   Product B  Current    Won  6252.30         27\n",
       "105  Product D  Current    Won  4110.98         39\n",
       "167  Product C      New   Lost  3779.86         11"
      ]
     },
     "execution_count": 9,
     "metadata": {},
     "output_type": "execute_result"
    }
   ],
   "source": [
    "np.random.seed(24)\n",
    "\n",
    "sample_without_replacement = amir_deals.sample(n=5, replace=False)\n",
    "sample_without_replacement"
   ]
  },
  {
   "cell_type": "code",
   "execution_count": 10,
   "id": "7e70aceb",
   "metadata": {},
   "outputs": [
    {
     "data": {
      "text/html": [
       "<div>\n",
       "<style scoped>\n",
       "    .dataframe tbody tr th:only-of-type {\n",
       "        vertical-align: middle;\n",
       "    }\n",
       "\n",
       "    .dataframe tbody tr th {\n",
       "        vertical-align: top;\n",
       "    }\n",
       "\n",
       "    .dataframe thead th {\n",
       "        text-align: right;\n",
       "    }\n",
       "</style>\n",
       "<table border=\"1\" class=\"dataframe\">\n",
       "  <thead>\n",
       "    <tr style=\"text-align: right;\">\n",
       "      <th></th>\n",
       "      <th>product</th>\n",
       "      <th>client</th>\n",
       "      <th>status</th>\n",
       "      <th>amount</th>\n",
       "      <th>num_users</th>\n",
       "    </tr>\n",
       "  </thead>\n",
       "  <tbody>\n",
       "    <tr>\n",
       "      <th>163</th>\n",
       "      <td>Product D</td>\n",
       "      <td>Current</td>\n",
       "      <td>Won</td>\n",
       "      <td>6755.66</td>\n",
       "      <td>59</td>\n",
       "    </tr>\n",
       "    <tr>\n",
       "      <th>132</th>\n",
       "      <td>Product B</td>\n",
       "      <td>Current</td>\n",
       "      <td>Won</td>\n",
       "      <td>6872.29</td>\n",
       "      <td>25</td>\n",
       "    </tr>\n",
       "    <tr>\n",
       "      <th>88</th>\n",
       "      <td>Product C</td>\n",
       "      <td>Current</td>\n",
       "      <td>Won</td>\n",
       "      <td>3579.63</td>\n",
       "      <td>3</td>\n",
       "    </tr>\n",
       "    <tr>\n",
       "      <th>146</th>\n",
       "      <td>Product A</td>\n",
       "      <td>Current</td>\n",
       "      <td>Won</td>\n",
       "      <td>4682.94</td>\n",
       "      <td>63</td>\n",
       "    </tr>\n",
       "    <tr>\n",
       "      <th>146</th>\n",
       "      <td>Product A</td>\n",
       "      <td>Current</td>\n",
       "      <td>Won</td>\n",
       "      <td>4682.94</td>\n",
       "      <td>63</td>\n",
       "    </tr>\n",
       "  </tbody>\n",
       "</table>\n",
       "</div>"
      ],
      "text/plain": [
       "       product   client status   amount  num_users\n",
       "163  Product D  Current    Won  6755.66         59\n",
       "132  Product B  Current    Won  6872.29         25\n",
       "88   Product C  Current    Won  3579.63          3\n",
       "146  Product A  Current    Won  4682.94         63\n",
       "146  Product A  Current    Won  4682.94         63"
      ]
     },
     "execution_count": 10,
     "metadata": {},
     "output_type": "execute_result"
    }
   ],
   "source": [
    "np.random.seed(24)\n",
    "\n",
    "sample_with_replacement = amir_deals.sample(n=5, replace=True)\n",
    "sample_with_replacement"
   ]
  },
  {
   "cell_type": "markdown",
   "id": "ede94377",
   "metadata": {},
   "source": [
    "# Discrete distributions"
   ]
  },
  {
   "cell_type": "markdown",
   "id": "4edc113c",
   "metadata": {},
   "source": [
    "## Creating a probability distribution"
   ]
  },
  {
   "cell_type": "code",
   "execution_count": 11,
   "id": "fa2a9264",
   "metadata": {},
   "outputs": [],
   "source": [
    "restaurant_groups = pd.read_csv('data/restaurant_groups.csv')"
   ]
  },
  {
   "cell_type": "code",
   "execution_count": 12,
   "id": "5dd73478",
   "metadata": {},
   "outputs": [
    {
     "data": {
      "text/plain": [
       "(10, 2)"
      ]
     },
     "execution_count": 12,
     "metadata": {},
     "output_type": "execute_result"
    }
   ],
   "source": [
    "restaurant_groups.shape"
   ]
  },
  {
   "cell_type": "code",
   "execution_count": 13,
   "id": "2d3f4c8d",
   "metadata": {
    "scrolled": false
   },
   "outputs": [
    {
     "data": {
      "text/html": [
       "<div>\n",
       "<style scoped>\n",
       "    .dataframe tbody tr th:only-of-type {\n",
       "        vertical-align: middle;\n",
       "    }\n",
       "\n",
       "    .dataframe tbody tr th {\n",
       "        vertical-align: top;\n",
       "    }\n",
       "\n",
       "    .dataframe thead th {\n",
       "        text-align: right;\n",
       "    }\n",
       "</style>\n",
       "<table border=\"1\" class=\"dataframe\">\n",
       "  <thead>\n",
       "    <tr style=\"text-align: right;\">\n",
       "      <th></th>\n",
       "      <th>group_id</th>\n",
       "      <th>group_size</th>\n",
       "    </tr>\n",
       "  </thead>\n",
       "  <tbody>\n",
       "    <tr>\n",
       "      <th>0</th>\n",
       "      <td>A</td>\n",
       "      <td>2</td>\n",
       "    </tr>\n",
       "    <tr>\n",
       "      <th>1</th>\n",
       "      <td>B</td>\n",
       "      <td>4</td>\n",
       "    </tr>\n",
       "    <tr>\n",
       "      <th>2</th>\n",
       "      <td>C</td>\n",
       "      <td>6</td>\n",
       "    </tr>\n",
       "    <tr>\n",
       "      <th>3</th>\n",
       "      <td>D</td>\n",
       "      <td>2</td>\n",
       "    </tr>\n",
       "    <tr>\n",
       "      <th>4</th>\n",
       "      <td>E</td>\n",
       "      <td>2</td>\n",
       "    </tr>\n",
       "    <tr>\n",
       "      <th>5</th>\n",
       "      <td>F</td>\n",
       "      <td>2</td>\n",
       "    </tr>\n",
       "    <tr>\n",
       "      <th>6</th>\n",
       "      <td>G</td>\n",
       "      <td>3</td>\n",
       "    </tr>\n",
       "    <tr>\n",
       "      <th>7</th>\n",
       "      <td>H</td>\n",
       "      <td>2</td>\n",
       "    </tr>\n",
       "    <tr>\n",
       "      <th>8</th>\n",
       "      <td>I</td>\n",
       "      <td>4</td>\n",
       "    </tr>\n",
       "    <tr>\n",
       "      <th>9</th>\n",
       "      <td>J</td>\n",
       "      <td>2</td>\n",
       "    </tr>\n",
       "  </tbody>\n",
       "</table>\n",
       "</div>"
      ],
      "text/plain": [
       "  group_id  group_size\n",
       "0        A           2\n",
       "1        B           4\n",
       "2        C           6\n",
       "3        D           2\n",
       "4        E           2\n",
       "5        F           2\n",
       "6        G           3\n",
       "7        H           2\n",
       "8        I           4\n",
       "9        J           2"
      ]
     },
     "execution_count": 13,
     "metadata": {},
     "output_type": "execute_result"
    }
   ],
   "source": [
    "restaurant_groups"
   ]
  },
  {
   "cell_type": "code",
   "execution_count": 14,
   "id": "72755103",
   "metadata": {},
   "outputs": [
    {
     "data": {
      "image/png": "[encoded data removed]",
      "text/plain": [
       "<Figure size 432x288 with 1 Axes>"
      ]
     },
     "metadata": {
      "needs_background": "light"
     },
     "output_type": "display_data"
    }
   ],
   "source": [
    "restaurant_groups['group_size'].hist(bins=[2, 3, 4, 5, 6])\n",
    "\n",
    "plt.show()"
   ]
  },
  {
   "cell_type": "code",
   "execution_count": 15,
   "id": "5a0247a1",
   "metadata": {},
   "outputs": [
    {
     "data": {
      "text/plain": [
       "2    0.6\n",
       "4    0.2\n",
       "6    0.1\n",
       "3    0.1\n",
       "Name: group_size, dtype: float64"
      ]
     },
     "execution_count": 15,
     "metadata": {},
     "output_type": "execute_result"
    }
   ],
   "source": [
    "size_dist = restaurant_groups['group_size'].value_counts() / restaurant_groups['group_size'].value_counts().sum()\n",
    "size_dist"
   ]
  },
  {
   "cell_type": "code",
   "execution_count": 16,
   "id": "69e578b5",
   "metadata": {},
   "outputs": [
    {
     "data": {
      "text/html": [
       "<div>\n",
       "<style scoped>\n",
       "    .dataframe tbody tr th:only-of-type {\n",
       "        vertical-align: middle;\n",
       "    }\n",
       "\n",
       "    .dataframe tbody tr th {\n",
       "        vertical-align: top;\n",
       "    }\n",
       "\n",
       "    .dataframe thead th {\n",
       "        text-align: right;\n",
       "    }\n",
       "</style>\n",
       "<table border=\"1\" class=\"dataframe\">\n",
       "  <thead>\n",
       "    <tr style=\"text-align: right;\">\n",
       "      <th></th>\n",
       "      <th>index</th>\n",
       "      <th>group_size</th>\n",
       "    </tr>\n",
       "  </thead>\n",
       "  <tbody>\n",
       "    <tr>\n",
       "      <th>0</th>\n",
       "      <td>2</td>\n",
       "      <td>0.6</td>\n",
       "    </tr>\n",
       "    <tr>\n",
       "      <th>1</th>\n",
       "      <td>4</td>\n",
       "      <td>0.2</td>\n",
       "    </tr>\n",
       "    <tr>\n",
       "      <th>2</th>\n",
       "      <td>6</td>\n",
       "      <td>0.1</td>\n",
       "    </tr>\n",
       "    <tr>\n",
       "      <th>3</th>\n",
       "      <td>3</td>\n",
       "      <td>0.1</td>\n",
       "    </tr>\n",
       "  </tbody>\n",
       "</table>\n",
       "</div>"
      ],
      "text/plain": [
       "   index  group_size\n",
       "0      2         0.6\n",
       "1      4         0.2\n",
       "2      6         0.1\n",
       "3      3         0.1"
      ]
     },
     "execution_count": 16,
     "metadata": {},
     "output_type": "execute_result"
    }
   ],
   "source": [
    "size_dist = size_dist.reset_index()\n",
    "size_dist"
   ]
  },
  {
   "cell_type": "code",
   "execution_count": 17,
   "id": "4a19b60e",
   "metadata": {},
   "outputs": [],
   "source": [
    "size_dist.rename(columns={'index':'group_size', 'group_size':'prob'}, inplace=True)"
   ]
  },
  {
   "cell_type": "code",
   "execution_count": 18,
   "id": "64715947",
   "metadata": {},
   "outputs": [
    {
     "data": {
      "text/html": [
       "<div>\n",
       "<style scoped>\n",
       "    .dataframe tbody tr th:only-of-type {\n",
       "        vertical-align: middle;\n",
       "    }\n",
       "\n",
       "    .dataframe tbody tr th {\n",
       "        vertical-align: top;\n",
       "    }\n",
       "\n",
       "    .dataframe thead th {\n",
       "        text-align: right;\n",
       "    }\n",
       "</style>\n",
       "<table border=\"1\" class=\"dataframe\">\n",
       "  <thead>\n",
       "    <tr style=\"text-align: right;\">\n",
       "      <th></th>\n",
       "      <th>group_size</th>\n",
       "      <th>prob</th>\n",
       "    </tr>\n",
       "  </thead>\n",
       "  <tbody>\n",
       "    <tr>\n",
       "      <th>0</th>\n",
       "      <td>2</td>\n",
       "      <td>0.6</td>\n",
       "    </tr>\n",
       "    <tr>\n",
       "      <th>1</th>\n",
       "      <td>4</td>\n",
       "      <td>0.2</td>\n",
       "    </tr>\n",
       "    <tr>\n",
       "      <th>2</th>\n",
       "      <td>6</td>\n",
       "      <td>0.1</td>\n",
       "    </tr>\n",
       "    <tr>\n",
       "      <th>3</th>\n",
       "      <td>3</td>\n",
       "      <td>0.1</td>\n",
       "    </tr>\n",
       "  </tbody>\n",
       "</table>\n",
       "</div>"
      ],
      "text/plain": [
       "   group_size  prob\n",
       "0           2   0.6\n",
       "1           4   0.2\n",
       "2           6   0.1\n",
       "3           3   0.1"
      ]
     },
     "execution_count": 18,
     "metadata": {},
     "output_type": "execute_result"
    }
   ],
   "source": [
    "size_dist"
   ]
  },
  {
   "cell_type": "code",
   "execution_count": 19,
   "id": "5a403770",
   "metadata": {},
   "outputs": [
    {
     "data": {
      "text/plain": [
       "0    1.2\n",
       "1    0.8\n",
       "2    0.6\n",
       "3    0.3\n",
       "dtype: float64"
      ]
     },
     "execution_count": 19,
     "metadata": {},
     "output_type": "execute_result"
    }
   ],
   "source": [
    "expected_value = size_dist['group_size'] * size_dist['prob']\n",
    "expected_value"
   ]
  },
  {
   "cell_type": "code",
   "execution_count": 20,
   "id": "fbdeb25b",
   "metadata": {},
   "outputs": [
    {
     "data": {
      "text/plain": [
       "2.9000000000000004"
      ]
     },
     "execution_count": 20,
     "metadata": {},
     "output_type": "execute_result"
    }
   ],
   "source": [
    "expected_value.sum()"
   ]
  },
  {
   "cell_type": "code",
   "execution_count": 21,
   "id": "484dcf20",
   "metadata": {},
   "outputs": [
    {
     "data": {
      "text/plain": [
       "2.9000000000000004"
      ]
     },
     "execution_count": 21,
     "metadata": {},
     "output_type": "execute_result"
    }
   ],
   "source": [
    "expected_value = np.sum(size_dist['group_size'] * size_dist['prob'])\n",
    "\n",
    "expected_value"
   ]
  },
  {
   "cell_type": "code",
   "execution_count": 22,
   "id": "02f8f9c8",
   "metadata": {},
   "outputs": [
    {
     "data": {
      "text/html": [
       "<div>\n",
       "<style scoped>\n",
       "    .dataframe tbody tr th:only-of-type {\n",
       "        vertical-align: middle;\n",
       "    }\n",
       "\n",
       "    .dataframe tbody tr th {\n",
       "        vertical-align: top;\n",
       "    }\n",
       "\n",
       "    .dataframe thead th {\n",
       "        text-align: right;\n",
       "    }\n",
       "</style>\n",
       "<table border=\"1\" class=\"dataframe\">\n",
       "  <thead>\n",
       "    <tr style=\"text-align: right;\">\n",
       "      <th></th>\n",
       "      <th>group_size</th>\n",
       "      <th>prob</th>\n",
       "    </tr>\n",
       "  </thead>\n",
       "  <tbody>\n",
       "    <tr>\n",
       "      <th>1</th>\n",
       "      <td>4</td>\n",
       "      <td>0.2</td>\n",
       "    </tr>\n",
       "    <tr>\n",
       "      <th>2</th>\n",
       "      <td>6</td>\n",
       "      <td>0.1</td>\n",
       "    </tr>\n",
       "  </tbody>\n",
       "</table>\n",
       "</div>"
      ],
      "text/plain": [
       "   group_size  prob\n",
       "1           4   0.2\n",
       "2           6   0.1"
      ]
     },
     "execution_count": 22,
     "metadata": {},
     "output_type": "execute_result"
    }
   ],
   "source": [
    "groups_4_or_more = size_dist[size_dist['group_size']>=4]\n",
    "groups_4_or_more"
   ]
  },
  {
   "cell_type": "code",
   "execution_count": 23,
   "id": "5208ab50",
   "metadata": {},
   "outputs": [
    {
     "data": {
      "text/plain": [
       "0.30000000000000004"
      ]
     },
     "execution_count": 23,
     "metadata": {},
     "output_type": "execute_result"
    }
   ],
   "source": [
    "prob_4_or_more = groups_4_or_more['prob'].sum()\n",
    "prob_4_or_more"
   ]
  },
  {
   "cell_type": "markdown",
   "id": "94d9354c",
   "metadata": {},
   "source": [
    "# Continuous distributions"
   ]
  },
  {
   "cell_type": "markdown",
   "id": "3eaa65cd",
   "metadata": {},
   "source": [
    "## Data back-ups"
   ]
  },
  {
   "cell_type": "code",
   "execution_count": 26,
   "id": "7c317aee",
   "metadata": {},
   "outputs": [
    {
     "data": {
      "text/plain": [
       "0.16666666666666666"
      ]
     },
     "execution_count": 26,
     "metadata": {},
     "output_type": "execute_result"
    }
   ],
   "source": [
    "min_time = 0\n",
    "max_time = 30\n",
    "\n",
    "prob_less_than_5 = uniform.cdf(5, 0, 30)\n",
    "prob_less_than_5"
   ]
  },
  {
   "cell_type": "code",
   "execution_count": 28,
   "id": "d486fcf4",
   "metadata": {},
   "outputs": [
    {
     "data": {
      "text/plain": [
       "0.8333333333333334"
      ]
     },
     "execution_count": 28,
     "metadata": {},
     "output_type": "execute_result"
    }
   ],
   "source": [
    "prob_greater_than_5 = 1 - prob_less_than_5\n",
    "prob_greater_than_5"
   ]
  },
  {
   "cell_type": "code",
   "execution_count": 29,
   "id": "17e22c4e",
   "metadata": {},
   "outputs": [
    {
     "data": {
      "text/plain": [
       "0.8333333333333334"
      ]
     },
     "execution_count": 29,
     "metadata": {},
     "output_type": "execute_result"
    }
   ],
   "source": [
    "prob_greater_than_5 = 1 - uniform.cdf(5, 0, 30)\n",
    "prob_greater_than_5"
   ]
  },
  {
   "cell_type": "code",
   "execution_count": 30,
   "id": "e40916a3",
   "metadata": {},
   "outputs": [
    {
     "data": {
      "text/plain": [
       "0.3333333333333333"
      ]
     },
     "execution_count": 30,
     "metadata": {},
     "output_type": "execute_result"
    }
   ],
   "source": [
    "prob_between_10_and_20 = uniform.cdf(20, 0, 30) - uniform.cdf(10, 0, 30)\n",
    "prob_between_10_and_20"
   ]
  },
  {
   "cell_type": "markdown",
   "id": "561695f0",
   "metadata": {},
   "source": [
    "## Simulating wait times"
   ]
  },
  {
   "cell_type": "code",
   "execution_count": 31,
   "id": "e5ae7fce",
   "metadata": {},
   "outputs": [],
   "source": [
    "np.random.seed(334)"
   ]
  },
  {
   "cell_type": "code",
   "execution_count": 35,
   "id": "40de0dde",
   "metadata": {},
   "outputs": [
    {
     "data": {
      "text/plain": [
       "array([1.52392549e+01, 1.76333084e+01, 2.90718812e+01, 1.89431549e+01,\n",
       "       1.27193309e+01, 2.21413047e+01, 1.77310380e+01, 3.72166439e+00,\n",
       "       1.47615946e+01, 1.19996703e+01, 1.55284739e+01, 2.88174662e+01,\n",
       "       2.24389405e+01, 1.92865275e+01, 2.75948918e+01, 2.38109496e+01,\n",
       "       9.92344481e+00, 4.07603910e+00, 1.57290473e+01, 1.42202582e+01,\n",
       "       1.53427038e-01, 1.92473086e+01, 1.92136660e+01, 1.07023610e+01,\n",
       "       3.21703318e+00, 5.44510372e+00, 1.86586022e+01, 2.87212749e+01,\n",
       "       1.43062310e+01, 2.05657179e+01, 1.02222523e+01, 1.39153604e+01,\n",
       "       2.44065874e+01, 1.35838920e+01, 1.04425508e+01, 4.06194324e+00,\n",
       "       2.75042553e+01, 6.14094175e+00, 2.46967175e+01, 1.16073117e+01,\n",
       "       8.39616411e+00, 3.93704031e+00, 1.30416479e+00, 2.29097521e+01,\n",
       "       2.92233393e+01, 3.13806471e+00, 2.66862917e+01, 2.05764370e+01,\n",
       "       2.01093191e+01, 1.85970435e+01, 1.69595762e+01, 2.24331059e+00,\n",
       "       9.89332364e+00, 9.05139742e+00, 1.93878042e+01, 4.25091899e+00,\n",
       "       7.61836272e+00, 1.18840442e+01, 1.85514122e+00, 2.09103679e+01,\n",
       "       2.34918335e+01, 1.07511584e+01, 1.98997542e+01, 2.11755284e+01,\n",
       "       1.98498743e+01, 2.63599910e+01, 2.00333895e+00, 2.47378795e+01,\n",
       "       1.32842139e+00, 1.25006336e+01, 2.59501709e+01, 1.58981676e+01,\n",
       "       2.32340899e+01, 2.83197970e+01, 2.72971523e+01, 2.39083816e+00,\n",
       "       2.74225688e-01, 2.90449146e+01, 1.34561561e+01, 2.90198657e+00,\n",
       "       2.18649663e+01, 8.88526920e+00, 9.84210598e+00, 2.60369594e+00,\n",
       "       1.62004907e+01, 1.51907619e+01, 1.13078127e+01, 4.47445401e+00,\n",
       "       2.87175966e+01, 2.80524025e+01, 1.06199582e+01, 1.00962822e+01,\n",
       "       1.41783224e+01, 4.97051519e+00, 2.65853965e+01, 1.80425825e+01,\n",
       "       2.27500434e+01, 9.89150848e+00, 2.54931220e+01, 2.25912014e+01,\n",
       "       2.09702140e+01, 6.30371297e+00, 1.60048042e+00, 1.87554047e+01,\n",
       "       1.66768398e+01, 9.55193821e+00, 2.84691885e+01, 1.07567087e+01,\n",
       "       2.40446564e+01, 7.53823229e+00, 1.66238032e+01, 2.28722391e+01,\n",
       "       2.83444798e+01, 1.84973419e+01, 1.42173103e+01, 2.15151592e+01,\n",
       "       1.12094685e+01, 2.19878219e+01, 1.05872382e+01, 2.01827163e+01,\n",
       "       8.98373080e+00, 2.60807044e+01, 9.46884641e+00, 1.05739919e+00,\n",
       "       2.85105908e+01, 1.20234172e+01, 1.97852367e+01, 1.23552930e+01,\n",
       "       9.60160020e+00, 1.20029252e+01, 3.26512248e-01, 1.89769566e+01,\n",
       "       2.64554849e+01, 1.27250664e+01, 5.12416323e+00, 1.04424784e+01,\n",
       "       1.58503036e+01, 2.27035941e+01, 1.38202575e+01, 7.84678636e+00,\n",
       "       1.52383173e+01, 2.22361707e+01, 1.50988131e+01, 6.09087495e-01,\n",
       "       2.85470863e+00, 1.76779697e+00, 1.62689253e-01, 2.04442141e+01,\n",
       "       2.19725406e+01, 1.76866099e+01, 1.94478179e+01, 1.36658191e+01,\n",
       "       2.97948369e+01, 2.95587099e+01, 5.21796885e+00, 1.60804342e+00,\n",
       "       1.17357649e+01, 9.18126202e+00, 1.95634044e+01, 2.40120077e+01,\n",
       "       1.93943155e+01, 7.01654884e+00, 2.85514338e+01, 2.10250371e+01,\n",
       "       2.93304090e+01, 2.62719273e+01, 1.36093814e+01, 1.07146327e+01,\n",
       "       1.94455238e+01, 1.59085422e+01, 9.61959109e+00, 5.43838615e+00,\n",
       "       2.19001581e+01, 2.66437718e+01, 1.86932540e+01, 2.46395199e+01,\n",
       "       2.20827214e+01, 2.33769698e+01, 7.46708170e+00, 2.75812680e+01,\n",
       "       2.09177447e+01, 1.19269073e+01, 1.35809349e+01, 7.56699728e+00,\n",
       "       2.43988184e+00, 2.00355648e+01, 2.58531841e+01, 1.76649541e+01,\n",
       "       2.44554613e+01, 3.56581194e-02, 2.74920317e+01, 2.16343604e+01,\n",
       "       2.72032950e+01, 8.99383356e+00, 2.57738827e+01, 6.15437119e+00,\n",
       "       1.64535779e+01, 2.03357454e+00, 9.97671609e+00, 2.30888716e+01,\n",
       "       1.70339390e+01, 1.53365646e+01, 2.38159371e+01, 8.74737579e+00,\n",
       "       2.54206499e+01, 2.96006685e+01, 1.72208911e+01, 2.11724018e+01,\n",
       "       2.22739070e+01, 1.38147799e+01, 8.38990380e+00, 1.66568461e+01,\n",
       "       1.78564950e+00, 2.10520045e+01, 6.81188163e+00, 2.77189171e+01,\n",
       "       2.64503210e+01, 1.28592371e+01, 1.45011583e+01, 2.80880274e+01,\n",
       "       2.20907765e+01, 5.52906354e+00, 2.66819493e+00, 2.31698053e+01,\n",
       "       1.86110905e+01, 1.89145727e+01, 1.66049850e+01, 1.50821039e+01,\n",
       "       1.85996362e+01, 2.91337402e+01, 2.25419586e+01, 2.09559915e+01,\n",
       "       1.65783920e+01, 2.04386101e+01, 2.08132512e+01, 2.94001329e+01,\n",
       "       9.72548239e+00, 1.27756633e+01, 4.54397803e+00, 1.42584943e+01,\n",
       "       2.78062130e+01, 8.25300023e+00, 2.09363047e+01, 1.92790118e+00,\n",
       "       2.73677113e+01, 9.46732347e+00, 1.20332417e+01, 2.81331600e+01,\n",
       "       2.67584539e+01, 4.05683978e+00, 2.25626523e+01, 2.80258394e+01,\n",
       "       1.12174757e+01, 2.23976726e+01, 2.15175870e+01, 5.16721067e-01,\n",
       "       2.26757127e+01, 7.13256573e+00, 2.66650472e+01, 3.12373493e+00,\n",
       "       1.07865681e+01, 6.70652934e+00, 1.74041160e+01, 1.45152606e+01,\n",
       "       2.70618735e+00, 2.25802964e+01, 3.00772741e-01, 2.77435779e+01,\n",
       "       8.88161872e+00, 7.33120824e+00, 4.78690728e+00, 7.21140167e+00,\n",
       "       2.11745487e+01, 8.51579612e+00, 2.52583739e+01, 3.96323403e+00,\n",
       "       5.84753120e+00, 6.91238447e+00, 4.80305427e+00, 2.21004676e+01,\n",
       "       2.89332408e+01, 2.99914638e+01, 2.03166193e+01, 1.17841651e+01,\n",
       "       1.66349313e+00, 1.98217304e+01, 1.36132984e+01, 6.36722846e-01,\n",
       "       2.85108424e+01, 4.28721999e+00, 1.38988269e+01, 1.13580915e+01,\n",
       "       2.65264055e+01, 9.02472636e+00, 1.82261135e+01, 8.28397618e+00,\n",
       "       1.90268898e+01, 5.47898382e+00, 1.60839769e+01, 1.39499743e+01,\n",
       "       1.28090051e+01, 5.35395663e+00, 6.81111512e+00, 7.57616633e+00,\n",
       "       1.14998565e+01, 2.96185420e+01, 1.77159000e+01, 2.03205248e+01,\n",
       "       2.51375657e+01, 2.96838646e+01, 2.65665424e+01, 1.24671441e+00,\n",
       "       9.42896118e+00, 9.54698392e+00, 1.94874935e+01, 2.08968120e+01,\n",
       "       8.63093474e-01, 2.58402520e+01, 8.15203598e+00, 2.40582115e+01,\n",
       "       1.30375166e+01, 1.42889746e+01, 2.46949725e+00, 6.50307138e+00,\n",
       "       1.46233817e+01, 2.44288628e+01, 2.71910716e+01, 2.63933187e+00,\n",
       "       2.37643344e+00, 2.03692651e+01, 1.81438306e+00, 2.32147509e+00,\n",
       "       1.58254208e-01, 1.63585630e+01, 4.22815142e+00, 2.95632376e+01,\n",
       "       2.72277043e+01, 2.31199944e+01, 2.38020005e+01, 8.45280643e+00,\n",
       "       1.30035801e+01, 1.56799272e+01, 1.24206517e+01, 2.39188751e+01,\n",
       "       9.56175182e+00, 6.19982055e+00, 1.59832074e+01, 2.66095680e+01,\n",
       "       2.11882327e+01, 1.40603664e+01, 9.85702501e+00, 1.74225287e+01,\n",
       "       6.00009526e+00, 9.42949786e-01, 8.52261586e+00, 3.31257067e+00,\n",
       "       6.43973556e+00, 8.12652285e+00, 1.08230710e+01, 1.26469606e+01,\n",
       "       1.80301014e+01, 2.70795593e+01, 1.59351755e+01, 2.60728703e+01,\n",
       "       2.08538758e+01, 1.27289123e+01, 1.52307485e+01, 1.13529578e+01,\n",
       "       1.52971819e+01, 1.52404285e+01, 2.79964851e+01, 2.14496127e+01,\n",
       "       2.26955292e+01, 2.38045886e+01, 1.27307841e+01, 4.98469850e+00,\n",
       "       5.57557520e+00, 1.35251914e+01, 2.11390303e+01, 2.42417057e+01,\n",
       "       1.31925474e+01, 6.10567107e+00, 2.99849090e+01, 4.96057686e+00,\n",
       "       5.19921553e+00, 8.51952891e+00, 1.84262443e+01, 1.73449400e+01,\n",
       "       6.29172758e+00, 2.66577190e+01, 2.27109860e+01, 2.04588001e+01,\n",
       "       2.88597401e+01, 6.11664302e+00, 2.57053608e+01, 2.93774026e+01,\n",
       "       2.02683261e+01, 6.69517131e+00, 4.97299991e+00, 1.41480749e+01,\n",
       "       8.70944059e+00, 1.74295190e+01, 2.69645628e+01, 2.61067670e+01,\n",
       "       2.68995884e+01, 2.69097413e+01, 1.25770837e+00, 2.00687892e+01,\n",
       "       1.26618564e+01, 2.06857572e+01, 2.92054548e+01, 4.46321991e+00,\n",
       "       2.98377895e+01, 1.15299993e+01, 1.95054526e+01, 2.79385378e+01,\n",
       "       1.68976890e+01, 1.81955700e+01, 2.71260586e+00, 1.67259137e+01,\n",
       "       7.48163346e+00, 9.66783095e-01, 2.22588410e+01, 8.52606937e+00,\n",
       "       5.68027874e+00, 2.83629537e+01, 2.69114802e+01, 2.75950027e+00,\n",
       "       4.34193742e-01, 2.50145076e+01, 9.62177132e+00, 7.61704609e+00,\n",
       "       5.60839105e+00, 2.01958097e+01, 7.71789402e+00, 2.06885422e+01,\n",
       "       2.68776303e+00, 9.19243483e+00, 1.62730028e+01, 4.51719993e+00,\n",
       "       7.86653188e+00, 2.09640671e+01, 6.01934422e+00, 7.67085467e+00,\n",
       "       3.38583935e+00, 8.87145855e+00, 2.75505723e+00, 7.98653640e+00,\n",
       "       1.19957279e+01, 2.39434306e+01, 2.08828521e+01, 1.62574751e+01,\n",
       "       2.72853528e+01, 2.53574913e+01, 1.69613311e+01, 1.81993955e+01,\n",
       "       4.82212512e+00, 5.30367553e+00, 1.53901763e-01, 7.73514227e+00,\n",
       "       1.20903393e+00, 4.62970677e+00, 2.91982034e+01, 1.08101512e+01,\n",
       "       8.70934568e+00, 2.67822037e+01, 2.46367287e+01, 2.87421897e+00,\n",
       "       2.14601845e+00, 8.82765350e+00, 1.70742863e+01, 2.53769779e+01,\n",
       "       2.68179031e+01, 8.87540137e+00, 1.62013040e+01, 3.78353026e+00,\n",
       "       2.51099943e+01, 9.42163561e+00, 5.06215968e+00, 1.77934234e+01,\n",
       "       7.73341901e+00, 1.71014196e+01, 1.02774226e+01, 2.77183426e+01,\n",
       "       7.43046939e+00, 2.01526328e+01, 2.48887088e+01, 5.75567124e+00,\n",
       "       4.99397448e+00, 7.05144012e+00, 2.94224022e+00, 8.12954307e+00,\n",
       "       2.27954241e+01, 4.03804954e+00, 7.39984296e+00, 4.94944513e+00,\n",
       "       2.97319118e+01, 4.01193237e-01, 1.77284527e+00, 2.84238483e+01,\n",
       "       2.67617900e+01, 2.45576841e+01, 1.67376637e+01, 3.18180009e+00,\n",
       "       2.21660030e+01, 2.22337718e+01, 7.88447104e+00, 2.07119150e+01,\n",
       "       2.60632751e+01, 1.91224756e+01, 2.46866734e+01, 2.00748043e+01,\n",
       "       2.40183956e+01, 2.51732579e+01, 1.85679922e+01, 2.20644762e+01,\n",
       "       2.06755023e+01, 5.23750167e+00, 2.14621114e+01, 2.92503052e+01,\n",
       "       2.17679336e+00, 6.78468414e+00, 2.79765454e+01, 8.29914023e+00,\n",
       "       2.21472940e+01, 1.85216247e+01, 2.51562240e+01, 9.20009279e+00,\n",
       "       2.03299910e+00, 1.47531351e+01, 2.14218927e+01, 2.30772259e+01,\n",
       "       2.10105733e+01, 2.88085714e+01, 5.45956927e+00, 1.57572256e+00,\n",
       "       2.39334789e+01, 2.16644219e+01, 2.31302876e+01, 2.05300758e+01,\n",
       "       6.67007282e+00, 1.45895918e+01, 9.30357451e+00, 5.93617553e+00,\n",
       "       1.93860004e+01, 2.30987781e+01, 1.36445156e+01, 1.25077103e+01,\n",
       "       2.50741916e+01, 2.36367037e+01, 2.95978386e+01, 2.79703352e+01,\n",
       "       2.41822215e+01, 2.70377367e+01, 1.88969483e+01, 1.41225717e+01,\n",
       "       1.51024976e+01, 2.17368165e+01, 2.58310516e+01, 1.95404848e+01,\n",
       "       1.27747933e+01, 2.39935338e+01, 2.06087588e+01, 1.68317728e+01,\n",
       "       2.03330794e+01, 1.99346272e+01, 2.90146254e+01, 1.02347727e+01,\n",
       "       2.14736439e+01, 6.69797897e+00, 7.91691448e+00, 4.39656717e+00,\n",
       "       1.92765424e+01, 6.89507847e+00, 8.69095886e-01, 7.90886316e+00,\n",
       "       1.18845316e+01, 2.45114805e+01, 1.12761131e+01, 1.41062555e+01,\n",
       "       7.66870212e+00, 8.79847710e+00, 2.98489320e+01, 1.02546752e+01,\n",
       "       2.35536750e+01, 1.61972463e+01, 2.09773578e+01, 5.73450845e+00,\n",
       "       2.24895771e+01, 7.38147695e+00, 1.29777961e+01, 1.98283437e+01,\n",
       "       2.53156963e+01, 3.15164602e+00, 1.31210554e+01, 2.79972325e+01,\n",
       "       2.21621961e+01, 1.96644601e+01, 2.29397169e+01, 8.12403948e+00,\n",
       "       2.79289883e+01, 1.17747064e+01, 7.37186804e+00, 2.19533406e+01,\n",
       "       8.49933213e+00, 2.70048985e+01, 1.44886896e+01, 2.34117057e+01,\n",
       "       1.89278594e+01, 8.60101224e+00, 2.77270773e+01, 8.71645391e+00,\n",
       "       2.76441193e+01, 2.16382627e+01, 1.07743906e+01, 1.98335112e+00,\n",
       "       1.30928889e+00, 2.80023565e+01, 2.18631265e+01, 3.36043625e+00,\n",
       "       1.71670425e+01, 7.01191764e+00, 6.14701097e+00, 2.27238295e+01,\n",
       "       1.98079100e+01, 1.02581312e+01, 1.62345723e+01, 2.82963515e+01,\n",
       "       1.51782024e+01, 8.31782906e-01, 1.05517736e+01, 1.99689135e+01,\n",
       "       4.59912488e+00, 2.37872978e+01, 2.67488706e+01, 1.63874786e+01,\n",
       "       2.66866578e+01, 1.84653427e+00, 2.02165865e+01, 1.03235308e+01,\n",
       "       4.23105875e+00, 1.93332849e+01, 4.66480846e+00, 1.68892372e+01,\n",
       "       6.11135335e+00, 8.78147514e+00, 1.67397290e+01, 1.48673049e+01,\n",
       "       4.62473742e+00, 9.63112610e+00, 2.66163891e+01, 1.81449484e+01,\n",
       "       2.63626373e+01, 2.53513944e+01, 2.72781307e+01, 1.22226374e+01,\n",
       "       2.06421081e+01, 3.71178937e+00, 2.27001634e-01, 2.30547826e+01,\n",
       "       2.18855217e+01, 8.75999546e+00, 2.18276125e+01, 9.34283812e+00,\n",
       "       2.46631062e+01, 2.46698279e+01, 1.74208246e+01, 1.67627786e+00,\n",
       "       1.34236982e+01, 1.34792559e+01, 2.72690501e+01, 9.00495939e+00,\n",
       "       3.59781560e+00, 2.12882185e+01, 2.34006659e+01, 2.36622077e+01,\n",
       "       1.61368284e+01, 1.15781935e+01, 6.87680312e+00, 2.69973957e+01,\n",
       "       2.15479091e+00, 5.70320582e-02, 1.59115126e+01, 1.21548415e+01,\n",
       "       2.99438628e+00, 9.04796135e+00, 2.63477277e+01, 1.05238083e+01,\n",
       "       2.38091389e+00, 2.31407542e+01, 1.13381253e+01, 9.46550785e+00,\n",
       "       4.87994300e+00, 6.24819153e+00, 1.28372289e+01, 1.99534696e+01,\n",
       "       6.39472291e+00, 2.96431622e+01, 1.72345359e+01, 2.96466540e+00,\n",
       "       1.04043570e+01, 2.58248973e+01, 1.01076444e+01, 2.17579341e+01,\n",
       "       1.16325564e+01, 7.02524606e+00, 1.54493947e+01, 1.34841620e+01,\n",
       "       2.74032199e+01, 2.06410943e+01, 2.13586125e+01, 4.02919558e+00,\n",
       "       1.59549041e+01, 2.70482297e+01, 2.72317705e+01, 3.47672250e+00,\n",
       "       5.65435351e+00, 2.89679383e+01, 1.15233775e+01, 1.94164053e+01,\n",
       "       1.73977421e+01, 1.04797069e+01, 7.97457101e+00, 1.44774059e+01,\n",
       "       9.48811460e+00, 2.45304980e+01, 8.40662737e+00, 4.39176806e+00,\n",
       "       1.31417123e+01, 1.60401551e+01, 2.57440684e+01, 2.23831696e+01,\n",
       "       2.66168291e+01, 3.38235921e+00, 4.53405724e-01, 7.73755047e+00,\n",
       "       2.24648533e+01, 1.41510503e+01, 2.47152047e+01, 2.96590323e+01,\n",
       "       1.24847930e+01, 4.55613146e+00, 1.44286387e+01, 1.91926635e+01,\n",
       "       2.15916015e+01, 2.61246557e+00, 5.52146425e+00, 1.99605340e+01,\n",
       "       3.20134358e+00, 2.83232290e+01, 1.02118562e+00, 2.37729633e+01,\n",
       "       2.29305138e+01, 2.42110409e+01, 3.57459176e-03, 6.18420809e+00,\n",
       "       1.16946429e+00, 8.89266289e+00, 1.18434716e+00, 8.56832854e+00,\n",
       "       1.46820168e+01, 2.01473659e+01, 5.97782231e+00, 2.33703265e+01,\n",
       "       2.21509633e+01, 2.13148860e+01, 1.34080063e+01, 3.91022755e-01,\n",
       "       9.03627881e+00, 1.84181629e+01, 1.55504186e+01, 2.02073909e+01,\n",
       "       2.56251119e+01, 2.34675244e+01, 9.11409993e+00, 1.54740681e+01,\n",
       "       1.45967935e+01, 3.83417211e+00, 2.43623054e+01, 2.52223576e+01,\n",
       "       2.87801379e+01, 5.23469555e+00, 2.20762579e+01, 1.98589833e+01,\n",
       "       2.66398676e+01, 2.22466236e+01, 2.78261812e+01, 2.49664640e+01,\n",
       "       2.73990161e+01, 2.00356484e-01, 1.68525004e+00, 1.20719089e+01,\n",
       "       7.92939475e+00, 1.40644526e+01, 2.81270830e+01, 1.41742917e+01,\n",
       "       2.36396163e+01, 7.24539318e+00, 1.89755220e+01, 1.83087121e+01,\n",
       "       2.95715619e+01, 1.75143314e+01, 6.27589607e+00, 5.29407047e+00,\n",
       "       1.24434884e+01, 1.04436934e+01, 2.69532980e+01, 1.83461157e+01,\n",
       "       5.09975419e+00, 2.81891686e+01, 1.60530749e+01, 2.83956207e+01,\n",
       "       2.70426574e+01, 5.16223399e+00, 1.61136127e+01, 8.12126095e+00,\n",
       "       1.30887389e+01, 1.07807246e+01, 1.91863520e+01, 2.30827258e+01,\n",
       "       1.44630102e+01, 4.93064594e+00, 2.58564205e+01, 2.16167539e+01,\n",
       "       9.22867145e-01, 3.52334796e+00, 2.06137280e+01, 4.07934266e+00,\n",
       "       2.06979243e+00, 1.46519608e+01, 2.35705407e+01, 2.68719691e+01,\n",
       "       2.48929353e+01, 3.66294805e+00, 2.51084449e+01, 5.67570561e+00,\n",
       "       1.28273891e+01, 1.80789567e+01, 9.26302893e-01, 1.35711383e+01,\n",
       "       1.26674275e+01, 2.22382191e+01, 2.73548564e+01, 2.32226232e+01,\n",
       "       1.57149151e+01, 2.97495173e+01, 2.43324584e+01, 4.50866032e-01,\n",
       "       2.32516116e+00, 1.42406054e+01, 2.07281036e+01, 9.86714627e+00,\n",
       "       8.85331056e+00, 8.64691950e+00, 2.30197040e+00, 2.06189917e+01,\n",
       "       2.70720862e+01, 7.04508194e+00, 2.14076054e+01, 1.61477124e+01,\n",
       "       1.03318025e+01, 8.17297229e+00, 3.37101455e+00, 1.07348806e+01,\n",
       "       1.86929359e+01, 1.19842408e+01, 2.32641267e+01, 2.01201559e+01,\n",
       "       6.55595022e+00, 1.48269154e+01, 9.96678649e+00, 1.04468594e+01,\n",
       "       8.91570208e+00, 1.41454511e+01, 1.59439932e+01, 2.23310780e+01,\n",
       "       7.00303365e+00, 1.40816947e+01, 2.58826657e+01, 2.89733289e+01,\n",
       "       1.89824992e+01, 1.60945200e+01, 2.85900280e+01, 2.59554057e+01,\n",
       "       2.89019643e+01, 1.56464213e+01, 1.35072641e+01, 2.85429543e+01,\n",
       "       1.40951431e+01, 1.85190489e+01, 8.95239477e+00, 2.25561580e+01,\n",
       "       1.91101683e+01, 1.72947007e+01, 1.29603569e+01, 9.40001375e+00,\n",
       "       1.24910924e+01, 1.51920773e+01, 1.10753799e+01, 1.63500025e+01,\n",
       "       2.80225872e+01, 1.60998812e-01, 2.38599730e+01, 2.03931785e+01,\n",
       "       1.79622126e+01, 1.07769527e+01, 4.49564313e+00, 2.50977974e+01,\n",
       "       1.88269893e+01, 3.68383451e+00, 2.99457155e+01, 8.27967327e+00,\n",
       "       6.74109886e+00, 2.96706208e+01, 1.72124561e+01, 2.41989690e+00,\n",
       "       2.60772095e+01, 2.19517223e+01, 2.80752808e+01, 2.03857678e+01,\n",
       "       1.15788882e+01, 1.85812109e+01, 1.80717636e+01, 1.64930594e+01,\n",
       "       1.86915269e+01, 2.83158792e+01, 8.64641350e+00, 2.60402091e+01,\n",
       "       9.08050335e-03, 1.62729236e+01, 9.53716006e+00, 1.34049558e+01,\n",
       "       1.58491748e+01, 2.11525465e+01, 1.53218869e+01, 5.31722245e+00,\n",
       "       1.06318524e+01, 5.66545545e+00, 8.43064540e+00, 5.20690122e+00,\n",
       "       2.55846099e+01, 1.76296040e+01, 2.02013789e+01, 1.76602145e+01,\n",
       "       2.66799936e+01, 8.61524851e+00, 2.87976903e+01, 1.82165451e+01,\n",
       "       2.41170844e+01, 2.93622855e+01, 2.90409496e+01, 2.38964817e+01,\n",
       "       2.20844450e+01, 9.55884961e+00, 2.33926807e+01, 5.03900872e+00,\n",
       "       2.74373989e+01, 2.35834716e+01, 1.12968608e+01, 1.11351392e+01,\n",
       "       6.10091200e+00, 2.04870419e+00, 1.65079916e+01, 6.67070975e+00,\n",
       "       1.90661086e+01, 2.79792829e+01, 6.44698637e+00, 9.43699450e-01,\n",
       "       1.44589878e+01, 2.86548788e+01, 3.60645196e+00, 8.86798699e+00,\n",
       "       2.98273728e+01, 2.69430549e+01, 1.00541326e+01, 7.19358549e+00,\n",
       "       2.30391065e+01, 1.41886968e+01, 2.48301395e+01, 2.13836412e+01,\n",
       "       1.59266194e+01, 2.07926279e+01, 1.13044479e+01, 2.24220993e+00,\n",
       "       1.79822830e+01, 2.58966705e+01, 2.02345638e+00, 2.76944104e+01,\n",
       "       2.67336861e+01, 2.44802539e+01, 2.39658323e+01, 2.56225633e+01,\n",
       "       2.90094250e+01, 1.46948448e+01, 1.19281454e+01, 1.30657580e+01,\n",
       "       1.88924270e+01, 2.37992785e+01, 5.78709856e+00, 1.94846951e+01])"
      ]
     },
     "execution_count": 35,
     "metadata": {},
     "output_type": "execute_result"
    }
   ],
   "source": [
    "wait_times = uniform.rvs(0, 30, size=1000)\n",
    "wait_times"
   ]
  },
  {
   "cell_type": "code",
   "execution_count": 36,
   "id": "d32c9853",
   "metadata": {
    "scrolled": true
   },
   "outputs": [
    {
     "data": {
      "image/png": "[encoded data removed]",
      "text/plain": [
       "<Figure size 432x288 with 1 Axes>"
      ]
     },
     "metadata": {
      "needs_background": "light"
     },
     "output_type": "display_data"
    }
   ],
   "source": [
    "plt.hist(wait_times)\n",
    "plt.show()"
   ]
  },
  {
   "cell_type": "markdown",
   "id": "4f14cb38",
   "metadata": {},
   "source": [
    "# The binomial distribution"
   ]
  },
  {
   "cell_type": "markdown",
   "id": "3f8bbe84",
   "metadata": {},
   "source": [
    "## Simulating sales deals"
   ]
  },
  {
   "cell_type": "code",
   "execution_count": 39,
   "id": "09c7bc48",
   "metadata": {},
   "outputs": [],
   "source": [
    "np.random.seed(10)"
   ]
  },
  {
   "cell_type": "code",
   "execution_count": 45,
   "id": "4bd87a77",
   "metadata": {},
   "outputs": [
    {
     "data": {
      "text/plain": [
       "array([1])"
      ]
     },
     "execution_count": 45,
     "metadata": {},
     "output_type": "execute_result"
    }
   ],
   "source": [
    "np.random.seed(10)\n",
    "binom.rvs(1, 0.3, size=1)"
   ]
  },
  {
   "cell_type": "code",
   "execution_count": 47,
   "id": "098a39e0",
   "metadata": {},
   "outputs": [
    {
     "data": {
      "text/plain": [
       "array([1])"
      ]
     },
     "execution_count": 47,
     "metadata": {},
     "output_type": "execute_result"
    }
   ],
   "source": [
    "# Simulate 1 week of 3 deals\n",
    "np.random.seed(10)\n",
    "\n",
    "binom.rvs(3, 0.3, size=1)"
   ]
  },
  {
   "cell_type": "code",
   "execution_count": 50,
   "id": "f8a1851e",
   "metadata": {},
   "outputs": [
    {
     "data": {
      "text/plain": [
       "array([1, 0, 1, 1, 1, 0, 0, 1, 0, 0, 1, 2, 0, 1, 2, 1, 1, 0, 2, 1, 1, 0,\n",
       "       1, 1, 1, 1, 1, 1, 1, 1, 2, 1, 2, 0, 0, 0, 0, 2, 0, 1, 1, 2, 0, 2,\n",
       "       1, 1, 0, 2, 0, 0, 1, 0])"
      ]
     },
     "execution_count": 50,
     "metadata": {},
     "output_type": "execute_result"
    }
   ],
   "source": [
    "# Simulate 52 weeks of 3 deals\n",
    "np.random.seed(10)\n",
    "\n",
    "deals = binom.rvs(3, 0.3, size=52)\n",
    "deals"
   ]
  },
  {
   "cell_type": "code",
   "execution_count": 51,
   "id": "01a22de5",
   "metadata": {},
   "outputs": [
    {
     "data": {
      "text/plain": [
       "0.8269230769230769"
      ]
     },
     "execution_count": 51,
     "metadata": {},
     "output_type": "execute_result"
    }
   ],
   "source": [
    "np.mean(deals)"
   ]
  },
  {
   "cell_type": "markdown",
   "id": "4a84f3a0",
   "metadata": {},
   "source": [
    "## Calculating binomial probabilities"
   ]
  },
  {
   "cell_type": "code",
   "execution_count": 52,
   "id": "78fd0a39",
   "metadata": {},
   "outputs": [
    {
     "data": {
      "text/plain": [
       "0.026999999999999996"
      ]
     },
     "execution_count": 52,
     "metadata": {},
     "output_type": "execute_result"
    }
   ],
   "source": [
    "# Probability of closing 3 out of 3 deals\n",
    "prob_3 = binom.pmf(3, 3, 0.3)\n",
    "\n",
    "prob_3"
   ]
  },
  {
   "cell_type": "code",
   "execution_count": 53,
   "id": "865754b4",
   "metadata": {},
   "outputs": [
    {
     "data": {
      "text/plain": [
       "0.784"
      ]
     },
     "execution_count": 53,
     "metadata": {},
     "output_type": "execute_result"
    }
   ],
   "source": [
    "# Probability of closing <= 1 deal out of 3 deals\n",
    "prob_less_than_or_equal_1 = binom.cdf(1, 3, 0.3)\n",
    "\n",
    "prob_less_than_or_equal_1"
   ]
  },
  {
   "cell_type": "code",
   "execution_count": 54,
   "id": "4727989f",
   "metadata": {},
   "outputs": [
    {
     "data": {
      "text/plain": [
       "0.21599999999999997"
      ]
     },
     "execution_count": 54,
     "metadata": {},
     "output_type": "execute_result"
    }
   ],
   "source": [
    "# Probability of closing > 1 deal out of 3 deals\n",
    "prob_greater_than_1 = 1 - binom.cdf(1, 3, 0.3)\n",
    "\n",
    "prob_greater_than_1"
   ]
  },
  {
   "cell_type": "code",
   "execution_count": 56,
   "id": "ba6ff98a",
   "metadata": {},
   "outputs": [],
   "source": [
    "# Powerful probability calculations! \n",
    "# Amir has about a 22% chance of closing more than one deal in a week."
   ]
  },
  {
   "cell_type": "markdown",
   "id": "e0d63337",
   "metadata": {},
   "source": [
    "## How many sales will be won?"
   ]
  },
  {
   "cell_type": "code",
   "execution_count": 58,
   "id": "ab2fe459",
   "metadata": {},
   "outputs": [
    {
     "name": "stdout",
     "output_type": "stream",
     "text": [
      "0.8999999999999999\n",
      "0.75\n",
      "1.0499999999999998\n"
     ]
    }
   ],
   "source": [
    "# Expected number won with 30% win rate\n",
    "won_30pct = 3 * 0.3\n",
    "print(won_30pct)\n",
    "\n",
    "# Expected number won with 25% win rate\n",
    "won_25pct = 3 * 0.25\n",
    "print(won_25pct)\n",
    "\n",
    "# Expected number won with 35% win rate\n",
    "won_35pct = 3 * 0.35\n",
    "print(won_35pct)"
   ]
  },
  {
   "cell_type": "code",
   "execution_count": 59,
   "id": "0b9aac9d",
   "metadata": {},
   "outputs": [],
   "source": [
    "# Excellent expectation experimentation! \n",
    "# If Amir's win rate goes up by 5%, \n",
    "# he can expect to close more than 1 deal on average each week."
   ]
  },
  {
   "cell_type": "code",
   "execution_count": null,
   "id": "4235cad4",
   "metadata": {},
   "outputs": [],
   "source": []
  }
 ],
 "metadata": {
  "kernelspec": {
   "display_name": "Python 3 (ipykernel)",
   "language": "python",
   "name": "python3"
  },
  "language_info": {
   "codemirror_mode": {
    "name": "ipython",
    "version": 3
   },
   "file_extension": ".py",
   "mimetype": "text/x-python",
   "name": "python",
   "nbconvert_exporter": "python",
   "pygments_lexer": "ipython3",
   "version": "3.9.5"
  }
 },
 "nbformat": 4,
 "nbformat_minor": 5
}
