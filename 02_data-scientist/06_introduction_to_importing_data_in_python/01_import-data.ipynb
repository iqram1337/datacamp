{
 "cells": [
  {
   "cell_type": "code",
   "execution_count": 1,
   "id": "ca73094b",
   "metadata": {},
   "outputs": [],
   "source": [
    "import pandas as pd\n",
    "import numpy as np\n",
    "import matplotlib.pyplot as plt\n",
    "import seaborn as sns"
   ]
  },
  {
   "cell_type": "markdown",
   "id": "b7ce4083",
   "metadata": {},
   "source": [
    "## importing entire text files"
   ]
  },
  {
   "cell_type": "code",
   "execution_count": 5,
   "id": "fbce7b34",
   "metadata": {
    "scrolled": true
   },
   "outputs": [
    {
     "name": "stdout",
     "output_type": "stream",
     "text": [
      "Time\tPercent\n",
      "99\t0.067\n",
      "99\t0.133\n",
      "99\t0.067\n",
      "99\t0\n",
      "99\t0\n",
      "0\t0.5\n",
      "0\t0.467\n",
      "0\t0.857\n",
      "0\t0.5\n",
      "0\t0.357\n",
      "0\t0.533\n",
      "5\t0.467\n",
      "5\t0.467\n",
      "5\t0.125\n",
      "5\t0.4\n",
      "5\t0.214\n",
      "5\t0.4\n",
      "10\t0.067\n",
      "10\t0.067\n",
      "10\t0.333\n",
      "10\t0.333\n",
      "10\t0.133\n",
      "10\t0.133\n",
      "15\t0.267\n",
      "15\t0.286\n",
      "15\t0.333\n",
      "15\t0.214\n",
      "15\t0\n",
      "15\t0\n",
      "20\t0.267\n",
      "20\t0.2\n",
      "20\t0.267\n",
      "20\t0.437\n",
      "20\t0.077\n",
      "20\t0.067\n",
      "25\t0.133\n",
      "25\t0.267\n",
      "25\t0.412\n",
      "25\t0\n",
      "25\t0.067\n",
      "25\t0.133\n",
      "30\t0\n",
      "30\t0.071\n",
      "30\t0\n",
      "30\t0.067\n",
      "30\t0.067\n",
      "30\t0.133\n",
      "False\n",
      "True\n"
     ]
    }
   ],
   "source": [
    "# Open a file: file\n",
    "file = open('data/seaslug.txt', 'r')\n",
    "\n",
    "# Print it\n",
    "print(file.read())\n",
    "\n",
    "# Check whether file is closed\n",
    "print(file.closed)\n",
    "\n",
    "# Close file\n",
    "file.close()\n",
    "\n",
    "# Check whether file is closed\n",
    "print(file.closed)"
   ]
  },
  {
   "cell_type": "markdown",
   "id": "901ce488",
   "metadata": {},
   "source": [
    "## Importing text files line by line"
   ]
  },
  {
   "cell_type": "code",
   "execution_count": 7,
   "id": "b28945d4",
   "metadata": {},
   "outputs": [
    {
     "name": "stdout",
     "output_type": "stream",
     "text": [
      "Time\tPercent\n",
      "\n",
      "99\t0.067\n",
      "\n",
      "99\t0.133\n",
      "\n"
     ]
    }
   ],
   "source": [
    "# Read & print the first 3 lines\n",
    "with open('data/seaslug.txt') as file:\n",
    "    print(file.readline())\n",
    "    print(file.readline())\n",
    "    print(file.readline())"
   ]
  },
  {
   "cell_type": "markdown",
   "id": "bdbf0708",
   "metadata": {},
   "source": [
    "# The importance of flat files in data science"
   ]
  },
  {
   "cell_type": "markdown",
   "id": "9d122c81",
   "metadata": {},
   "source": [
    "## Using NumPy to import flat files"
   ]
  },
  {
   "cell_type": "code",
   "execution_count": 8,
   "id": "ead061c3",
   "metadata": {},
   "outputs": [],
   "source": [
    "# Assign filename to variable: file\n",
    "file = 'data/mnist_kaggle_some_rows.csv'\n",
    "\n"
   ]
  },
  {
   "cell_type": "code",
   "execution_count": 13,
   "id": "d8190768",
   "metadata": {},
   "outputs": [
    {
     "name": "stdout",
     "output_type": "stream",
     "text": [
      "<class 'numpy.ndarray'>\n"
     ]
    }
   ],
   "source": [
    "# Load file as array: digits\n",
    "digits = np.loadtxt(file, delimiter=',')\n",
    "\n",
    "# Print datatype of digits\n",
    "print(type(digits))"
   ]
  },
  {
   "cell_type": "code",
   "execution_count": 14,
   "id": "0e1cbe3a",
   "metadata": {
    "scrolled": true
   },
   "outputs": [
    {
     "data": {
      "image/png": "[encoded data removed]",
      "text/plain": [
       "<Figure size 432x288 with 1 Axes>"
      ]
     },
     "metadata": {
      "needs_background": "light"
     },
     "output_type": "display_data"
    }
   ],
   "source": [
    "# Select and reshape a row\n",
    "im = digits[21, 1:]\n",
    "im_sq = np.reshape(im, (28, 28))\n",
    "\n",
    "# Plot reshaped data (matplotlib.pyplot already loaded as plt)\n",
    "plt.imshow(im_sq, cmap='Greys', interpolation='nearest')\n",
    "plt.show()"
   ]
  },
  {
   "cell_type": "markdown",
   "id": "bca71b0e",
   "metadata": {},
   "source": [
    "## Customizing your NumPy import"
   ]
  },
  {
   "cell_type": "code",
   "execution_count": 16,
   "id": "fa65a9b6",
   "metadata": {
    "scrolled": true
   },
   "outputs": [
    {
     "name": "stdout",
     "output_type": "stream",
     "text": [
      "[[9.90e+01 6.70e-02]\n",
      " [9.90e+01 1.33e-01]\n",
      " [9.90e+01 6.70e-02]\n",
      " [9.90e+01 0.00e+00]\n",
      " [9.90e+01 0.00e+00]\n",
      " [0.00e+00 5.00e-01]\n",
      " [0.00e+00 4.67e-01]\n",
      " [0.00e+00 8.57e-01]\n",
      " [0.00e+00 5.00e-01]\n",
      " [0.00e+00 3.57e-01]\n",
      " [0.00e+00 5.33e-01]\n",
      " [5.00e+00 4.67e-01]\n",
      " [5.00e+00 4.67e-01]\n",
      " [5.00e+00 1.25e-01]\n",
      " [5.00e+00 4.00e-01]\n",
      " [5.00e+00 2.14e-01]\n",
      " [5.00e+00 4.00e-01]\n",
      " [1.00e+01 6.70e-02]\n",
      " [1.00e+01 6.70e-02]\n",
      " [1.00e+01 3.33e-01]\n",
      " [1.00e+01 3.33e-01]\n",
      " [1.00e+01 1.33e-01]\n",
      " [1.00e+01 1.33e-01]\n",
      " [1.50e+01 2.67e-01]\n",
      " [1.50e+01 2.86e-01]\n",
      " [1.50e+01 3.33e-01]\n",
      " [1.50e+01 2.14e-01]\n",
      " [1.50e+01 0.00e+00]\n",
      " [1.50e+01 0.00e+00]\n",
      " [2.00e+01 2.67e-01]\n",
      " [2.00e+01 2.00e-01]\n",
      " [2.00e+01 2.67e-01]\n",
      " [2.00e+01 4.37e-01]\n",
      " [2.00e+01 7.70e-02]\n",
      " [2.00e+01 6.70e-02]\n",
      " [2.50e+01 1.33e-01]\n",
      " [2.50e+01 2.67e-01]\n",
      " [2.50e+01 4.12e-01]\n",
      " [2.50e+01 0.00e+00]\n",
      " [2.50e+01 6.70e-02]\n",
      " [2.50e+01 1.33e-01]\n",
      " [3.00e+01 0.00e+00]\n",
      " [3.00e+01 7.10e-02]\n",
      " [3.00e+01 0.00e+00]\n",
      " [3.00e+01 6.70e-02]\n",
      " [3.00e+01 6.70e-02]\n",
      " [3.00e+01 1.33e-01]]\n"
     ]
    }
   ],
   "source": [
    "# Assign the filename: file\n",
    "file = 'data/seaslug.txt'\n",
    "\n",
    "# Load the data: data\n",
    "data = np.loadtxt(file, delimiter='\\t', skiprows=1, usecols=[0,1])\n",
    "\n",
    "# Print data\n",
    "print(data)"
   ]
  },
  {
   "cell_type": "markdown",
   "id": "1c2b9ca7",
   "metadata": {},
   "source": [
    "## Importing different datatypes"
   ]
  },
  {
   "cell_type": "code",
   "execution_count": 18,
   "id": "3984f5e3",
   "metadata": {},
   "outputs": [
    {
     "name": "stdout",
     "output_type": "stream",
     "text": [
      "['Time' 'Percent']\n",
      "[0.    0.357]\n"
     ]
    },
    {
     "data": {
      "image/png": "[encoded data removed]",
      "text/plain": [
       "<Figure size 432x288 with 1 Axes>"
      ]
     },
     "metadata": {
      "needs_background": "light"
     },
     "output_type": "display_data"
    }
   ],
   "source": [
    "# Assign filename: file\n",
    "file = 'data/seaslug.txt'\n",
    "\n",
    "# Import file: data\n",
    "data = np.loadtxt(file, delimiter='\\t', dtype=str)\n",
    "\n",
    "# Print the first element of data\n",
    "print(data[0])\n",
    "\n",
    "# Import data as floats and skip the first row: data_float\n",
    "data_float = np.loadtxt(file, delimiter='\\t', dtype=float, skiprows=1)\n",
    "\n",
    "# Print the 10th element of data_float\n",
    "print(data_float[9])\n",
    "\n",
    "# Plot a scatterplot of the data\n",
    "plt.scatter(data_float[:, 0], data_float[:, 1])\n",
    "plt.xlabel('time (min.)')\n",
    "plt.ylabel('percentage of larvae')\n",
    "plt.show()\n"
   ]
  },
  {
   "cell_type": "markdown",
   "id": "1ef71514",
   "metadata": {},
   "source": [
    "## Working with mixed datatypes (2)"
   ]
  },
  {
   "cell_type": "code",
   "execution_count": 21,
   "id": "e7d52f7e",
   "metadata": {},
   "outputs": [
    {
     "name": "stdout",
     "output_type": "stream",
     "text": [
      "[(1, 0, 3, b'male', 22., 1, 0, b'A/5 21171',  7.25  , b'', b'S')\n",
      " (2, 1, 1, b'female', 38., 1, 0, b'PC 17599', 71.2833, b'C85', b'C')\n",
      " (3, 1, 3, b'female', 26., 0, 0, b'STON/O2. 3101282',  7.925 , b'', b'S')]\n"
     ]
    }
   ],
   "source": [
    "# Assign the filename: file\n",
    "file = 'data/titanic_sub.csv'\n",
    "\n",
    "# Import file using np.recfromcsv: d\n",
    "d = np.recfromcsv(file, delimiter=',', names=True, dtype=None)\n",
    "\n",
    "# Print out first three entries of d\n",
    "print(d[:3])"
   ]
  },
  {
   "cell_type": "markdown",
   "id": "33d90dbd",
   "metadata": {},
   "source": [
    "# Importing flat files using pandas\n"
   ]
  },
  {
   "cell_type": "markdown",
   "id": "3dfb3ab7",
   "metadata": {},
   "source": [
    "## Using pandas to import flat files as DataFrames (1)"
   ]
  },
  {
   "cell_type": "code",
   "execution_count": 24,
   "id": "4d30d76b",
   "metadata": {
    "scrolled": true
   },
   "outputs": [
    {
     "data": {
      "text/html": [
       "<div>\n",
       "<style scoped>\n",
       "    .dataframe tbody tr th:only-of-type {\n",
       "        vertical-align: middle;\n",
       "    }\n",
       "\n",
       "    .dataframe tbody tr th {\n",
       "        vertical-align: top;\n",
       "    }\n",
       "\n",
       "    .dataframe thead th {\n",
       "        text-align: right;\n",
       "    }\n",
       "</style>\n",
       "<table border=\"1\" class=\"dataframe\">\n",
       "  <thead>\n",
       "    <tr style=\"text-align: right;\">\n",
       "      <th></th>\n",
       "      <th>PassengerId</th>\n",
       "      <th>Survived</th>\n",
       "      <th>Pclass</th>\n",
       "      <th>Sex</th>\n",
       "      <th>Age</th>\n",
       "      <th>SibSp</th>\n",
       "      <th>Parch</th>\n",
       "      <th>Ticket</th>\n",
       "      <th>Fare</th>\n",
       "      <th>Cabin</th>\n",
       "      <th>Embarked</th>\n",
       "    </tr>\n",
       "  </thead>\n",
       "  <tbody>\n",
       "    <tr>\n",
       "      <th>0</th>\n",
       "      <td>1</td>\n",
       "      <td>0</td>\n",
       "      <td>3</td>\n",
       "      <td>male</td>\n",
       "      <td>22.0</td>\n",
       "      <td>1</td>\n",
       "      <td>0</td>\n",
       "      <td>A/5 21171</td>\n",
       "      <td>7.2500</td>\n",
       "      <td>NaN</td>\n",
       "      <td>S</td>\n",
       "    </tr>\n",
       "    <tr>\n",
       "      <th>1</th>\n",
       "      <td>2</td>\n",
       "      <td>1</td>\n",
       "      <td>1</td>\n",
       "      <td>female</td>\n",
       "      <td>38.0</td>\n",
       "      <td>1</td>\n",
       "      <td>0</td>\n",
       "      <td>PC 17599</td>\n",
       "      <td>71.2833</td>\n",
       "      <td>C85</td>\n",
       "      <td>C</td>\n",
       "    </tr>\n",
       "    <tr>\n",
       "      <th>2</th>\n",
       "      <td>3</td>\n",
       "      <td>1</td>\n",
       "      <td>3</td>\n",
       "      <td>female</td>\n",
       "      <td>26.0</td>\n",
       "      <td>0</td>\n",
       "      <td>0</td>\n",
       "      <td>STON/O2. 3101282</td>\n",
       "      <td>7.9250</td>\n",
       "      <td>NaN</td>\n",
       "      <td>S</td>\n",
       "    </tr>\n",
       "    <tr>\n",
       "      <th>3</th>\n",
       "      <td>4</td>\n",
       "      <td>1</td>\n",
       "      <td>1</td>\n",
       "      <td>female</td>\n",
       "      <td>35.0</td>\n",
       "      <td>1</td>\n",
       "      <td>0</td>\n",
       "      <td>113803</td>\n",
       "      <td>53.1000</td>\n",
       "      <td>C123</td>\n",
       "      <td>S</td>\n",
       "    </tr>\n",
       "    <tr>\n",
       "      <th>4</th>\n",
       "      <td>5</td>\n",
       "      <td>0</td>\n",
       "      <td>3</td>\n",
       "      <td>male</td>\n",
       "      <td>35.0</td>\n",
       "      <td>0</td>\n",
       "      <td>0</td>\n",
       "      <td>373450</td>\n",
       "      <td>8.0500</td>\n",
       "      <td>NaN</td>\n",
       "      <td>S</td>\n",
       "    </tr>\n",
       "  </tbody>\n",
       "</table>\n",
       "</div>"
      ],
      "text/plain": [
       "   PassengerId  Survived  Pclass     Sex   Age  SibSp  Parch  \\\n",
       "0            1         0       3    male  22.0      1      0   \n",
       "1            2         1       1  female  38.0      1      0   \n",
       "2            3         1       3  female  26.0      0      0   \n",
       "3            4         1       1  female  35.0      1      0   \n",
       "4            5         0       3    male  35.0      0      0   \n",
       "\n",
       "             Ticket     Fare Cabin Embarked  \n",
       "0         A/5 21171   7.2500   NaN        S  \n",
       "1          PC 17599  71.2833   C85        C  \n",
       "2  STON/O2. 3101282   7.9250   NaN        S  \n",
       "3            113803  53.1000  C123        S  \n",
       "4            373450   8.0500   NaN        S  "
      ]
     },
     "execution_count": 24,
     "metadata": {},
     "output_type": "execute_result"
    }
   ],
   "source": [
    "# Assign the filename: file\n",
    "file = 'data/titanic_sub.csv'\n",
    "\n",
    "# Read the file into a DataFrame: df\n",
    "df = pd.read_csv(file)\n",
    "\n",
    "# View the head of the DataFrame\n",
    "df.head()"
   ]
  },
  {
   "cell_type": "markdown",
   "id": "fa056397",
   "metadata": {},
   "source": [
    "## Using pandas to import flat files as DataFrames (2)"
   ]
  },
  {
   "cell_type": "code",
   "execution_count": 28,
   "id": "bb4c7805",
   "metadata": {},
   "outputs": [
    {
     "name": "stdout",
     "output_type": "stream",
     "text": [
      "<class 'numpy.ndarray'>\n"
     ]
    }
   ],
   "source": [
    "# Assign the filename: file\n",
    "file = 'data/mnist_kaggle_some_rows.csv'\n",
    "\n",
    "# Read the first 5 rows of the file into a DataFrame: data\n",
    "data = pd.read_csv(file, nrows=5, header=None)\n",
    "\n",
    "# Build a numpy array from the DataFrame: data_array\n",
    "data_array = np.array(data)\n",
    "\n",
    "# Print the datatype of data_array to the shell\n",
    "print(type(data_array))"
   ]
  },
  {
   "cell_type": "markdown",
   "id": "bb881242",
   "metadata": {},
   "source": [
    "## Customizing your pandas import"
   ]
  },
  {
   "cell_type": "code",
   "execution_count": 32,
   "id": "0ed66e88",
   "metadata": {
    "scrolled": true
   },
   "outputs": [],
   "source": [
    "# # Assign filename: file\n",
    "# file = 'data/titanic_corrupt.txt'\n",
    "\n",
    "# # Import file: data\n",
    "# data = pd.read_csv(file, sep='\\t', comment='#', na_values='Nothing')\n",
    "\n",
    "\n",
    "# # Plot 'Age' variable in a histogram\n",
    "# pd.DataFrame.hist(data[['Age']])\n",
    "# plt.xlabel('Age (years)')\n",
    "# plt.ylabel('count')\n",
    "# plt.show()\n"
   ]
  },
  {
   "cell_type": "markdown",
   "id": "435ad519",
   "metadata": {},
   "source": [
    "# Final thoughts on data import"
   ]
  },
  {
   "cell_type": "code",
   "execution_count": null,
   "id": "44ad4a93",
   "metadata": {},
   "outputs": [],
   "source": []
  }
 ],
 "metadata": {
  "kernelspec": {
   "display_name": "Python 3 (ipykernel)",
   "language": "python",
   "name": "python3"
  },
  "language_info": {
   "codemirror_mode": {
    "name": "ipython",
    "version": 3
   },
   "file_extension": ".py",
   "mimetype": "text/x-python",
   "name": "python",
   "nbconvert_exporter": "python",
   "pygments_lexer": "ipython3",
   "version": "3.9.5"
  }
 },
 "nbformat": 4,
 "nbformat_minor": 5
}
