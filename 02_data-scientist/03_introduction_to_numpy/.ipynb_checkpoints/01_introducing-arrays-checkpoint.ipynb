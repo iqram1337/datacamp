{
 "cells": [
  {
   "cell_type": "code",
   "execution_count": 1,
   "id": "0deea36c",
   "metadata": {},
   "outputs": [],
   "source": [
    "import numpy as np\n",
    "import pandas as pd\n",
    "import matplotlib.pyplot as plt\n",
    "\n",
    "plt.style.use(\"ggplot\")"
   ]
  },
  {
   "cell_type": "code",
   "execution_count": 2,
   "id": "88269c66",
   "metadata": {},
   "outputs": [],
   "source": [
    "sudoku_list = np.load('data/sudoku_game.npy')"
   ]
  },
  {
   "cell_type": "code",
   "execution_count": 3,
   "id": "27de1cdb",
   "metadata": {},
   "outputs": [
    {
     "data": {
      "text/plain": [
       "array([[0, 0, 5, 0, 0, 9, 0, 0, 1],\n",
       "       [0, 7, 0, 0, 6, 0, 0, 4, 3],\n",
       "       [0, 0, 6, 0, 0, 2, 0, 8, 7],\n",
       "       [1, 9, 0, 0, 0, 7, 4, 0, 0],\n",
       "       [0, 5, 0, 0, 8, 3, 0, 0, 0],\n",
       "       [6, 0, 0, 0, 0, 0, 1, 0, 5],\n",
       "       [0, 0, 3, 5, 0, 8, 6, 9, 0],\n",
       "       [0, 4, 2, 9, 1, 0, 3, 0, 0]], dtype=int64)"
      ]
     },
     "execution_count": 3,
     "metadata": {},
     "output_type": "execute_result"
    }
   ],
   "source": [
    "sudoku_list"
   ]
  },
  {
   "cell_type": "code",
   "execution_count": 4,
   "id": "025f128d",
   "metadata": {},
   "outputs": [
    {
     "name": "stdout",
     "output_type": "stream",
     "text": [
      "<class 'numpy.ndarray'>\n"
     ]
    }
   ],
   "source": [
    "print(type(sudoku_list))"
   ]
  },
  {
   "cell_type": "code",
   "execution_count": 5,
   "id": "13bbd9f9",
   "metadata": {},
   "outputs": [
    {
     "name": "stdout",
     "output_type": "stream",
     "text": [
      "<class 'numpy.ndarray'>\n"
     ]
    }
   ],
   "source": [
    "# Convert sudoku_list into an array\n",
    "sudoku_array = np.array(sudoku_list)\n",
    "\n",
    "# Print the type of sudoku_array \n",
    "print(type(sudoku_array))"
   ]
  },
  {
   "cell_type": "markdown",
   "id": "1c0a6555",
   "metadata": {},
   "source": [
    "## Creating arrays from scratch"
   ]
  },
  {
   "cell_type": "code",
   "execution_count": 6,
   "id": "73c6cf08",
   "metadata": {},
   "outputs": [
    {
     "name": "stdout",
     "output_type": "stream",
     "text": [
      "[[0. 0. 0. 0.]\n",
      " [0. 0. 0. 0.]]\n"
     ]
    }
   ],
   "source": [
    "# Create an array of zeros which has four columns and two rows\n",
    "zero_array = np.zeros((2,4))\n",
    "print(zero_array)"
   ]
  },
  {
   "cell_type": "code",
   "execution_count": 7,
   "id": "81f2694d",
   "metadata": {},
   "outputs": [
    {
     "name": "stdout",
     "output_type": "stream",
     "text": [
      "[[0.59040289 0.64633041 0.80721588 0.55207383 0.30167062 0.51575614]\n",
      " [0.28813531 0.70197422 0.30138321 0.70018167 0.12775487 0.56587824]\n",
      " [0.25994468 0.77180426 0.16694269 0.42358863 0.0122888  0.51936321]]\n"
     ]
    }
   ],
   "source": [
    "# Create an array of random floats which has six columns and three rows\n",
    "random_array = np.random.random((3, 6))\n",
    "print(random_array)"
   ]
  },
  {
   "cell_type": "markdown",
   "id": "cb374143",
   "metadata": {},
   "source": [
    "## A range array\n"
   ]
  },
  {
   "cell_type": "code",
   "execution_count": 8,
   "id": "99ed1226",
   "metadata": {},
   "outputs": [],
   "source": [
    "doubling_array = [1, 2, 4, 8, 16, 32, 64, 128, 256, 512]"
   ]
  },
  {
   "cell_type": "code",
   "execution_count": 9,
   "id": "9f904e4a",
   "metadata": {
    "scrolled": true
   },
   "outputs": [
    {
     "data": {
      "image/png": "[encoded data removed]",
      "text/plain": [
       "<Figure size 432x288 with 1 Axes>"
      ]
     },
     "metadata": {},
     "output_type": "display_data"
    }
   ],
   "source": [
    "# Create an array of integers from one to ten\n",
    "one_to_ten = np.arange(1,11)\n",
    "\n",
    "# Create your scatterplot\n",
    "plt.scatter(one_to_ten, doubling_array)\n",
    "plt.show()"
   ]
  },
  {
   "cell_type": "markdown",
   "id": "d8c5d04c",
   "metadata": {},
   "source": [
    "# Array dimensionality"
   ]
  },
  {
   "cell_type": "markdown",
   "id": "f5316ddf",
   "metadata": {},
   "source": [
    "## 3D array creation"
   ]
  },
  {
   "cell_type": "code",
   "execution_count": 10,
   "id": "8c8d4d32",
   "metadata": {},
   "outputs": [],
   "source": [
    "sudoku_solution = np.load('data/sudoku_solution.npy')"
   ]
  },
  {
   "cell_type": "code",
   "execution_count": 11,
   "id": "2770a123",
   "metadata": {},
   "outputs": [
    {
     "data": {
      "text/plain": [
       "array([[3, 2, 5, 8, 4, 9, 7, 6, 1],\n",
       "       [9, 7, 1, 2, 6, 5, 8, 4, 3],\n",
       "       [4, 3, 6, 1, 9, 2, 5, 8, 7],\n",
       "       [1, 9, 8, 6, 5, 7, 4, 3, 2],\n",
       "       [2, 5, 7, 4, 8, 3, 9, 1, 6],\n",
       "       [6, 8, 9, 7, 3, 4, 1, 2, 5],\n",
       "       [7, 1, 3, 5, 2, 8, 6, 9, 4],\n",
       "       [5, 4, 2, 9, 1, 6, 3, 7, 8]], dtype=int64)"
      ]
     },
     "execution_count": 11,
     "metadata": {},
     "output_type": "execute_result"
    }
   ],
   "source": [
    "sudoku_solution"
   ]
  },
  {
   "cell_type": "code",
   "execution_count": 15,
   "id": "d69542bc",
   "metadata": {
    "scrolled": false
   },
   "outputs": [
    {
     "name": "stdout",
     "output_type": "stream",
     "text": [
      "[[[0 0 5 0 0 9 0 0 1]\n",
      "  [0 7 0 0 6 0 0 4 3]\n",
      "  [0 0 6 0 0 2 0 8 7]\n",
      "  [1 9 0 0 0 7 4 0 0]\n",
      "  [0 5 0 0 8 3 0 0 0]\n",
      "  [6 0 0 0 0 0 1 0 5]\n",
      "  [0 0 3 5 0 8 6 9 0]\n",
      "  [0 4 2 9 1 0 3 0 0]]\n",
      "\n",
      " [[3 2 5 8 4 9 7 6 1]\n",
      "  [9 7 1 2 6 5 8 4 3]\n",
      "  [4 3 6 1 9 2 5 8 7]\n",
      "  [1 9 8 6 5 7 4 3 2]\n",
      "  [2 5 7 4 8 3 9 1 6]\n",
      "  [6 8 9 7 3 4 1 2 5]\n",
      "  [7 1 3 5 2 8 6 9 4]\n",
      "  [5 4 2 9 1 6 3 7 8]]]\n"
     ]
    }
   ],
   "source": [
    "# Create the game_and_solution 3D array\n",
    "game_and_solution = np.array([sudoku_list, sudoku_solution])\n",
    "\n",
    "# Print game_and_solution\n",
    "print(game_and_solution) "
   ]
  },
  {
   "cell_type": "markdown",
   "id": "9bc251bf",
   "metadata": {},
   "source": [
    "## The fourth dimension"
   ]
  },
  {
   "cell_type": "code",
   "execution_count": 17,
   "id": "a457e0f0",
   "metadata": {},
   "outputs": [],
   "source": [
    "new_sudoku_game = np.array([[0, 0, 4, 3, 0, 0, 0, 0, 0],\n",
    "       [8, 9, 0, 2, 0, 0, 6, 7, 0],\n",
    "       [7, 0, 0, 9, 0, 0, 0, 5, 0],\n",
    "       [5, 0, 0, 0, 0, 8, 1, 4, 0],\n",
    "       [0, 7, 0, 0, 3, 2, 0, 6, 0],\n",
    "       [6, 0, 0, 0, 0, 1, 3, 0, 8],\n",
    "       [0, 0, 1, 7, 5, 0, 9, 0, 0],\n",
    "       [0, 0, 5, 0, 4, 0, 0, 1, 2],\n",
    "       [9, 8, 0, 0, 0, 6, 0, 0, 5]])\n",
    "\n",
    "new_sudoku_solution = np.array([[2, 5, 4, 3, 6, 7, 8, 9, 1],\n",
    "       [8, 9, 3, 2, 1, 5, 6, 7, 4],\n",
    "       [7, 1, 6, 9, 8, 4, 2, 5, 3],\n",
    "       [5, 3, 2, 6, 9, 8, 1, 4, 7],\n",
    "       [1, 7, 8, 4, 3, 2, 5, 6, 9],\n",
    "       [6, 4, 9, 5, 7, 1, 3, 2, 8],\n",
    "       [4, 2, 1, 7, 5, 3, 9, 8, 6],\n",
    "       [3, 6, 5, 8, 4, 9, 7, 1, 2],\n",
    "       [9, 8, 7, 1, 2, 6, 4, 3, 5]])\n",
    "       \n",
    "game_and_solution = np.array([[[0, 0, 4, 3, 0, 0, 2, 0, 9],\n",
    "        [0, 0, 5, 0, 0, 9, 0, 0, 1],\n",
    "        [0, 7, 0, 0, 6, 0, 0, 4, 3],\n",
    "        [0, 0, 6, 0, 0, 2, 0, 8, 7],\n",
    "        [1, 9, 0, 0, 0, 7, 4, 0, 0],\n",
    "        [0, 5, 0, 0, 8, 3, 0, 0, 0],\n",
    "        [6, 0, 0, 0, 0, 0, 1, 0, 5],\n",
    "        [0, 0, 3, 5, 0, 8, 6, 9, 0],\n",
    "        [0, 4, 2, 9, 1, 0, 3, 0, 0]],\n",
    "\n",
    "       [[8, 6, 4, 3, 7, 1, 2, 5, 9],\n",
    "        [3, 2, 5, 8, 4, 9, 7, 6, 1],\n",
    "        [9, 7, 1, 2, 6, 5, 8, 4, 3],\n",
    "        [4, 3, 6, 1, 9, 2, 5, 8, 7],\n",
    "        [1, 9, 8, 6, 5, 7, 4, 3, 2],\n",
    "        [2, 5, 7, 4, 8, 3, 9, 1, 6],\n",
    "        [6, 8, 9, 7, 3, 4, 1, 2, 5],\n",
    "        [7, 1, 3, 5, 2, 8, 6, 9, 4],\n",
    "        [5, 4, 2, 9, 1, 6, 3, 7, 8]]])"
   ]
  },
  {
   "cell_type": "code",
   "execution_count": 18,
   "id": "aa9caa0d",
   "metadata": {},
   "outputs": [
    {
     "name": "stdout",
     "output_type": "stream",
     "text": [
      "(2, 2, 9, 9)\n"
     ]
    }
   ],
   "source": [
    "# Create a second 3D array of another game and its solution \n",
    "new_game_and_solution = np.array([new_sudoku_game, new_sudoku_solution])\n",
    "\n",
    "# Create a 4D array of both game and solution 3D arrays\n",
    "games_and_solutions = np.array([game_and_solution, new_game_and_solution])\n",
    "\n",
    "# Print the shape of your 4D array\n",
    "print(games_and_solutions.shape)"
   ]
  },
  {
   "cell_type": "markdown",
   "id": "e335763b",
   "metadata": {},
   "source": [
    "## Flattening and reshaping"
   ]
  },
  {
   "cell_type": "code",
   "execution_count": 26,
   "id": "356715b0",
   "metadata": {},
   "outputs": [],
   "source": [
    "sudoku_game = np.array([[0, 0, 4, 3, 0, 0, 2, 0, 9],\n",
    "       [0, 0, 5, 0, 0, 9, 0, 0, 1],\n",
    "       [0, 7, 0, 0, 6, 0, 0, 4, 3],\n",
    "       [0, 0, 6, 0, 0, 2, 0, 8, 7],\n",
    "       [1, 9, 0, 0, 0, 7, 4, 0, 0],\n",
    "       [0, 5, 0, 0, 8, 3, 0, 0, 0],\n",
    "       [6, 0, 0, 0, 0, 0, 1, 0, 5],\n",
    "       [0, 0, 3, 5, 0, 8, 6, 9, 0],\n",
    "       [0, 4, 2, 9, 1, 0, 3, 0, 0]])"
   ]
  },
  {
   "cell_type": "code",
   "execution_count": 27,
   "id": "2487c466",
   "metadata": {},
   "outputs": [
    {
     "data": {
      "text/plain": [
       "array([[0, 0, 4, 3, 0, 0, 2, 0, 9],\n",
       "       [0, 0, 5, 0, 0, 9, 0, 0, 1],\n",
       "       [0, 7, 0, 0, 6, 0, 0, 4, 3],\n",
       "       [0, 0, 6, 0, 0, 2, 0, 8, 7],\n",
       "       [1, 9, 0, 0, 0, 7, 4, 0, 0],\n",
       "       [0, 5, 0, 0, 8, 3, 0, 0, 0],\n",
       "       [6, 0, 0, 0, 0, 0, 1, 0, 5],\n",
       "       [0, 0, 3, 5, 0, 8, 6, 9, 0],\n",
       "       [0, 4, 2, 9, 1, 0, 3, 0, 0]])"
      ]
     },
     "execution_count": 27,
     "metadata": {},
     "output_type": "execute_result"
    }
   ],
   "source": [
    "sudoku_game"
   ]
  },
  {
   "cell_type": "code",
   "execution_count": 28,
   "id": "6c462a6a",
   "metadata": {},
   "outputs": [
    {
     "name": "stdout",
     "output_type": "stream",
     "text": [
      "(81,)\n"
     ]
    }
   ],
   "source": [
    "# Flatten sudoku_game\n",
    "flattened_game = sudoku_game.flatten()\n",
    "\n",
    "# Print the shape of flattened_game\n",
    "print(flattened_game.shape)"
   ]
  },
  {
   "cell_type": "code",
   "execution_count": 29,
   "id": "58eeb7fa",
   "metadata": {},
   "outputs": [
    {
     "name": "stdout",
     "output_type": "stream",
     "text": [
      "[0 0 4 3 0 0 2 0 9 0 0 5 0 0 9 0 0 1 0 7 0 0 6 0 0 4 3 0 0 6 0 0 2 0 8 7 1\n",
      " 9 0 0 0 7 4 0 0 0 5 0 0 8 3 0 0 0 6 0 0 0 0 0 1 0 5 0 0 3 5 0 8 6 9 0 0 4\n",
      " 2 9 1 0 3 0 0]\n"
     ]
    }
   ],
   "source": [
    "print(flattened_game)"
   ]
  },
  {
   "cell_type": "code",
   "execution_count": 30,
   "id": "22ffc20a",
   "metadata": {},
   "outputs": [
    {
     "name": "stdout",
     "output_type": "stream",
     "text": [
      "[[0 0 4 3 0 0 2 0 9]\n",
      " [0 0 5 0 0 9 0 0 1]\n",
      " [0 7 0 0 6 0 0 4 3]\n",
      " [0 0 6 0 0 2 0 8 7]\n",
      " [1 9 0 0 0 7 4 0 0]\n",
      " [0 5 0 0 8 3 0 0 0]\n",
      " [6 0 0 0 0 0 1 0 5]\n",
      " [0 0 3 5 0 8 6 9 0]\n",
      " [0 4 2 9 1 0 3 0 0]]\n",
      "[[0 0 4 3 0 0 2 0 9]\n",
      " [0 0 5 0 0 9 0 0 1]\n",
      " [0 7 0 0 6 0 0 4 3]\n",
      " [0 0 6 0 0 2 0 8 7]\n",
      " [1 9 0 0 0 7 4 0 0]\n",
      " [0 5 0 0 8 3 0 0 0]\n",
      " [6 0 0 0 0 0 1 0 5]\n",
      " [0 0 3 5 0 8 6 9 0]\n",
      " [0 4 2 9 1 0 3 0 0]]\n"
     ]
    }
   ],
   "source": [
    "# Reshape flattened_game back to a nine by nine array\n",
    "reshaped_game = flattened_game.reshape(9,9)\n",
    "\n",
    "# Print sudoku_game and reshaped_game\n",
    "print(sudoku_game)\n",
    "print(reshaped_game)"
   ]
  },
  {
   "cell_type": "markdown",
   "id": "aa0721f0",
   "metadata": {},
   "source": [
    "# NumPy data types"
   ]
  },
  {
   "cell_type": "markdown",
   "id": "607fd958",
   "metadata": {},
   "source": [
    "## The dtype argument"
   ]
  },
  {
   "cell_type": "code",
   "execution_count": 31,
   "id": "19b34900",
   "metadata": {},
   "outputs": [
    {
     "name": "stdout",
     "output_type": "stream",
     "text": [
      "float64\n"
     ]
    }
   ],
   "source": [
    "# Create an array of zeros with three rows and two columns\n",
    "zero_array = np.zeros((3,2))\n",
    "\n",
    "# Print the data type of zero_array\n",
    "print(zero_array.dtype)"
   ]
  },
  {
   "cell_type": "code",
   "execution_count": 32,
   "id": "b1f61a6b",
   "metadata": {},
   "outputs": [
    {
     "name": "stdout",
     "output_type": "stream",
     "text": [
      "int32\n"
     ]
    }
   ],
   "source": [
    "# Create a new array of int32 zeros with three rows and two columns\n",
    "zero_int_array = np.zeros((3, 2), dtype=np.int32)\n",
    "\n",
    "# Print the data type of zero_int_array\n",
    "print(zero_int_array.dtype)"
   ]
  },
  {
   "cell_type": "markdown",
   "id": "22c5bc3b",
   "metadata": {},
   "source": [
    "## A smaller sudoku game"
   ]
  },
  {
   "cell_type": "code",
   "execution_count": 33,
   "id": "ec4c7667",
   "metadata": {},
   "outputs": [
    {
     "name": "stdout",
     "output_type": "stream",
     "text": [
      "int32\n"
     ]
    }
   ],
   "source": [
    "# Print the data type of sudoku_game\n",
    "print(sudoku_game.dtype)"
   ]
  },
  {
   "cell_type": "code",
   "execution_count": 34,
   "id": "ab7ec310",
   "metadata": {},
   "outputs": [
    {
     "name": "stdout",
     "output_type": "stream",
     "text": [
      "int8\n"
     ]
    }
   ],
   "source": [
    "# Change the data type of sudoku_game to int8\n",
    "small_sudoku_game = sudoku_game.astype(np.int8)\n",
    "\n",
    "# Print the data type of small_sudoku_game\n",
    "print(small_sudoku_game.dtype)"
   ]
  },
  {
   "cell_type": "code",
   "execution_count": null,
   "id": "67e3fcf3",
   "metadata": {},
   "outputs": [],
   "source": []
  }
 ],
 "metadata": {
  "kernelspec": {
   "display_name": "Python 3 (ipykernel)",
   "language": "python",
   "name": "python3"
  },
  "language_info": {
   "codemirror_mode": {
    "name": "ipython",
    "version": 3
   },
   "file_extension": ".py",
   "mimetype": "text/x-python",
   "name": "python",
   "nbconvert_exporter": "python",
   "pygments_lexer": "ipython3",
   "version": "3.9.5"
  }
 },
 "nbformat": 4,
 "nbformat_minor": 5
}
