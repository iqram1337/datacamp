{
 "cells": [
  {
   "cell_type": "markdown",
   "id": "83e919e4",
   "metadata": {},
   "source": [
    "# Bar Chart"
   ]
  },
  {
   "cell_type": "code",
   "execution_count": 1,
   "id": "99e1705f",
   "metadata": {},
   "outputs": [],
   "source": [
    "import pandas as pd\n",
    "import matplotlib.pyplot as plt\n",
    "import numpy as np"
   ]
  },
  {
   "cell_type": "code",
   "execution_count": 2,
   "id": "13c7e9f4",
   "metadata": {},
   "outputs": [],
   "source": [
    "medals = pd.read_csv(\"data/medals_by_country_2016.csv\", index_col=0)"
   ]
  },
  {
   "cell_type": "code",
   "execution_count": 3,
   "id": "81ae8ad5",
   "metadata": {},
   "outputs": [
    {
     "data": {
      "text/html": [
       "<div>\n",
       "<style scoped>\n",
       "    .dataframe tbody tr th:only-of-type {\n",
       "        vertical-align: middle;\n",
       "    }\n",
       "\n",
       "    .dataframe tbody tr th {\n",
       "        vertical-align: top;\n",
       "    }\n",
       "\n",
       "    .dataframe thead th {\n",
       "        text-align: right;\n",
       "    }\n",
       "</style>\n",
       "<table border=\"1\" class=\"dataframe\">\n",
       "  <thead>\n",
       "    <tr style=\"text-align: right;\">\n",
       "      <th></th>\n",
       "      <th>Bronze</th>\n",
       "      <th>Gold</th>\n",
       "      <th>Silver</th>\n",
       "    </tr>\n",
       "  </thead>\n",
       "  <tbody>\n",
       "    <tr>\n",
       "      <th>United States</th>\n",
       "      <td>67</td>\n",
       "      <td>137</td>\n",
       "      <td>52</td>\n",
       "    </tr>\n",
       "    <tr>\n",
       "      <th>Germany</th>\n",
       "      <td>67</td>\n",
       "      <td>47</td>\n",
       "      <td>43</td>\n",
       "    </tr>\n",
       "    <tr>\n",
       "      <th>Great Britain</th>\n",
       "      <td>26</td>\n",
       "      <td>64</td>\n",
       "      <td>55</td>\n",
       "    </tr>\n",
       "    <tr>\n",
       "      <th>Russia</th>\n",
       "      <td>35</td>\n",
       "      <td>50</td>\n",
       "      <td>28</td>\n",
       "    </tr>\n",
       "    <tr>\n",
       "      <th>China</th>\n",
       "      <td>35</td>\n",
       "      <td>44</td>\n",
       "      <td>30</td>\n",
       "    </tr>\n",
       "  </tbody>\n",
       "</table>\n",
       "</div>"
      ],
      "text/plain": [
       "               Bronze  Gold  Silver\n",
       "United States      67   137      52\n",
       "Germany            67    47      43\n",
       "Great Britain      26    64      55\n",
       "Russia             35    50      28\n",
       "China              35    44      30"
      ]
     },
     "execution_count": 3,
     "metadata": {},
     "output_type": "execute_result"
    }
   ],
   "source": [
    "medals.head()"
   ]
  },
  {
   "cell_type": "code",
   "execution_count": 4,
   "id": "0603676e",
   "metadata": {},
   "outputs": [
    {
     "name": "stderr",
     "output_type": "stream",
     "text": [
      "C:\\Users\\acer\\AppData\\Local\\Temp\\ipykernel_10900\\4128212992.py:7: UserWarning: FixedFormatter should only be used together with FixedLocator\n",
      "  ax.set_xticklabels(labels = medals.index, rotation = 90)\n"
     ]
    },
    {
     "data": {
      "image/png": "[encoded data removed]",
      "text/plain": [
       "<Figure size 432x288 with 1 Axes>"
      ]
     },
     "metadata": {
      "needs_background": "light"
     },
     "output_type": "display_data"
    }
   ],
   "source": [
    "fig, ax = plt.subplots()\n",
    "\n",
    "# Plot a bar-chart of gold medals as a function of country\n",
    "ax.bar(medals.index, medals[\"Gold\"])\n",
    "\n",
    "# Set the x-axis tick labels to the country names\n",
    "ax.set_xticklabels(labels = medals.index, rotation = 90)\n",
    "\n",
    "# Set the y-axis label\n",
    "ax.set_ylabel(\"Number of medals\")\n",
    "\n",
    "plt.show()"
   ]
  },
  {
   "cell_type": "markdown",
   "id": "0cd05852",
   "metadata": {},
   "source": [
    "## Stacked bar chart"
   ]
  },
  {
   "cell_type": "code",
   "execution_count": 5,
   "id": "ced12d89",
   "metadata": {},
   "outputs": [
    {
     "data": {
      "text/html": [
       "<div>\n",
       "<style scoped>\n",
       "    .dataframe tbody tr th:only-of-type {\n",
       "        vertical-align: middle;\n",
       "    }\n",
       "\n",
       "    .dataframe tbody tr th {\n",
       "        vertical-align: top;\n",
       "    }\n",
       "\n",
       "    .dataframe thead th {\n",
       "        text-align: right;\n",
       "    }\n",
       "</style>\n",
       "<table border=\"1\" class=\"dataframe\">\n",
       "  <thead>\n",
       "    <tr style=\"text-align: right;\">\n",
       "      <th></th>\n",
       "      <th>Bronze</th>\n",
       "      <th>Gold</th>\n",
       "      <th>Silver</th>\n",
       "    </tr>\n",
       "  </thead>\n",
       "  <tbody>\n",
       "    <tr>\n",
       "      <th>United States</th>\n",
       "      <td>67</td>\n",
       "      <td>137</td>\n",
       "      <td>52</td>\n",
       "    </tr>\n",
       "    <tr>\n",
       "      <th>Germany</th>\n",
       "      <td>67</td>\n",
       "      <td>47</td>\n",
       "      <td>43</td>\n",
       "    </tr>\n",
       "    <tr>\n",
       "      <th>Great Britain</th>\n",
       "      <td>26</td>\n",
       "      <td>64</td>\n",
       "      <td>55</td>\n",
       "    </tr>\n",
       "  </tbody>\n",
       "</table>\n",
       "</div>"
      ],
      "text/plain": [
       "               Bronze  Gold  Silver\n",
       "United States      67   137      52\n",
       "Germany            67    47      43\n",
       "Great Britain      26    64      55"
      ]
     },
     "execution_count": 5,
     "metadata": {},
     "output_type": "execute_result"
    }
   ],
   "source": [
    "medals.head(3)"
   ]
  },
  {
   "cell_type": "code",
   "execution_count": 9,
   "id": "94dc1492",
   "metadata": {},
   "outputs": [
    {
     "name": "stderr",
     "output_type": "stream",
     "text": [
      "C:\\Users\\acer\\AppData\\Local\\Temp\\ipykernel_10900\\313155898.py:15: UserWarning: FixedFormatter should only be used together with FixedLocator\n",
      "  ax.set_xticklabels(medals.index, rotation=90)\n"
     ]
    },
    {
     "data": {
      "image/png": "[encoded data removed]",
      "text/plain": [
       "<Figure size 432x288 with 1 Axes>"
      ]
     },
     "metadata": {
      "needs_background": "light"
     },
     "output_type": "display_data"
    }
   ],
   "source": [
    "fig, ax = plt.subplots()\n",
    "\n",
    "# Add bars for \"Gold\" with the label \"Gold\"\n",
    "ax.bar(medals.index, medals[\"Gold\"], label=\"Gold\")\n",
    "\n",
    "# Stack bars for \"Silver\" on top with label \"Silver\"\n",
    "ax.bar(medals.index, medals[\"Silver\"], label=\"Silver\", bottom=medals[\"Gold\"])\n",
    "\n",
    "# Stack bars for \"Bronze\" on top of that with label \"Bronze\"\n",
    "ax.bar(medals.index, medals[\"Bronze\"], label=\"Bronze\", bottom=medals[\"Gold\"]+medals[\"Silver\"])\n",
    "\n",
    "# Display the legend\n",
    "ax.legend()\n",
    "\n",
    "ax.set_xticklabels(medals.index, rotation=90)\n",
    "plt.show()"
   ]
  },
  {
   "cell_type": "markdown",
   "id": "bda177c8",
   "metadata": {},
   "source": [
    "# Histograms"
   ]
  },
  {
   "cell_type": "code",
   "execution_count": 16,
   "id": "ed02f9b8",
   "metadata": {},
   "outputs": [],
   "source": [
    "summer_2016_medals = pd.read_csv(\"data/summer2016.csv\", index_col=0)"
   ]
  },
  {
   "cell_type": "code",
   "execution_count": 17,
   "id": "80e28f5b",
   "metadata": {},
   "outputs": [],
   "source": [
    "mens_rowing = summer_2016_medals[(summer_2016_medals['Sport'] == 'Rowing') & (summer_2016_medals['Sex'] == 'M')]\n",
    "mens_gymnastics = summer_2016_medals[(summer_2016_medals['Sport'] == 'Gymnastics') & (summer_2016_medals['Sex'] == 'M')]"
   ]
  },
  {
   "cell_type": "code",
   "execution_count": 19,
   "id": "1a2845fe",
   "metadata": {},
   "outputs": [
    {
     "data": {
      "text/html": [
       "<div>\n",
       "<style scoped>\n",
       "    .dataframe tbody tr th:only-of-type {\n",
       "        vertical-align: middle;\n",
       "    }\n",
       "\n",
       "    .dataframe tbody tr th {\n",
       "        vertical-align: top;\n",
       "    }\n",
       "\n",
       "    .dataframe thead th {\n",
       "        text-align: right;\n",
       "    }\n",
       "</style>\n",
       "<table border=\"1\" class=\"dataframe\">\n",
       "  <thead>\n",
       "    <tr style=\"text-align: right;\">\n",
       "      <th></th>\n",
       "      <th>ID</th>\n",
       "      <th>Name</th>\n",
       "      <th>Sex</th>\n",
       "      <th>Age</th>\n",
       "      <th>Height</th>\n",
       "      <th>Weight</th>\n",
       "      <th>Team</th>\n",
       "      <th>NOC</th>\n",
       "      <th>Games</th>\n",
       "      <th>Year</th>\n",
       "      <th>Season</th>\n",
       "      <th>City</th>\n",
       "      <th>Sport</th>\n",
       "      <th>Event</th>\n",
       "      <th>Medal</th>\n",
       "    </tr>\n",
       "  </thead>\n",
       "  <tbody>\n",
       "    <tr>\n",
       "      <th>158</th>\n",
       "      <td>62</td>\n",
       "      <td>Giovanni Abagnale</td>\n",
       "      <td>M</td>\n",
       "      <td>21.0</td>\n",
       "      <td>198.0</td>\n",
       "      <td>90.0</td>\n",
       "      <td>Italy</td>\n",
       "      <td>ITA</td>\n",
       "      <td>2016 Summer</td>\n",
       "      <td>2016</td>\n",
       "      <td>Summer</td>\n",
       "      <td>Rio de Janeiro</td>\n",
       "      <td>Rowing</td>\n",
       "      <td>Rowing Men's Coxless Pairs</td>\n",
       "      <td>Bronze</td>\n",
       "    </tr>\n",
       "    <tr>\n",
       "      <th>11648</th>\n",
       "      <td>6346</td>\n",
       "      <td>Jrmie Azou</td>\n",
       "      <td>M</td>\n",
       "      <td>27.0</td>\n",
       "      <td>178.0</td>\n",
       "      <td>71.0</td>\n",
       "      <td>France</td>\n",
       "      <td>FRA</td>\n",
       "      <td>2016 Summer</td>\n",
       "      <td>2016</td>\n",
       "      <td>Summer</td>\n",
       "      <td>Rio de Janeiro</td>\n",
       "      <td>Rowing</td>\n",
       "      <td>Rowing Men's Lightweight Double Sculls</td>\n",
       "      <td>Gold</td>\n",
       "    </tr>\n",
       "    <tr>\n",
       "      <th>14871</th>\n",
       "      <td>8025</td>\n",
       "      <td>Thomas Gabriel Jrmie Baroukh</td>\n",
       "      <td>M</td>\n",
       "      <td>28.0</td>\n",
       "      <td>183.0</td>\n",
       "      <td>70.0</td>\n",
       "      <td>France</td>\n",
       "      <td>FRA</td>\n",
       "      <td>2016 Summer</td>\n",
       "      <td>2016</td>\n",
       "      <td>Summer</td>\n",
       "      <td>Rio de Janeiro</td>\n",
       "      <td>Rowing</td>\n",
       "      <td>Rowing Men's Lightweight Coxless Fours</td>\n",
       "      <td>Bronze</td>\n",
       "    </tr>\n",
       "  </tbody>\n",
       "</table>\n",
       "</div>"
      ],
      "text/plain": [
       "         ID                          Name Sex   Age  Height  Weight    Team  \\\n",
       "158      62             Giovanni Abagnale   M  21.0   198.0    90.0   Italy   \n",
       "11648  6346                    Jrmie Azou   M  27.0   178.0    71.0  France   \n",
       "14871  8025  Thomas Gabriel Jrmie Baroukh   M  28.0   183.0    70.0  France   \n",
       "\n",
       "       NOC        Games  Year  Season            City   Sport  \\\n",
       "158    ITA  2016 Summer  2016  Summer  Rio de Janeiro  Rowing   \n",
       "11648  FRA  2016 Summer  2016  Summer  Rio de Janeiro  Rowing   \n",
       "14871  FRA  2016 Summer  2016  Summer  Rio de Janeiro  Rowing   \n",
       "\n",
       "                                        Event   Medal  \n",
       "158                Rowing Men's Coxless Pairs  Bronze  \n",
       "11648  Rowing Men's Lightweight Double Sculls    Gold  \n",
       "14871  Rowing Men's Lightweight Coxless Fours  Bronze  "
      ]
     },
     "execution_count": 19,
     "metadata": {},
     "output_type": "execute_result"
    }
   ],
   "source": [
    "mens_rowing.head(3)"
   ]
  },
  {
   "cell_type": "code",
   "execution_count": 20,
   "id": "652f6268",
   "metadata": {},
   "outputs": [
    {
     "data": {
      "image/png": "[encoded data removed]",
      "text/plain": [
       "<Figure size 432x288 with 1 Axes>"
      ]
     },
     "metadata": {
      "needs_background": "light"
     },
     "output_type": "display_data"
    }
   ],
   "source": [
    "fig, ax = plt.subplots()\n",
    "# Plot a histogram of \"Weight\" for mens_rowing\n",
    "ax.hist(mens_rowing[\"Weight\"])\n",
    "\n",
    "# Compare to histogram of \"Weight\" for mens_gymnastics\n",
    "ax.hist(mens_gymnastics[\"Weight\"])\n",
    "\n",
    "# Set the x-axis label to \"Weight (kg)\"\n",
    "ax.set_xlabel(\"Weight (kg)\")\n",
    "\n",
    "# Set the y-axis label to \"# of observations\"\n",
    "ax.set_ylabel(\"# of observations\")\n",
    "\n",
    "plt.show()"
   ]
  },
  {
   "cell_type": "markdown",
   "id": "33301604",
   "metadata": {},
   "source": [
    "## \"Step\" histogram"
   ]
  },
  {
   "cell_type": "code",
   "execution_count": 21,
   "id": "671d458a",
   "metadata": {},
   "outputs": [
    {
     "data": {
      "image/png": "[encoded data removed]",
      "text/plain": [
       "<Figure size 432x288 with 1 Axes>"
      ]
     },
     "metadata": {
      "needs_background": "light"
     },
     "output_type": "display_data"
    }
   ],
   "source": [
    "fig, ax = plt.subplots()\n",
    "\n",
    "# Plot a histogram of \"Weight\" for mens_rowing\n",
    "ax.hist(mens_rowing[\"Weight\"], label=\"Rowing\", bins=5, histtype='step')\n",
    "\n",
    "# Compare to histogram of \"Weight\" for mens_gymnastics\n",
    "ax.hist(mens_gymnastics[\"Weight\"], label=\"Gymnastics\", bins=5, histtype='step')\n",
    "\n",
    "ax.set_xlabel(\"Weight (kg)\")\n",
    "ax.set_ylabel(\"# of observations\")\n",
    "\n",
    "# Add the legend and show the Figure\n",
    "ax.legend()\n",
    "plt.show()"
   ]
  },
  {
   "cell_type": "markdown",
   "id": "8749d74b",
   "metadata": {},
   "source": [
    "# Statistical plotting"
   ]
  },
  {
   "cell_type": "markdown",
   "id": "27fb6ad0",
   "metadata": {},
   "source": [
    "## Adding error-bars to a bar chart"
   ]
  },
  {
   "cell_type": "code",
   "execution_count": 22,
   "id": "d661efb8",
   "metadata": {},
   "outputs": [
    {
     "data": {
      "image/png": "[encoded data removed]",
      "text/plain": [
       "<Figure size 432x288 with 1 Axes>"
      ]
     },
     "metadata": {
      "needs_background": "light"
     },
     "output_type": "display_data"
    }
   ],
   "source": [
    "fig, ax = plt.subplots()\n",
    "\n",
    "# Add a bar for the rowing \"Height\" column mean/std\n",
    "ax.bar(\"Rowing\", mens_rowing[\"Height\"].mean(), yerr=mens_rowing[\"Height\"].std())\n",
    "\n",
    "# Add a bar for the gymnastics \"Height\" column mean/std\n",
    "ax.bar(\"Gymnastics\", mens_gymnastics[\"Height\"].mean(), yerr=mens_gymnastics[\"Height\"].std())\n",
    "\n",
    "# Label the y-axis\n",
    "ax.set_ylabel(\"Height (cm)\")\n",
    "\n",
    "plt.show()"
   ]
  },
  {
   "cell_type": "markdown",
   "id": "8c10741a",
   "metadata": {},
   "source": [
    "## Adding error-bars to a plot"
   ]
  },
  {
   "cell_type": "code",
   "execution_count": 25,
   "id": "cfc9e0db",
   "metadata": {},
   "outputs": [],
   "source": [
    "seattle_weather = pd.read_csv(\"data/seattle_weather.csv\", index_col=\"DATE\")\n",
    "austin_weather = pd.read_csv(\"data/austin_weather.csv\", index_col=\"DATE\")\n",
    "\n",
    "seattle_weather['MONTH'] = pd.to_datetime(seattle_weather.index, format='%m').month_name().str.slice(stop=3)\n",
    "austin_weather['MONTH'] = pd.to_datetime(austin_weather.index, format='%m').month_name().str.slice(stop=3)\n",
    "\n",
    "\n",
    "seattle_weather = seattle_weather[seattle_weather['STATION'] == 'USW00094290']"
   ]
  },
  {
   "cell_type": "code",
   "execution_count": 26,
   "id": "9bd648b2",
   "metadata": {
    "scrolled": true
   },
   "outputs": [
    {
     "data": {
      "text/html": [
       "<div>\n",
       "<style scoped>\n",
       "    .dataframe tbody tr th:only-of-type {\n",
       "        vertical-align: middle;\n",
       "    }\n",
       "\n",
       "    .dataframe tbody tr th {\n",
       "        vertical-align: top;\n",
       "    }\n",
       "\n",
       "    .dataframe thead th {\n",
       "        text-align: right;\n",
       "    }\n",
       "</style>\n",
       "<table border=\"1\" class=\"dataframe\">\n",
       "  <thead>\n",
       "    <tr style=\"text-align: right;\">\n",
       "      <th></th>\n",
       "      <th>STATION</th>\n",
       "      <th>NAME</th>\n",
       "      <th>MLY-CLDD-BASE45</th>\n",
       "      <th>MLY-CLDD-BASE50</th>\n",
       "      <th>MLY-CLDD-BASE55</th>\n",
       "      <th>MLY-CLDD-BASE57</th>\n",
       "      <th>MLY-CLDD-BASE60</th>\n",
       "      <th>MLY-CLDD-BASE70</th>\n",
       "      <th>MLY-CLDD-BASE72</th>\n",
       "      <th>MLY-CLDD-NORMAL</th>\n",
       "      <th>...</th>\n",
       "      <th>MLY-TMIN-AVGNDS-LSTH070</th>\n",
       "      <th>MLY-TMIN-NORMAL</th>\n",
       "      <th>MLY-TMIN-PRBOCC-LSTH016</th>\n",
       "      <th>MLY-TMIN-PRBOCC-LSTH020</th>\n",
       "      <th>MLY-TMIN-PRBOCC-LSTH024</th>\n",
       "      <th>MLY-TMIN-PRBOCC-LSTH028</th>\n",
       "      <th>MLY-TMIN-PRBOCC-LSTH032</th>\n",
       "      <th>MLY-TMIN-PRBOCC-LSTH036</th>\n",
       "      <th>MLY-TMIN-STDDEV</th>\n",
       "      <th>MONTH</th>\n",
       "    </tr>\n",
       "    <tr>\n",
       "      <th>DATE</th>\n",
       "      <th></th>\n",
       "      <th></th>\n",
       "      <th></th>\n",
       "      <th></th>\n",
       "      <th></th>\n",
       "      <th></th>\n",
       "      <th></th>\n",
       "      <th></th>\n",
       "      <th></th>\n",
       "      <th></th>\n",
       "      <th></th>\n",
       "      <th></th>\n",
       "      <th></th>\n",
       "      <th></th>\n",
       "      <th></th>\n",
       "      <th></th>\n",
       "      <th></th>\n",
       "      <th></th>\n",
       "      <th></th>\n",
       "      <th></th>\n",
       "      <th></th>\n",
       "    </tr>\n",
       "  </thead>\n",
       "  <tbody>\n",
       "    <tr>\n",
       "      <th>1</th>\n",
       "      <td>USW00094290</td>\n",
       "      <td>SEATTLE SAND PT WSFO, WA US</td>\n",
       "      <td>27.0</td>\n",
       "      <td>3.0</td>\n",
       "      <td>-7777.0</td>\n",
       "      <td>-7777.0</td>\n",
       "      <td>0.0</td>\n",
       "      <td>0.0</td>\n",
       "      <td>0.0</td>\n",
       "      <td>0.0</td>\n",
       "      <td>...</td>\n",
       "      <td>310.0</td>\n",
       "      <td>37.0</td>\n",
       "      <td>64.0</td>\n",
       "      <td>129.0</td>\n",
       "      <td>317.0</td>\n",
       "      <td>709.0</td>\n",
       "      <td>959.0</td>\n",
       "      <td>1000.0</td>\n",
       "      <td>2.3</td>\n",
       "      <td>Jan</td>\n",
       "    </tr>\n",
       "    <tr>\n",
       "      <th>2</th>\n",
       "      <td>USW00094290</td>\n",
       "      <td>SEATTLE SAND PT WSFO, WA US</td>\n",
       "      <td>31.0</td>\n",
       "      <td>3.0</td>\n",
       "      <td>-7777.0</td>\n",
       "      <td>-7777.0</td>\n",
       "      <td>0.0</td>\n",
       "      <td>0.0</td>\n",
       "      <td>0.0</td>\n",
       "      <td>0.0</td>\n",
       "      <td>...</td>\n",
       "      <td>280.0</td>\n",
       "      <td>36.9</td>\n",
       "      <td>15.0</td>\n",
       "      <td>76.0</td>\n",
       "      <td>273.0</td>\n",
       "      <td>616.0</td>\n",
       "      <td>917.0</td>\n",
       "      <td>1000.0</td>\n",
       "      <td>2.6</td>\n",
       "      <td>Feb</td>\n",
       "    </tr>\n",
       "  </tbody>\n",
       "</table>\n",
       "<p>2 rows × 80 columns</p>\n",
       "</div>"
      ],
      "text/plain": [
       "          STATION                         NAME  MLY-CLDD-BASE45  \\\n",
       "DATE                                                              \n",
       "1     USW00094290  SEATTLE SAND PT WSFO, WA US             27.0   \n",
       "2     USW00094290  SEATTLE SAND PT WSFO, WA US             31.0   \n",
       "\n",
       "      MLY-CLDD-BASE50  MLY-CLDD-BASE55  MLY-CLDD-BASE57  MLY-CLDD-BASE60  \\\n",
       "DATE                                                                       \n",
       "1                 3.0          -7777.0          -7777.0              0.0   \n",
       "2                 3.0          -7777.0          -7777.0              0.0   \n",
       "\n",
       "      MLY-CLDD-BASE70  MLY-CLDD-BASE72  MLY-CLDD-NORMAL  ...  \\\n",
       "DATE                                                     ...   \n",
       "1                 0.0              0.0              0.0  ...   \n",
       "2                 0.0              0.0              0.0  ...   \n",
       "\n",
       "      MLY-TMIN-AVGNDS-LSTH070  MLY-TMIN-NORMAL  MLY-TMIN-PRBOCC-LSTH016  \\\n",
       "DATE                                                                      \n",
       "1                       310.0             37.0                     64.0   \n",
       "2                       280.0             36.9                     15.0   \n",
       "\n",
       "      MLY-TMIN-PRBOCC-LSTH020  MLY-TMIN-PRBOCC-LSTH024  \\\n",
       "DATE                                                     \n",
       "1                       129.0                    317.0   \n",
       "2                        76.0                    273.0   \n",
       "\n",
       "      MLY-TMIN-PRBOCC-LSTH028  MLY-TMIN-PRBOCC-LSTH032  \\\n",
       "DATE                                                     \n",
       "1                       709.0                    959.0   \n",
       "2                       616.0                    917.0   \n",
       "\n",
       "      MLY-TMIN-PRBOCC-LSTH036  MLY-TMIN-STDDEV  MONTH  \n",
       "DATE                                                   \n",
       "1                      1000.0              2.3    Jan  \n",
       "2                      1000.0              2.6    Feb  \n",
       "\n",
       "[2 rows x 80 columns]"
      ]
     },
     "execution_count": 26,
     "metadata": {},
     "output_type": "execute_result"
    }
   ],
   "source": [
    "seattle_weather.head(2)"
   ]
  },
  {
   "cell_type": "code",
   "execution_count": 27,
   "id": "8bef0f42",
   "metadata": {},
   "outputs": [
    {
     "data": {
      "image/png": "[encoded data removed]",
      "text/plain": [
       "<Figure size 432x288 with 1 Axes>"
      ]
     },
     "metadata": {
      "needs_background": "light"
     },
     "output_type": "display_data"
    }
   ],
   "source": [
    "fig, ax = plt.subplots()\n",
    "\n",
    "# Add Seattle temperature data in each month with error bars\n",
    "ax.errorbar(seattle_weather[\"MONTH\"], seattle_weather[\"MLY-TAVG-NORMAL\"],\n",
    "yerr = seattle_weather[\"MLY-TAVG-STDDEV\"])\n",
    "\n",
    "# Add Austin temperature data in each month with error bars\n",
    "ax.errorbar(austin_weather[\"MONTH\"], austin_weather[\"MLY-TAVG-NORMAL\"],\n",
    "yerr = austin_weather[\"MLY-TAVG-STDDEV\"])\n",
    "\n",
    "# Set the y-axis label\n",
    "ax.set_ylabel('Temperature (Fahrenheit)')\n",
    "\n",
    "plt.show()"
   ]
  },
  {
   "cell_type": "markdown",
   "id": "f8f7ff40",
   "metadata": {},
   "source": [
    "# Creating boxplots"
   ]
  },
  {
   "cell_type": "code",
   "execution_count": 28,
   "id": "50d32733",
   "metadata": {},
   "outputs": [
    {
     "data": {
      "text/html": [
       "<div>\n",
       "<style scoped>\n",
       "    .dataframe tbody tr th:only-of-type {\n",
       "        vertical-align: middle;\n",
       "    }\n",
       "\n",
       "    .dataframe tbody tr th {\n",
       "        vertical-align: top;\n",
       "    }\n",
       "\n",
       "    .dataframe thead th {\n",
       "        text-align: right;\n",
       "    }\n",
       "</style>\n",
       "<table border=\"1\" class=\"dataframe\">\n",
       "  <thead>\n",
       "    <tr style=\"text-align: right;\">\n",
       "      <th></th>\n",
       "      <th>ID</th>\n",
       "      <th>Name</th>\n",
       "      <th>Sex</th>\n",
       "      <th>Age</th>\n",
       "      <th>Height</th>\n",
       "      <th>Weight</th>\n",
       "      <th>Team</th>\n",
       "      <th>NOC</th>\n",
       "      <th>Games</th>\n",
       "      <th>Year</th>\n",
       "      <th>Season</th>\n",
       "      <th>City</th>\n",
       "      <th>Sport</th>\n",
       "      <th>Event</th>\n",
       "      <th>Medal</th>\n",
       "    </tr>\n",
       "  </thead>\n",
       "  <tbody>\n",
       "    <tr>\n",
       "      <th>158</th>\n",
       "      <td>62</td>\n",
       "      <td>Giovanni Abagnale</td>\n",
       "      <td>M</td>\n",
       "      <td>21.0</td>\n",
       "      <td>198.0</td>\n",
       "      <td>90.0</td>\n",
       "      <td>Italy</td>\n",
       "      <td>ITA</td>\n",
       "      <td>2016 Summer</td>\n",
       "      <td>2016</td>\n",
       "      <td>Summer</td>\n",
       "      <td>Rio de Janeiro</td>\n",
       "      <td>Rowing</td>\n",
       "      <td>Rowing Men's Coxless Pairs</td>\n",
       "      <td>Bronze</td>\n",
       "    </tr>\n",
       "    <tr>\n",
       "      <th>11648</th>\n",
       "      <td>6346</td>\n",
       "      <td>Jrmie Azou</td>\n",
       "      <td>M</td>\n",
       "      <td>27.0</td>\n",
       "      <td>178.0</td>\n",
       "      <td>71.0</td>\n",
       "      <td>France</td>\n",
       "      <td>FRA</td>\n",
       "      <td>2016 Summer</td>\n",
       "      <td>2016</td>\n",
       "      <td>Summer</td>\n",
       "      <td>Rio de Janeiro</td>\n",
       "      <td>Rowing</td>\n",
       "      <td>Rowing Men's Lightweight Double Sculls</td>\n",
       "      <td>Gold</td>\n",
       "    </tr>\n",
       "    <tr>\n",
       "      <th>14871</th>\n",
       "      <td>8025</td>\n",
       "      <td>Thomas Gabriel Jrmie Baroukh</td>\n",
       "      <td>M</td>\n",
       "      <td>28.0</td>\n",
       "      <td>183.0</td>\n",
       "      <td>70.0</td>\n",
       "      <td>France</td>\n",
       "      <td>FRA</td>\n",
       "      <td>2016 Summer</td>\n",
       "      <td>2016</td>\n",
       "      <td>Summer</td>\n",
       "      <td>Rio de Janeiro</td>\n",
       "      <td>Rowing</td>\n",
       "      <td>Rowing Men's Lightweight Coxless Fours</td>\n",
       "      <td>Bronze</td>\n",
       "    </tr>\n",
       "  </tbody>\n",
       "</table>\n",
       "</div>"
      ],
      "text/plain": [
       "         ID                          Name Sex   Age  Height  Weight    Team  \\\n",
       "158      62             Giovanni Abagnale   M  21.0   198.0    90.0   Italy   \n",
       "11648  6346                    Jrmie Azou   M  27.0   178.0    71.0  France   \n",
       "14871  8025  Thomas Gabriel Jrmie Baroukh   M  28.0   183.0    70.0  France   \n",
       "\n",
       "       NOC        Games  Year  Season            City   Sport  \\\n",
       "158    ITA  2016 Summer  2016  Summer  Rio de Janeiro  Rowing   \n",
       "11648  FRA  2016 Summer  2016  Summer  Rio de Janeiro  Rowing   \n",
       "14871  FRA  2016 Summer  2016  Summer  Rio de Janeiro  Rowing   \n",
       "\n",
       "                                        Event   Medal  \n",
       "158                Rowing Men's Coxless Pairs  Bronze  \n",
       "11648  Rowing Men's Lightweight Double Sculls    Gold  \n",
       "14871  Rowing Men's Lightweight Coxless Fours  Bronze  "
      ]
     },
     "execution_count": 28,
     "metadata": {},
     "output_type": "execute_result"
    }
   ],
   "source": [
    "mens_rowing.head(3)"
   ]
  },
  {
   "cell_type": "code",
   "execution_count": 40,
   "id": "4e0c5ccf",
   "metadata": {},
   "outputs": [
    {
     "data": {
      "image/png": "[encoded data removed]",
      "text/plain": [
       "<Figure size 432x288 with 1 Axes>"
      ]
     },
     "metadata": {
      "needs_background": "light"
     },
     "output_type": "display_data"
    }
   ],
   "source": [
    "fig, ax = plt.subplots()\n",
    "\n",
    "ax.boxplot([mens_rowing[\"Height\"], mens_gymnastics[\"Height\"]])\n",
    "\n",
    "ax.set_xticklabels([\"Rowing\", \"Gymnastics\"])\n",
    "\n",
    "ax.set_ylabel(\"Height (cm)\")\n",
    "plt.show()"
   ]
  },
  {
   "cell_type": "markdown",
   "id": "0622b252",
   "metadata": {},
   "source": [
    "# Quantitative comparisons"
   ]
  },
  {
   "cell_type": "markdown",
   "id": "f4226f7e",
   "metadata": {},
   "source": [
    "## scatter plots"
   ]
  },
  {
   "cell_type": "code",
   "execution_count": 45,
   "id": "9c0fb335",
   "metadata": {},
   "outputs": [],
   "source": [
    "climate_change = pd.read_csv(\"data/climate_change.csv\", index_col = [\"date\"], parse_dates=[\"date\"])"
   ]
  },
  {
   "cell_type": "code",
   "execution_count": 46,
   "id": "23042ac6",
   "metadata": {},
   "outputs": [
    {
     "data": {
      "text/html": [
       "<div>\n",
       "<style scoped>\n",
       "    .dataframe tbody tr th:only-of-type {\n",
       "        vertical-align: middle;\n",
       "    }\n",
       "\n",
       "    .dataframe tbody tr th {\n",
       "        vertical-align: top;\n",
       "    }\n",
       "\n",
       "    .dataframe thead th {\n",
       "        text-align: right;\n",
       "    }\n",
       "</style>\n",
       "<table border=\"1\" class=\"dataframe\">\n",
       "  <thead>\n",
       "    <tr style=\"text-align: right;\">\n",
       "      <th></th>\n",
       "      <th>co2</th>\n",
       "      <th>relative_temp</th>\n",
       "    </tr>\n",
       "    <tr>\n",
       "      <th>date</th>\n",
       "      <th></th>\n",
       "      <th></th>\n",
       "    </tr>\n",
       "  </thead>\n",
       "  <tbody>\n",
       "    <tr>\n",
       "      <th>1958-03-06</th>\n",
       "      <td>315.71</td>\n",
       "      <td>0.10</td>\n",
       "    </tr>\n",
       "    <tr>\n",
       "      <th>1958-04-06</th>\n",
       "      <td>317.45</td>\n",
       "      <td>0.01</td>\n",
       "    </tr>\n",
       "    <tr>\n",
       "      <th>1958-05-06</th>\n",
       "      <td>317.50</td>\n",
       "      <td>0.08</td>\n",
       "    </tr>\n",
       "  </tbody>\n",
       "</table>\n",
       "</div>"
      ],
      "text/plain": [
       "               co2  relative_temp\n",
       "date                             \n",
       "1958-03-06  315.71           0.10\n",
       "1958-04-06  317.45           0.01\n",
       "1958-05-06  317.50           0.08"
      ]
     },
     "execution_count": 46,
     "metadata": {},
     "output_type": "execute_result"
    }
   ],
   "source": [
    "climate_change.head(3)"
   ]
  },
  {
   "cell_type": "code",
   "execution_count": 48,
   "id": "3f273f3d",
   "metadata": {},
   "outputs": [
    {
     "data": {
      "image/png": "[encoded data removed]",
      "text/plain": [
       "<Figure size 432x288 with 1 Axes>"
      ]
     },
     "metadata": {
      "needs_background": "light"
     },
     "output_type": "display_data"
    }
   ],
   "source": [
    "fig, ax = plt.subplots()\n",
    "\n",
    "# Add data: \"co2\" on x-axis, \"relative_temp\" on y-axis\n",
    "ax.scatter(x=climate_change[\"co2\"], y=climate_change[\"relative_temp\"])\n",
    "\n",
    "# Set the x-axis label to \"CO2 (ppm)\"\n",
    "ax.set_xlabel(\"CO2 (ppm)\")\n",
    "\n",
    "# Set the y-axis label to \"Relative temperature (C)\"\n",
    "ax.set_ylabel('Relative temperature (C)')\n",
    "\n",
    "plt.show()"
   ]
  },
  {
   "cell_type": "markdown",
   "id": "403aa3d4",
   "metadata": {},
   "source": [
    "## Encoding time by color"
   ]
  },
  {
   "cell_type": "code",
   "execution_count": 49,
   "id": "898a45b2",
   "metadata": {},
   "outputs": [
    {
     "data": {
      "image/png": "[encoded data removed]",
      "text/plain": [
       "<Figure size 432x288 with 1 Axes>"
      ]
     },
     "metadata": {
      "needs_background": "light"
     },
     "output_type": "display_data"
    }
   ],
   "source": [
    "fig, ax = plt.subplots()\n",
    "\n",
    "# Add data: \"co2\", \"relative_temp\" as x-y, index as color\n",
    "ax.scatter(x=climate_change[\"co2\"], y=climate_change[\"relative_temp\"],\n",
    "c=climate_change.index)\n",
    "\n",
    "# Set the x-axis label to \"CO2 (ppm)\"\n",
    "ax.set_xlabel(\"CO2 (ppm)\")\n",
    "\n",
    "# Set the y-axis label to \"Relative temperature (C)\"\n",
    "ax.set_ylabel('Relative temperature (C)')\n",
    "\n",
    "plt.show()"
   ]
  },
  {
   "cell_type": "code",
   "execution_count": null,
   "id": "6b5de53b",
   "metadata": {},
   "outputs": [],
   "source": []
  }
 ],
 "metadata": {
  "kernelspec": {
   "display_name": "Python 3 (ipykernel)",
   "language": "python",
   "name": "python3"
  },
  "language_info": {
   "codemirror_mode": {
    "name": "ipython",
    "version": 3
   },
   "file_extension": ".py",
   "mimetype": "text/x-python",
   "name": "python",
   "nbconvert_exporter": "python",
   "pygments_lexer": "ipython3",
   "version": "3.9.5"
  }
 },
 "nbformat": 4,
 "nbformat_minor": 5
}
